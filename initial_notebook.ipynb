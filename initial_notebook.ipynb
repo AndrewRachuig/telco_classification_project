{
 "cells": [
  {
   "cell_type": "code",
   "execution_count": 1,
   "id": "3d566525",
   "metadata": {},
   "outputs": [],
   "source": [
    "import pandas as pd\n",
    "import numpy as np\n",
    "import scipy.stats as stats\n",
    "import os\n",
    "\n",
    "\n",
    "import matplotlib.pyplot as plt\n",
    "import seaborn as sns\n",
    "\n",
    "from sklearn.model_selection import train_test_split\n",
    "from sklearn.metrics import classification_report, confusion_matrix\n",
    "\n",
    "from sklearn.tree import DecisionTreeClassifier, plot_tree, export_text\n",
    "from sklearn.ensemble import RandomForestClassifier\n",
    "from sklearn.neighbors import KNeighborsClassifier\n",
    "from sklearn.linear_model import LogisticRegression\n"
   ]
  },
  {
   "cell_type": "markdown",
   "id": "cb605833",
   "metadata": {},
   "source": [
    "# Acquire\n",
    "\n",
    "Creating initial functions related to acquisition of the dataset to be used. Using these functions I will build out an acquire.py file that I can use in my final report.\n"
   ]
  },
  {
   "cell_type": "code",
   "execution_count": 2,
   "id": "37ba60df",
   "metadata": {},
   "outputs": [
    {
     "data": {
      "text/html": [
       "<div>\n",
       "<style scoped>\n",
       "    .dataframe tbody tr th:only-of-type {\n",
       "        vertical-align: middle;\n",
       "    }\n",
       "\n",
       "    .dataframe tbody tr th {\n",
       "        vertical-align: top;\n",
       "    }\n",
       "\n",
       "    .dataframe thead th {\n",
       "        text-align: right;\n",
       "    }\n",
       "</style>\n",
       "<table border=\"1\" class=\"dataframe\">\n",
       "  <thead>\n",
       "    <tr style=\"text-align: right;\">\n",
       "      <th></th>\n",
       "      <th>internet_service_type_id</th>\n",
       "      <th>payment_type_id</th>\n",
       "      <th>contract_type_id</th>\n",
       "      <th>customer_id</th>\n",
       "      <th>gender</th>\n",
       "      <th>senior_citizen</th>\n",
       "      <th>partner</th>\n",
       "      <th>dependents</th>\n",
       "      <th>tenure</th>\n",
       "      <th>phone_service</th>\n",
       "      <th>...</th>\n",
       "      <th>tech_support</th>\n",
       "      <th>streaming_tv</th>\n",
       "      <th>streaming_movies</th>\n",
       "      <th>paperless_billing</th>\n",
       "      <th>monthly_charges</th>\n",
       "      <th>total_charges</th>\n",
       "      <th>churn</th>\n",
       "      <th>contract_type</th>\n",
       "      <th>payment_type</th>\n",
       "      <th>internet_service_type</th>\n",
       "    </tr>\n",
       "  </thead>\n",
       "  <tbody>\n",
       "    <tr>\n",
       "      <th>0</th>\n",
       "      <td>1</td>\n",
       "      <td>2</td>\n",
       "      <td>2</td>\n",
       "      <td>0002-ORFBO</td>\n",
       "      <td>Female</td>\n",
       "      <td>0</td>\n",
       "      <td>Yes</td>\n",
       "      <td>Yes</td>\n",
       "      <td>9</td>\n",
       "      <td>Yes</td>\n",
       "      <td>...</td>\n",
       "      <td>Yes</td>\n",
       "      <td>Yes</td>\n",
       "      <td>No</td>\n",
       "      <td>Yes</td>\n",
       "      <td>65.6</td>\n",
       "      <td>593.3</td>\n",
       "      <td>No</td>\n",
       "      <td>One year</td>\n",
       "      <td>Mailed check</td>\n",
       "      <td>DSL</td>\n",
       "    </tr>\n",
       "    <tr>\n",
       "      <th>1</th>\n",
       "      <td>1</td>\n",
       "      <td>2</td>\n",
       "      <td>1</td>\n",
       "      <td>0003-MKNFE</td>\n",
       "      <td>Male</td>\n",
       "      <td>0</td>\n",
       "      <td>No</td>\n",
       "      <td>No</td>\n",
       "      <td>9</td>\n",
       "      <td>Yes</td>\n",
       "      <td>...</td>\n",
       "      <td>No</td>\n",
       "      <td>No</td>\n",
       "      <td>Yes</td>\n",
       "      <td>No</td>\n",
       "      <td>59.9</td>\n",
       "      <td>542.4</td>\n",
       "      <td>No</td>\n",
       "      <td>Month-to-month</td>\n",
       "      <td>Mailed check</td>\n",
       "      <td>DSL</td>\n",
       "    </tr>\n",
       "    <tr>\n",
       "      <th>2</th>\n",
       "      <td>2</td>\n",
       "      <td>1</td>\n",
       "      <td>1</td>\n",
       "      <td>0004-TLHLJ</td>\n",
       "      <td>Male</td>\n",
       "      <td>0</td>\n",
       "      <td>No</td>\n",
       "      <td>No</td>\n",
       "      <td>4</td>\n",
       "      <td>Yes</td>\n",
       "      <td>...</td>\n",
       "      <td>No</td>\n",
       "      <td>No</td>\n",
       "      <td>No</td>\n",
       "      <td>Yes</td>\n",
       "      <td>73.9</td>\n",
       "      <td>280.85</td>\n",
       "      <td>Yes</td>\n",
       "      <td>Month-to-month</td>\n",
       "      <td>Electronic check</td>\n",
       "      <td>Fiber optic</td>\n",
       "    </tr>\n",
       "    <tr>\n",
       "      <th>3</th>\n",
       "      <td>2</td>\n",
       "      <td>1</td>\n",
       "      <td>1</td>\n",
       "      <td>0011-IGKFF</td>\n",
       "      <td>Male</td>\n",
       "      <td>1</td>\n",
       "      <td>Yes</td>\n",
       "      <td>No</td>\n",
       "      <td>13</td>\n",
       "      <td>Yes</td>\n",
       "      <td>...</td>\n",
       "      <td>No</td>\n",
       "      <td>Yes</td>\n",
       "      <td>Yes</td>\n",
       "      <td>Yes</td>\n",
       "      <td>98.0</td>\n",
       "      <td>1237.85</td>\n",
       "      <td>Yes</td>\n",
       "      <td>Month-to-month</td>\n",
       "      <td>Electronic check</td>\n",
       "      <td>Fiber optic</td>\n",
       "    </tr>\n",
       "    <tr>\n",
       "      <th>4</th>\n",
       "      <td>2</td>\n",
       "      <td>2</td>\n",
       "      <td>1</td>\n",
       "      <td>0013-EXCHZ</td>\n",
       "      <td>Female</td>\n",
       "      <td>1</td>\n",
       "      <td>Yes</td>\n",
       "      <td>No</td>\n",
       "      <td>3</td>\n",
       "      <td>Yes</td>\n",
       "      <td>...</td>\n",
       "      <td>Yes</td>\n",
       "      <td>Yes</td>\n",
       "      <td>No</td>\n",
       "      <td>Yes</td>\n",
       "      <td>83.9</td>\n",
       "      <td>267.4</td>\n",
       "      <td>Yes</td>\n",
       "      <td>Month-to-month</td>\n",
       "      <td>Mailed check</td>\n",
       "      <td>Fiber optic</td>\n",
       "    </tr>\n",
       "  </tbody>\n",
       "</table>\n",
       "<p>5 rows × 24 columns</p>\n",
       "</div>"
      ],
      "text/plain": [
       "   internet_service_type_id  payment_type_id  contract_type_id customer_id  \\\n",
       "0                         1                2                 2  0002-ORFBO   \n",
       "1                         1                2                 1  0003-MKNFE   \n",
       "2                         2                1                 1  0004-TLHLJ   \n",
       "3                         2                1                 1  0011-IGKFF   \n",
       "4                         2                2                 1  0013-EXCHZ   \n",
       "\n",
       "   gender  senior_citizen partner dependents  tenure phone_service  ...  \\\n",
       "0  Female               0     Yes        Yes       9           Yes  ...   \n",
       "1    Male               0      No         No       9           Yes  ...   \n",
       "2    Male               0      No         No       4           Yes  ...   \n",
       "3    Male               1     Yes         No      13           Yes  ...   \n",
       "4  Female               1     Yes         No       3           Yes  ...   \n",
       "\n",
       "  tech_support streaming_tv streaming_movies paperless_billing  \\\n",
       "0          Yes          Yes               No               Yes   \n",
       "1           No           No              Yes                No   \n",
       "2           No           No               No               Yes   \n",
       "3           No          Yes              Yes               Yes   \n",
       "4          Yes          Yes               No               Yes   \n",
       "\n",
       "  monthly_charges total_charges churn   contract_type      payment_type  \\\n",
       "0            65.6         593.3    No        One year      Mailed check   \n",
       "1            59.9         542.4    No  Month-to-month      Mailed check   \n",
       "2            73.9        280.85   Yes  Month-to-month  Electronic check   \n",
       "3            98.0       1237.85   Yes  Month-to-month  Electronic check   \n",
       "4            83.9         267.4   Yes  Month-to-month      Mailed check   \n",
       "\n",
       "  internet_service_type  \n",
       "0                   DSL  \n",
       "1                   DSL  \n",
       "2           Fiber optic  \n",
       "3           Fiber optic  \n",
       "4           Fiber optic  \n",
       "\n",
       "[5 rows x 24 columns]"
      ]
     },
     "execution_count": 2,
     "metadata": {},
     "output_type": "execute_result"
    }
   ],
   "source": [
    "def get_telco_data():\n",
    "    ''' This function allows access to the requisite telco dataset. It accesses a local cache of the data if there is a \n",
    "    local copy stored. If no local copy exists, it uses credentials stored in env.py to make a call to the SQL \n",
    "    database, returns the data and then creates a local cached copy in a .csv file so as to not need to query the SQL \n",
    "    database in the future. \n",
    "    \n",
    "    The stored local copy is called telco.csv \n",
    "    \n",
    "    If at any point a fresh copy of the SQL database is needed, the original cached .csv must be deleted.\n",
    "    \n",
    "    The function returns a dataframe of the telco data.\n",
    "    '''\n",
    "    \n",
    "    filename = \"telco.csv\"\n",
    "\n",
    "    if os.path.isfile(filename):\n",
    "        return pd.read_csv(filename)\n",
    "    else:\n",
    "        query = '''\n",
    "        SELECT * \n",
    "        FROM customers\n",
    "        JOIN contract_types USING (contract_type_id)\n",
    "        JOIN payment_types USING (payment_type_id)\n",
    "        JOIN internet_service_types USING (internet_service_type_id);     \n",
    "        '''\n",
    "        url = env.get_db_url('telco_churn')\n",
    "        df = pd.read_sql(query, url)\n",
    "        df.to_csv(filename, index=False)\n",
    "\n",
    "        return df  \n",
    "    \n",
    "df = get_telco_data()\n",
    "df.head()"
   ]
  },
  {
   "cell_type": "code",
   "execution_count": 3,
   "id": "9b567a02",
   "metadata": {},
   "outputs": [
    {
     "data": {
      "text/plain": [
       "(7043, 24)"
      ]
     },
     "execution_count": 3,
     "metadata": {},
     "output_type": "execute_result"
    }
   ],
   "source": [
    "df.shape"
   ]
  },
  {
   "cell_type": "code",
   "execution_count": 4,
   "id": "183448d8",
   "metadata": {},
   "outputs": [
    {
     "name": "stdout",
     "output_type": "stream",
     "text": [
      "<class 'pandas.core.frame.DataFrame'>\n",
      "RangeIndex: 7043 entries, 0 to 7042\n",
      "Data columns (total 24 columns):\n",
      " #   Column                    Non-Null Count  Dtype  \n",
      "---  ------                    --------------  -----  \n",
      " 0   internet_service_type_id  7043 non-null   int64  \n",
      " 1   payment_type_id           7043 non-null   int64  \n",
      " 2   contract_type_id          7043 non-null   int64  \n",
      " 3   customer_id               7043 non-null   object \n",
      " 4   gender                    7043 non-null   object \n",
      " 5   senior_citizen            7043 non-null   int64  \n",
      " 6   partner                   7043 non-null   object \n",
      " 7   dependents                7043 non-null   object \n",
      " 8   tenure                    7043 non-null   int64  \n",
      " 9   phone_service             7043 non-null   object \n",
      " 10  multiple_lines            7043 non-null   object \n",
      " 11  online_security           7043 non-null   object \n",
      " 12  online_backup             7043 non-null   object \n",
      " 13  device_protection         7043 non-null   object \n",
      " 14  tech_support              7043 non-null   object \n",
      " 15  streaming_tv              7043 non-null   object \n",
      " 16  streaming_movies          7043 non-null   object \n",
      " 17  paperless_billing         7043 non-null   object \n",
      " 18  monthly_charges           7043 non-null   float64\n",
      " 19  total_charges             7043 non-null   object \n",
      " 20  churn                     7043 non-null   object \n",
      " 21  contract_type             7043 non-null   object \n",
      " 22  payment_type              7043 non-null   object \n",
      " 23  internet_service_type     7043 non-null   object \n",
      "dtypes: float64(1), int64(5), object(18)\n",
      "memory usage: 1.3+ MB\n"
     ]
    }
   ],
   "source": [
    "df.info()"
   ]
  },
  {
   "cell_type": "code",
   "execution_count": 5,
   "id": "500460f0",
   "metadata": {},
   "outputs": [
    {
     "data": {
      "text/html": [
       "<div>\n",
       "<style scoped>\n",
       "    .dataframe tbody tr th:only-of-type {\n",
       "        vertical-align: middle;\n",
       "    }\n",
       "\n",
       "    .dataframe tbody tr th {\n",
       "        vertical-align: top;\n",
       "    }\n",
       "\n",
       "    .dataframe thead th {\n",
       "        text-align: right;\n",
       "    }\n",
       "</style>\n",
       "<table border=\"1\" class=\"dataframe\">\n",
       "  <thead>\n",
       "    <tr style=\"text-align: right;\">\n",
       "      <th></th>\n",
       "      <th>count</th>\n",
       "      <th>mean</th>\n",
       "      <th>std</th>\n",
       "      <th>min</th>\n",
       "      <th>25%</th>\n",
       "      <th>50%</th>\n",
       "      <th>75%</th>\n",
       "      <th>max</th>\n",
       "    </tr>\n",
       "  </thead>\n",
       "  <tbody>\n",
       "    <tr>\n",
       "      <th>internet_service_type_id</th>\n",
       "      <td>7043.0</td>\n",
       "      <td>1.872923</td>\n",
       "      <td>0.737796</td>\n",
       "      <td>1.00</td>\n",
       "      <td>1.0</td>\n",
       "      <td>2.00</td>\n",
       "      <td>2.00</td>\n",
       "      <td>3.00</td>\n",
       "    </tr>\n",
       "    <tr>\n",
       "      <th>payment_type_id</th>\n",
       "      <td>7043.0</td>\n",
       "      <td>2.315633</td>\n",
       "      <td>1.148907</td>\n",
       "      <td>1.00</td>\n",
       "      <td>1.0</td>\n",
       "      <td>2.00</td>\n",
       "      <td>3.00</td>\n",
       "      <td>4.00</td>\n",
       "    </tr>\n",
       "    <tr>\n",
       "      <th>contract_type_id</th>\n",
       "      <td>7043.0</td>\n",
       "      <td>1.690473</td>\n",
       "      <td>0.833755</td>\n",
       "      <td>1.00</td>\n",
       "      <td>1.0</td>\n",
       "      <td>1.00</td>\n",
       "      <td>2.00</td>\n",
       "      <td>3.00</td>\n",
       "    </tr>\n",
       "    <tr>\n",
       "      <th>senior_citizen</th>\n",
       "      <td>7043.0</td>\n",
       "      <td>0.162147</td>\n",
       "      <td>0.368612</td>\n",
       "      <td>0.00</td>\n",
       "      <td>0.0</td>\n",
       "      <td>0.00</td>\n",
       "      <td>0.00</td>\n",
       "      <td>1.00</td>\n",
       "    </tr>\n",
       "    <tr>\n",
       "      <th>tenure</th>\n",
       "      <td>7043.0</td>\n",
       "      <td>32.371149</td>\n",
       "      <td>24.559481</td>\n",
       "      <td>0.00</td>\n",
       "      <td>9.0</td>\n",
       "      <td>29.00</td>\n",
       "      <td>55.00</td>\n",
       "      <td>72.00</td>\n",
       "    </tr>\n",
       "    <tr>\n",
       "      <th>monthly_charges</th>\n",
       "      <td>7043.0</td>\n",
       "      <td>64.761692</td>\n",
       "      <td>30.090047</td>\n",
       "      <td>18.25</td>\n",
       "      <td>35.5</td>\n",
       "      <td>70.35</td>\n",
       "      <td>89.85</td>\n",
       "      <td>118.75</td>\n",
       "    </tr>\n",
       "  </tbody>\n",
       "</table>\n",
       "</div>"
      ],
      "text/plain": [
       "                           count       mean        std    min   25%    50%  \\\n",
       "internet_service_type_id  7043.0   1.872923   0.737796   1.00   1.0   2.00   \n",
       "payment_type_id           7043.0   2.315633   1.148907   1.00   1.0   2.00   \n",
       "contract_type_id          7043.0   1.690473   0.833755   1.00   1.0   1.00   \n",
       "senior_citizen            7043.0   0.162147   0.368612   0.00   0.0   0.00   \n",
       "tenure                    7043.0  32.371149  24.559481   0.00   9.0  29.00   \n",
       "monthly_charges           7043.0  64.761692  30.090047  18.25  35.5  70.35   \n",
       "\n",
       "                            75%     max  \n",
       "internet_service_type_id   2.00    3.00  \n",
       "payment_type_id            3.00    4.00  \n",
       "contract_type_id           2.00    3.00  \n",
       "senior_citizen             0.00    1.00  \n",
       "tenure                    55.00   72.00  \n",
       "monthly_charges           89.85  118.75  "
      ]
     },
     "execution_count": 5,
     "metadata": {},
     "output_type": "execute_result"
    }
   ],
   "source": [
    "df.describe().T"
   ]
  },
  {
   "cell_type": "code",
   "execution_count": 6,
   "id": "325dc153",
   "metadata": {},
   "outputs": [
    {
     "name": "stdout",
     "output_type": "stream",
     "text": [
      "0002-ORFBO    1\n",
      "6616-AALSR    1\n",
      "6625-UTXEW    1\n",
      "6625-IUTTT    1\n",
      "6625-FLENO    1\n",
      "             ..\n",
      "3352-RICWQ    1\n",
      "3352-ALMCK    1\n",
      "3351-NQLDI    1\n",
      "3351-NGXYI    1\n",
      "9995-HOTOH    1\n",
      "Name: customer_id, Length: 7043, dtype: int64\n",
      "Male      3555\n",
      "Female    3488\n",
      "Name: gender, dtype: int64\n",
      "No     3641\n",
      "Yes    3402\n",
      "Name: partner, dtype: int64\n",
      "No     4933\n",
      "Yes    2110\n",
      "Name: dependents, dtype: int64\n",
      "Yes    6361\n",
      "No      682\n",
      "Name: phone_service, dtype: int64\n",
      "No                  3390\n",
      "Yes                 2971\n",
      "No phone service     682\n",
      "Name: multiple_lines, dtype: int64\n",
      "No                     3498\n",
      "Yes                    2019\n",
      "No internet service    1526\n",
      "Name: online_security, dtype: int64\n",
      "No                     3088\n",
      "Yes                    2429\n",
      "No internet service    1526\n",
      "Name: online_backup, dtype: int64\n",
      "No                     3095\n",
      "Yes                    2422\n",
      "No internet service    1526\n",
      "Name: device_protection, dtype: int64\n",
      "No                     3473\n",
      "Yes                    2044\n",
      "No internet service    1526\n",
      "Name: tech_support, dtype: int64\n",
      "No                     2810\n",
      "Yes                    2707\n",
      "No internet service    1526\n",
      "Name: streaming_tv, dtype: int64\n",
      "No                     2785\n",
      "Yes                    2732\n",
      "No internet service    1526\n",
      "Name: streaming_movies, dtype: int64\n",
      "Yes    4171\n",
      "No     2872\n",
      "Name: paperless_billing, dtype: int64\n",
      "           11\n",
      "20.2       11\n",
      "19.75       9\n",
      "19.9        8\n",
      "20.05       8\n",
      "           ..\n",
      "2387.75     1\n",
      "6302.8      1\n",
      "2058.5      1\n",
      "829.55      1\n",
      "3707.6      1\n",
      "Name: total_charges, Length: 6531, dtype: int64\n",
      "No     5174\n",
      "Yes    1869\n",
      "Name: churn, dtype: int64\n",
      "Month-to-month    3875\n",
      "Two year          1695\n",
      "One year          1473\n",
      "Name: contract_type, dtype: int64\n",
      "Electronic check             2365\n",
      "Mailed check                 1612\n",
      "Bank transfer (automatic)    1544\n",
      "Credit card (automatic)      1522\n",
      "Name: payment_type, dtype: int64\n",
      "Fiber optic    3096\n",
      "DSL            2421\n",
      "None           1526\n",
      "Name: internet_service_type, dtype: int64\n"
     ]
    }
   ],
   "source": [
    "# Small function getting me a value_count of all object columns; this gives me a preliminary look at the data.\n",
    "\n",
    "def obj_val_cnt(df):\n",
    "    for col in df.columns:\n",
    "        if df[col].dtype == 'object':\n",
    "            print(df[col].value_counts(dropna=False))\n",
    "obj_val_cnt(df)"
   ]
  },
  {
   "cell_type": "markdown",
   "id": "c2e1c05f",
   "metadata": {},
   "source": [
    "**Above we see that the total_charges column is treated as an object, I need to fix this and deal with any possible nulls as soon as possible before looking at any of the data.  This is a prepare task that will be done below and added to the prepare.py script.**"
   ]
  },
  {
   "cell_type": "code",
   "execution_count": 7,
   "id": "699ff636",
   "metadata": {},
   "outputs": [
    {
     "data": {
      "text/html": [
       "<div>\n",
       "<style scoped>\n",
       "    .dataframe tbody tr th:only-of-type {\n",
       "        vertical-align: middle;\n",
       "    }\n",
       "\n",
       "    .dataframe tbody tr th {\n",
       "        vertical-align: top;\n",
       "    }\n",
       "\n",
       "    .dataframe thead th {\n",
       "        text-align: right;\n",
       "    }\n",
       "</style>\n",
       "<table border=\"1\" class=\"dataframe\">\n",
       "  <thead>\n",
       "    <tr style=\"text-align: right;\">\n",
       "      <th></th>\n",
       "      <th>count</th>\n",
       "      <th>mean</th>\n",
       "      <th>std</th>\n",
       "      <th>min</th>\n",
       "      <th>25%</th>\n",
       "      <th>50%</th>\n",
       "      <th>75%</th>\n",
       "      <th>max</th>\n",
       "      <th>range</th>\n",
       "    </tr>\n",
       "  </thead>\n",
       "  <tbody>\n",
       "    <tr>\n",
       "      <th>internet_service_type_id</th>\n",
       "      <td>7043.0</td>\n",
       "      <td>1.872923</td>\n",
       "      <td>0.737796</td>\n",
       "      <td>1.00</td>\n",
       "      <td>1.0</td>\n",
       "      <td>2.00</td>\n",
       "      <td>2.00</td>\n",
       "      <td>3.00</td>\n",
       "      <td>2.0</td>\n",
       "    </tr>\n",
       "    <tr>\n",
       "      <th>payment_type_id</th>\n",
       "      <td>7043.0</td>\n",
       "      <td>2.315633</td>\n",
       "      <td>1.148907</td>\n",
       "      <td>1.00</td>\n",
       "      <td>1.0</td>\n",
       "      <td>2.00</td>\n",
       "      <td>3.00</td>\n",
       "      <td>4.00</td>\n",
       "      <td>3.0</td>\n",
       "    </tr>\n",
       "    <tr>\n",
       "      <th>contract_type_id</th>\n",
       "      <td>7043.0</td>\n",
       "      <td>1.690473</td>\n",
       "      <td>0.833755</td>\n",
       "      <td>1.00</td>\n",
       "      <td>1.0</td>\n",
       "      <td>1.00</td>\n",
       "      <td>2.00</td>\n",
       "      <td>3.00</td>\n",
       "      <td>2.0</td>\n",
       "    </tr>\n",
       "    <tr>\n",
       "      <th>senior_citizen</th>\n",
       "      <td>7043.0</td>\n",
       "      <td>0.162147</td>\n",
       "      <td>0.368612</td>\n",
       "      <td>0.00</td>\n",
       "      <td>0.0</td>\n",
       "      <td>0.00</td>\n",
       "      <td>0.00</td>\n",
       "      <td>1.00</td>\n",
       "      <td>1.0</td>\n",
       "    </tr>\n",
       "    <tr>\n",
       "      <th>tenure</th>\n",
       "      <td>7043.0</td>\n",
       "      <td>32.371149</td>\n",
       "      <td>24.559481</td>\n",
       "      <td>0.00</td>\n",
       "      <td>9.0</td>\n",
       "      <td>29.00</td>\n",
       "      <td>55.00</td>\n",
       "      <td>72.00</td>\n",
       "      <td>72.0</td>\n",
       "    </tr>\n",
       "    <tr>\n",
       "      <th>monthly_charges</th>\n",
       "      <td>7043.0</td>\n",
       "      <td>64.761692</td>\n",
       "      <td>30.090047</td>\n",
       "      <td>18.25</td>\n",
       "      <td>35.5</td>\n",
       "      <td>70.35</td>\n",
       "      <td>89.85</td>\n",
       "      <td>118.75</td>\n",
       "      <td>100.5</td>\n",
       "    </tr>\n",
       "  </tbody>\n",
       "</table>\n",
       "</div>"
      ],
      "text/plain": [
       "                           count       mean        std    min   25%    50%  \\\n",
       "internet_service_type_id  7043.0   1.872923   0.737796   1.00   1.0   2.00   \n",
       "payment_type_id           7043.0   2.315633   1.148907   1.00   1.0   2.00   \n",
       "contract_type_id          7043.0   1.690473   0.833755   1.00   1.0   1.00   \n",
       "senior_citizen            7043.0   0.162147   0.368612   0.00   0.0   0.00   \n",
       "tenure                    7043.0  32.371149  24.559481   0.00   9.0  29.00   \n",
       "monthly_charges           7043.0  64.761692  30.090047  18.25  35.5  70.35   \n",
       "\n",
       "                            75%     max  range  \n",
       "internet_service_type_id   2.00    3.00    2.0  \n",
       "payment_type_id            3.00    4.00    3.0  \n",
       "contract_type_id           2.00    3.00    2.0  \n",
       "senior_citizen             0.00    1.00    1.0  \n",
       "tenure                    55.00   72.00   72.0  \n",
       "monthly_charges           89.85  118.75  100.5  "
      ]
     },
     "execution_count": 7,
     "metadata": {},
     "output_type": "execute_result"
    }
   ],
   "source": [
    "# This function gives me a dataframe with summary statistics with range added on the end.\n",
    "\n",
    "def describe_with_range(df):\n",
    "    summary_stats = df.describe().T\n",
    "    summary_stats['range'] = summary_stats['max'] - summary_stats['min']\n",
    "    return summary_stats\n",
    "describe_with_range(df)"
   ]
  },
  {
   "cell_type": "markdown",
   "id": "111f2ed1",
   "metadata": {},
   "source": [
    "# Prepare\n",
    "Doing some initial exploration of the dataframe will allow me to find any data that needs to be changed, converted or transformed for use in the model later.  Some of these functions will go into my prepare.py script."
   ]
  },
  {
   "cell_type": "code",
   "execution_count": 8,
   "id": "c5830f8c",
   "metadata": {},
   "outputs": [],
   "source": [
    "# This follows my discovery above about the total_charges column being an object column.\n",
    "\n",
    "# This finds all \"nulls\" which take the form of an empty space ' ' here since this is an object column, and replaces \n",
    "# them with zeros and then converts the column to a numeric one.\n",
    "\n",
    "df.total_charges.replace(' ', '0', inplace=True)\n",
    "df['total_charges'] = pd.to_numeric(df['total_charges'], errors='coerce')"
   ]
  },
  {
   "cell_type": "code",
   "execution_count": 9,
   "id": "8e063533",
   "metadata": {},
   "outputs": [
    {
     "data": {
      "text/plain": [
       "internet_service_type_id    0\n",
       "payment_type_id             0\n",
       "contract_type_id            0\n",
       "customer_id                 0\n",
       "gender                      0\n",
       "senior_citizen              0\n",
       "partner                     0\n",
       "dependents                  0\n",
       "tenure                      0\n",
       "phone_service               0\n",
       "multiple_lines              0\n",
       "online_security             0\n",
       "online_backup               0\n",
       "device_protection           0\n",
       "tech_support                0\n",
       "streaming_tv                0\n",
       "streaming_movies            0\n",
       "paperless_billing           0\n",
       "monthly_charges             0\n",
       "total_charges               0\n",
       "churn                       0\n",
       "contract_type               0\n",
       "payment_type                0\n",
       "internet_service_type       0\n",
       "dtype: int64"
      ]
     },
     "execution_count": 9,
     "metadata": {},
     "output_type": "execute_result"
    }
   ],
   "source": [
    "# Based on the df.info() above I don't think there are any nulls, but the following will show us if there are.\n",
    "\n",
    "df.isnull().sum()"
   ]
  },
  {
   "cell_type": "code",
   "execution_count": 10,
   "id": "fdf86125",
   "metadata": {},
   "outputs": [
    {
     "data": {
      "text/plain": [
       "(Fiber optic    3096\n",
       " DSL            2421\n",
       " None           1526\n",
       " Name: internet_service_type, dtype: int64,\n",
       " 2    3096\n",
       " 1    2421\n",
       " 3    1526\n",
       " Name: internet_service_type_id, dtype: int64)"
      ]
     },
     "execution_count": 10,
     "metadata": {},
     "output_type": "execute_result"
    }
   ],
   "source": [
    "df.internet_service_type.value_counts(), df.internet_service_type_id.value_counts()"
   ]
  },
  {
   "cell_type": "code",
   "execution_count": 11,
   "id": "dce9cace",
   "metadata": {},
   "outputs": [
    {
     "data": {
      "text/plain": [
       "(1    2365\n",
       " 2    1612\n",
       " 3    1544\n",
       " 4    1522\n",
       " Name: payment_type_id, dtype: int64,\n",
       " Electronic check             2365\n",
       " Mailed check                 1612\n",
       " Bank transfer (automatic)    1544\n",
       " Credit card (automatic)      1522\n",
       " Name: payment_type, dtype: int64)"
      ]
     },
     "execution_count": 11,
     "metadata": {},
     "output_type": "execute_result"
    }
   ],
   "source": [
    "df.payment_type_id.value_counts(), df.payment_type.value_counts()"
   ]
  },
  {
   "cell_type": "code",
   "execution_count": 12,
   "id": "88b5e744",
   "metadata": {},
   "outputs": [
    {
     "data": {
      "text/plain": [
       "(1    3875\n",
       " 3    1695\n",
       " 2    1473\n",
       " Name: contract_type_id, dtype: int64,\n",
       " Month-to-month    3875\n",
       " Two year          1695\n",
       " One year          1473\n",
       " Name: contract_type, dtype: int64)"
      ]
     },
     "execution_count": 12,
     "metadata": {},
     "output_type": "execute_result"
    }
   ],
   "source": [
    "df.contract_type_id.value_counts(), df.contract_type.value_counts()"
   ]
  },
  {
   "cell_type": "code",
   "execution_count": 13,
   "id": "42b42169",
   "metadata": {},
   "outputs": [
    {
     "data": {
      "text/plain": [
       "(Yes    6361\n",
       " No      682\n",
       " Name: phone_service, dtype: int64,\n",
       " No                  3390\n",
       " Yes                 2971\n",
       " No phone service     682\n",
       " Name: multiple_lines, dtype: int64)"
      ]
     },
     "execution_count": 13,
     "metadata": {},
     "output_type": "execute_result"
    }
   ],
   "source": [
    "df.phone_service.value_counts(), df.multiple_lines.value_counts()"
   ]
  },
  {
   "cell_type": "code",
   "execution_count": 14,
   "id": "fac03d35",
   "metadata": {},
   "outputs": [
    {
     "data": {
      "text/plain": [
       "No    682\n",
       "Name: phone_service, dtype: int64"
      ]
     },
     "execution_count": 14,
     "metadata": {},
     "output_type": "execute_result"
    }
   ],
   "source": [
    "df[(df.phone_service == 'No') & (df.multiple_lines == 'No phone service')].phone_service.value_counts()"
   ]
  },
  {
   "cell_type": "code",
   "execution_count": 15,
   "id": "14f48ff4",
   "metadata": {},
   "outputs": [],
   "source": [
    "# From the above 4 cells we see that the columns internet_service_type, payment_type, and contract_type all correspond\n",
    "# direclty to internet_service_type_id, payment_type_id, and contract_type_id; additionally, the information in the \n",
    "# phone_service column is 100% reproduced with ADDITIONAL info in the multiple_lines column.  Thus I will be dropping \n",
    "# internet_service_type_id, payment_type_id, contract_type_id, and phone_service as redundant columns.\n",
    "\n",
    "df.drop(columns = ['internet_service_type_id', 'payment_type_id', 'contract_type_id', 'phone_service'], inplace=True)"
   ]
  },
  {
   "cell_type": "code",
   "execution_count": 16,
   "id": "05fa88e0",
   "metadata": {},
   "outputs": [
    {
     "data": {
      "image/png": "[encoded data removed]",
      "text/plain": [
       "<Figure size 432x288 with 1 Axes>"
      ]
     },
     "metadata": {
      "needs_background": "light"
     },
     "output_type": "display_data"
    },
    {
     "name": "stdout",
     "output_type": "stream",
     "text": [
      "Count of variables in customer_id: \n",
      "0002-ORFBO    1\n",
      "6616-AALSR    1\n",
      "6625-UTXEW    1\n",
      "6625-IUTTT    1\n",
      "6625-FLENO    1\n",
      "             ..\n",
      "3352-RICWQ    1\n",
      "3352-ALMCK    1\n",
      "3351-NQLDI    1\n",
      "3351-NGXYI    1\n",
      "9995-HOTOH    1\n",
      "Name: customer_id, Length: 7043, dtype: int64\n",
      "--------------------\n"
     ]
    },
    {
     "data": {
      "image/png": "[encoded data removed]",
      "text/plain": [
       "<Figure size 432x288 with 1 Axes>"
      ]
     },
     "metadata": {
      "needs_background": "light"
     },
     "output_type": "display_data"
    },
    {
     "name": "stdout",
     "output_type": "stream",
     "text": [
      "Count of variables in gender: \n",
      "Male      3555\n",
      "Female    3488\n",
      "Name: gender, dtype: int64\n",
      "--------------------\n"
     ]
    },
    {
     "data": {
      "image/png": "[encoded data removed]",
      "text/plain": [
       "<Figure size 432x288 with 1 Axes>"
      ]
     },
     "metadata": {
      "needs_background": "light"
     },
     "output_type": "display_data"
    },
    {
     "name": "stdout",
     "output_type": "stream",
     "text": [
      "Count of variables in partner: \n",
      "No     3641\n",
      "Yes    3402\n",
      "Name: partner, dtype: int64\n",
      "--------------------\n"
     ]
    },
    {
     "data": {
      "image/png": "[encoded data removed]",
      "text/plain": [
       "<Figure size 432x288 with 1 Axes>"
      ]
     },
     "metadata": {
      "needs_background": "light"
     },
     "output_type": "display_data"
    },
    {
     "name": "stdout",
     "output_type": "stream",
     "text": [
      "Count of variables in dependents: \n",
      "No     4933\n",
      "Yes    2110\n",
      "Name: dependents, dtype: int64\n",
      "--------------------\n"
     ]
    },
    {
     "data": {
      "image/png": "[encoded data removed]",
      "text/plain": [
       "<Figure size 432x288 with 1 Axes>"
      ]
     },
     "metadata": {
      "needs_background": "light"
     },
     "output_type": "display_data"
    },
    {
     "name": "stdout",
     "output_type": "stream",
     "text": [
      "Count of variables in multiple_lines: \n",
      "No                  3390\n",
      "Yes                 2971\n",
      "No phone service     682\n",
      "Name: multiple_lines, dtype: int64\n",
      "--------------------\n"
     ]
    },
    {
     "data": {
      "image/png": "[encoded data removed]",
      "text/plain": [
       "<Figure size 432x288 with 1 Axes>"
      ]
     },
     "metadata": {
      "needs_background": "light"
     },
     "output_type": "display_data"
    },
    {
     "name": "stdout",
     "output_type": "stream",
     "text": [
      "Count of variables in online_security: \n",
      "No                     3498\n",
      "Yes                    2019\n",
      "No internet service    1526\n",
      "Name: online_security, dtype: int64\n",
      "--------------------\n"
     ]
    },
    {
     "data": {
      "image/png": "[encoded data removed]",
      "text/plain": [
       "<Figure size 432x288 with 1 Axes>"
      ]
     },
     "metadata": {
      "needs_background": "light"
     },
     "output_type": "display_data"
    },
    {
     "name": "stdout",
     "output_type": "stream",
     "text": [
      "Count of variables in online_backup: \n",
      "No                     3088\n",
      "Yes                    2429\n",
      "No internet service    1526\n",
      "Name: online_backup, dtype: int64\n",
      "--------------------\n"
     ]
    },
    {
     "data": {
      "image/png": "[encoded data removed]",
      "text/plain": [
       "<Figure size 432x288 with 1 Axes>"
      ]
     },
     "metadata": {
      "needs_background": "light"
     },
     "output_type": "display_data"
    },
    {
     "name": "stdout",
     "output_type": "stream",
     "text": [
      "Count of variables in device_protection: \n",
      "No                     3095\n",
      "Yes                    2422\n",
      "No internet service    1526\n",
      "Name: device_protection, dtype: int64\n",
      "--------------------\n"
     ]
    },
    {
     "data": {
      "image/png": "[encoded data removed]",
      "text/plain": [
       "<Figure size 432x288 with 1 Axes>"
      ]
     },
     "metadata": {
      "needs_background": "light"
     },
     "output_type": "display_data"
    },
    {
     "name": "stdout",
     "output_type": "stream",
     "text": [
      "Count of variables in tech_support: \n",
      "No                     3473\n",
      "Yes                    2044\n",
      "No internet service    1526\n",
      "Name: tech_support, dtype: int64\n",
      "--------------------\n"
     ]
    },
    {
     "data": {
      "image/png": "[encoded data removed]",
      "text/plain": [
       "<Figure size 432x288 with 1 Axes>"
      ]
     },
     "metadata": {
      "needs_background": "light"
     },
     "output_type": "display_data"
    },
    {
     "name": "stdout",
     "output_type": "stream",
     "text": [
      "Count of variables in streaming_tv: \n",
      "No                     2810\n",
      "Yes                    2707\n",
      "No internet service    1526\n",
      "Name: streaming_tv, dtype: int64\n",
      "--------------------\n"
     ]
    },
    {
     "data": {
      "image/png": "[encoded data removed]",
      "text/plain": [
       "<Figure size 432x288 with 1 Axes>"
      ]
     },
     "metadata": {
      "needs_background": "light"
     },
     "output_type": "display_data"
    },
    {
     "name": "stdout",
     "output_type": "stream",
     "text": [
      "Count of variables in streaming_movies: \n",
      "No                     2785\n",
      "Yes                    2732\n",
      "No internet service    1526\n",
      "Name: streaming_movies, dtype: int64\n",
      "--------------------\n"
     ]
    },
    {
     "data": {
      "image/png": "[encoded data removed]",
      "text/plain": [
       "<Figure size 432x288 with 1 Axes>"
      ]
     },
     "metadata": {
      "needs_background": "light"
     },
     "output_type": "display_data"
    },
    {
     "name": "stdout",
     "output_type": "stream",
     "text": [
      "Count of variables in paperless_billing: \n",
      "Yes    4171\n",
      "No     2872\n",
      "Name: paperless_billing, dtype: int64\n",
      "--------------------\n"
     ]
    },
    {
     "data": {
      "image/png": "[encoded data removed]",
      "text/plain": [
       "<Figure size 432x288 with 1 Axes>"
      ]
     },
     "metadata": {
      "needs_background": "light"
     },
     "output_type": "display_data"
    },
    {
     "name": "stdout",
     "output_type": "stream",
     "text": [
      "Count of variables in churn: \n",
      "No     5174\n",
      "Yes    1869\n",
      "Name: churn, dtype: int64\n",
      "--------------------\n"
     ]
    },
    {
     "data": {
      "image/png": "[encoded data removed]",
      "text/plain": [
       "<Figure size 432x288 with 1 Axes>"
      ]
     },
     "metadata": {
      "needs_background": "light"
     },
     "output_type": "display_data"
    },
    {
     "name": "stdout",
     "output_type": "stream",
     "text": [
      "Count of variables in contract_type: \n",
      "Month-to-month    3875\n",
      "Two year          1695\n",
      "One year          1473\n",
      "Name: contract_type, dtype: int64\n",
      "--------------------\n"
     ]
    },
    {
     "data": {
      "image/png": "[encoded data removed]",
      "text/plain": [
       "<Figure size 432x288 with 1 Axes>"
      ]
     },
     "metadata": {
      "needs_background": "light"
     },
     "output_type": "display_data"
    },
    {
     "name": "stdout",
     "output_type": "stream",
     "text": [
      "Count of variables in payment_type: \n",
      "Electronic check             2365\n",
      "Mailed check                 1612\n",
      "Bank transfer (automatic)    1544\n",
      "Credit card (automatic)      1522\n",
      "Name: payment_type, dtype: int64\n",
      "--------------------\n"
     ]
    },
    {
     "data": {
      "image/png": "[encoded data removed]",
      "text/plain": [
       "<Figure size 432x288 with 1 Axes>"
      ]
     },
     "metadata": {
      "needs_background": "light"
     },
     "output_type": "display_data"
    },
    {
     "name": "stdout",
     "output_type": "stream",
     "text": [
      "Count of variables in internet_service_type: \n",
      "Fiber optic    3096\n",
      "DSL            2421\n",
      "None           1526\n",
      "Name: internet_service_type, dtype: int64\n",
      "--------------------\n"
     ]
    }
   ],
   "source": [
    "# Getting histograms for each of the categorical columns in the telco dataset.  This will give me a good sense of how \n",
    "# each categorical column is shaped.\n",
    "\n",
    "cat_cols = df.select_dtypes('object').columns\n",
    "\n",
    "for col in cat_cols:\n",
    "    sns.histplot(df[col])\n",
    "    plt.show()\n",
    "    print(f\"Count of variables in {col}: \\n{df[col].value_counts()}\\n--------------------\")"
   ]
  },
  {
   "cell_type": "markdown",
   "id": "fc8677b5",
   "metadata": {},
   "source": [
    "For several of the categorical columns displayed above there are three choices that look like:\n",
    "- Yes\n",
    "- No\n",
    "- No phone service / No internet service\n",
    "\n",
    "Since this information about \"No phone service / No internet service\" is also contained in the \"phone_service\" and \"internet_service_type\" columns, this data is redundant for any other column listing \"No phone service / No internet service\".\n",
    "\n",
    "As such I will be changing all instances of \"No phone service / No internet service\" to No. These categorical variables will have an output of either \"Yes\" or \"No\"."
   ]
  },
  {
   "cell_type": "code",
   "execution_count": 17,
   "id": "3bd15386",
   "metadata": {},
   "outputs": [],
   "source": [
    "for col in df.columns:\n",
    "    if df[col].dtype == object:\n",
    "        df[col] = df[col].str.replace('No phone service', 'No')\n",
    "        df[col] = df[col].str.replace('No internet service', 'No')"
   ]
  },
  {
   "cell_type": "code",
   "execution_count": 18,
   "id": "b76eecff",
   "metadata": {},
   "outputs": [
    {
     "data": {
      "text/plain": [
       "No     5024\n",
       "Yes    2019\n",
       "Name: online_security, dtype: int64"
      ]
     },
     "execution_count": 18,
     "metadata": {},
     "output_type": "execute_result"
    }
   ],
   "source": [
    "df.online_security.value_counts()"
   ]
  },
  {
   "cell_type": "markdown",
   "id": "9aa9cc88",
   "metadata": {},
   "source": [
    "Further, I need to change some of the categorical variables to snake case to make things easier later on."
   ]
  },
  {
   "cell_type": "code",
   "execution_count": 19,
   "id": "e30c646f",
   "metadata": {},
   "outputs": [],
   "source": [
    "df['internet_service_type'] = df.internet_service_type.str.replace('Fiber optic', 'fiber_optic')\n",
    "df['payment_type'] = df.payment_type.str.replace('Electronic check', 'electronic_check')\n",
    "df['payment_type'] = df.payment_type.str.replace('^Bank transfer', 'bank_transfer_automatic', regex = True)\n",
    "df['payment_type'] = df.payment_type.str.replace('Mailed check', 'mailed_check')\n",
    "df['payment_type'] = df.payment_type.str.replace(\"^Credit card\", 'credit_card_automatic', regex = True)\n",
    "df['contract_type'] = df.contract_type.str.replace('Two year', 'two_year')\n",
    "df['contract_type'] = df.contract_type.str.replace('One year', 'one_year')\n",
    "df['contract_type'] = df.contract_type.str.replace('Month-to-month', 'month_to_month')"
   ]
  },
  {
   "cell_type": "code",
   "execution_count": null,
   "id": "79441538",
   "metadata": {},
   "outputs": [],
   "source": []
  },
  {
   "cell_type": "code",
   "execution_count": 20,
   "id": "4e153f02",
   "metadata": {},
   "outputs": [
    {
     "data": {
      "text/plain": [
       "electronic_check                       2365\n",
       "mailed_check                           1612\n",
       "bank_transfer_automatic (automatic)    1544\n",
       "credit_card_automatic (automatic)      1522\n",
       "Name: payment_type, dtype: int64"
      ]
     },
     "execution_count": 20,
     "metadata": {},
     "output_type": "execute_result"
    }
   ],
   "source": [
    "df.payment_type.value_counts()"
   ]
  },
  {
   "cell_type": "code",
   "execution_count": 21,
   "id": "0bb619e8",
   "metadata": {},
   "outputs": [
    {
     "data": {
      "image/png": "[encoded data removed]",
      "text/plain": [
       "<Figure size 432x288 with 1 Axes>"
      ]
     },
     "metadata": {
      "needs_background": "light"
     },
     "output_type": "display_data"
    },
    {
     "name": "stdout",
     "output_type": "stream",
     "text": [
      "Count of variables in senior_citizen: \n",
      "0    5901\n",
      "1    1142\n",
      "Name: senior_citizen, dtype: int64\n",
      "--------------------\n",
      "Mean of variables in senior_citizen: \n",
      "0.1621468124378816\n",
      "--------------------\n"
     ]
    },
    {
     "data": {
      "image/png": "[encoded data removed]",
      "text/plain": [
       "<Figure size 432x288 with 1 Axes>"
      ]
     },
     "metadata": {
      "needs_background": "light"
     },
     "output_type": "display_data"
    },
    {
     "name": "stdout",
     "output_type": "stream",
     "text": [
      "Count of variables in tenure: \n",
      "1     613\n",
      "72    362\n",
      "2     238\n",
      "3     200\n",
      "4     176\n",
      "     ... \n",
      "28     57\n",
      "39     56\n",
      "44     51\n",
      "36     50\n",
      "0      11\n",
      "Name: tenure, Length: 73, dtype: int64\n",
      "--------------------\n",
      "Mean of variables in tenure: \n",
      "32.37114865824223\n",
      "--------------------\n"
     ]
    },
    {
     "data": {
      "image/png": "[encoded data removed]",
      "text/plain": [
       "<Figure size 432x288 with 1 Axes>"
      ]
     },
     "metadata": {
      "needs_background": "light"
     },
     "output_type": "display_data"
    },
    {
     "name": "stdout",
     "output_type": "stream",
     "text": [
      "Count of variables in monthly_charges: \n",
      "20.05     61\n",
      "19.85     45\n",
      "19.95     44\n",
      "19.90     44\n",
      "20.00     43\n",
      "          ..\n",
      "116.55     1\n",
      "106.85     1\n",
      "68.55      1\n",
      "108.80     1\n",
      "67.85      1\n",
      "Name: monthly_charges, Length: 1585, dtype: int64\n",
      "--------------------\n",
      "Mean of variables in monthly_charges: \n",
      "64.7616924605992\n",
      "--------------------\n"
     ]
    },
    {
     "data": {
      "image/png": "[encoded data removed]",
      "text/plain": [
       "<Figure size 432x288 with 1 Axes>"
      ]
     },
     "metadata": {
      "needs_background": "light"
     },
     "output_type": "display_data"
    },
    {
     "name": "stdout",
     "output_type": "stream",
     "text": [
      "Count of variables in total_charges: \n",
      "0.00       11\n",
      "20.20      11\n",
      "19.75       9\n",
      "19.90       8\n",
      "20.05       8\n",
      "           ..\n",
      "2387.75     1\n",
      "6302.80     1\n",
      "2058.50     1\n",
      "829.55      1\n",
      "3707.60     1\n",
      "Name: total_charges, Length: 6531, dtype: int64\n",
      "--------------------\n",
      "Mean of variables in total_charges: \n",
      "2279.7343035638196\n",
      "--------------------\n"
     ]
    }
   ],
   "source": [
    "# This gets us some preliminary histograms of the numeric columns in the dataset.  This gives me an idea of how the \n",
    "# numerical columns are shaped.\n",
    "num_cols = df.select_dtypes('number').columns\n",
    "\n",
    "for col in num_cols:\n",
    "    sns.histplot(df[col])\n",
    "    plt.show()\n",
    "    print(f\"Count of variables in {col}: \\n{df[col].value_counts()}\\n--------------------\")\n",
    "    print(f\"Mean of variables in {col}: \\n{df[col].mean()}\\n--------------------\")"
   ]
  },
  {
   "cell_type": "code",
   "execution_count": 22,
   "id": "3b8cd87a",
   "metadata": {},
   "outputs": [
    {
     "data": {
      "text/html": [
       "<div>\n",
       "<style scoped>\n",
       "    .dataframe tbody tr th:only-of-type {\n",
       "        vertical-align: middle;\n",
       "    }\n",
       "\n",
       "    .dataframe tbody tr th {\n",
       "        vertical-align: top;\n",
       "    }\n",
       "\n",
       "    .dataframe thead th {\n",
       "        text-align: right;\n",
       "    }\n",
       "</style>\n",
       "<table border=\"1\" class=\"dataframe\">\n",
       "  <thead>\n",
       "    <tr style=\"text-align: right;\">\n",
       "      <th></th>\n",
       "      <th>customer_id</th>\n",
       "      <th>gender</th>\n",
       "      <th>senior_citizen</th>\n",
       "      <th>partner</th>\n",
       "      <th>dependents</th>\n",
       "      <th>tenure</th>\n",
       "      <th>multiple_lines</th>\n",
       "      <th>online_security</th>\n",
       "      <th>online_backup</th>\n",
       "      <th>device_protection</th>\n",
       "      <th>tech_support</th>\n",
       "      <th>streaming_tv</th>\n",
       "      <th>streaming_movies</th>\n",
       "      <th>paperless_billing</th>\n",
       "      <th>monthly_charges</th>\n",
       "      <th>total_charges</th>\n",
       "      <th>churn</th>\n",
       "      <th>contract_type</th>\n",
       "      <th>payment_type</th>\n",
       "      <th>internet_service_type</th>\n",
       "    </tr>\n",
       "  </thead>\n",
       "  <tbody>\n",
       "    <tr>\n",
       "      <th>945</th>\n",
       "      <td>1371-DWPAZ</td>\n",
       "      <td>Female</td>\n",
       "      <td>0</td>\n",
       "      <td>Yes</td>\n",
       "      <td>Yes</td>\n",
       "      <td>0</td>\n",
       "      <td>No</td>\n",
       "      <td>Yes</td>\n",
       "      <td>Yes</td>\n",
       "      <td>Yes</td>\n",
       "      <td>Yes</td>\n",
       "      <td>Yes</td>\n",
       "      <td>No</td>\n",
       "      <td>No</td>\n",
       "      <td>56.05</td>\n",
       "      <td>0.0</td>\n",
       "      <td>No</td>\n",
       "      <td>two_year</td>\n",
       "      <td>credit_card_automatic (automatic)</td>\n",
       "      <td>DSL</td>\n",
       "    </tr>\n",
       "    <tr>\n",
       "      <th>1731</th>\n",
       "      <td>2520-SGTTA</td>\n",
       "      <td>Female</td>\n",
       "      <td>0</td>\n",
       "      <td>Yes</td>\n",
       "      <td>Yes</td>\n",
       "      <td>0</td>\n",
       "      <td>No</td>\n",
       "      <td>No</td>\n",
       "      <td>No</td>\n",
       "      <td>No</td>\n",
       "      <td>No</td>\n",
       "      <td>No</td>\n",
       "      <td>No</td>\n",
       "      <td>No</td>\n",
       "      <td>20.00</td>\n",
       "      <td>0.0</td>\n",
       "      <td>No</td>\n",
       "      <td>two_year</td>\n",
       "      <td>mailed_check</td>\n",
       "      <td>None</td>\n",
       "    </tr>\n",
       "    <tr>\n",
       "      <th>1906</th>\n",
       "      <td>2775-SEFEE</td>\n",
       "      <td>Male</td>\n",
       "      <td>0</td>\n",
       "      <td>No</td>\n",
       "      <td>Yes</td>\n",
       "      <td>0</td>\n",
       "      <td>Yes</td>\n",
       "      <td>Yes</td>\n",
       "      <td>Yes</td>\n",
       "      <td>No</td>\n",
       "      <td>Yes</td>\n",
       "      <td>No</td>\n",
       "      <td>No</td>\n",
       "      <td>Yes</td>\n",
       "      <td>61.90</td>\n",
       "      <td>0.0</td>\n",
       "      <td>No</td>\n",
       "      <td>two_year</td>\n",
       "      <td>bank_transfer_automatic (automatic)</td>\n",
       "      <td>DSL</td>\n",
       "    </tr>\n",
       "    <tr>\n",
       "      <th>2025</th>\n",
       "      <td>2923-ARZLG</td>\n",
       "      <td>Male</td>\n",
       "      <td>0</td>\n",
       "      <td>Yes</td>\n",
       "      <td>Yes</td>\n",
       "      <td>0</td>\n",
       "      <td>No</td>\n",
       "      <td>No</td>\n",
       "      <td>No</td>\n",
       "      <td>No</td>\n",
       "      <td>No</td>\n",
       "      <td>No</td>\n",
       "      <td>No</td>\n",
       "      <td>Yes</td>\n",
       "      <td>19.70</td>\n",
       "      <td>0.0</td>\n",
       "      <td>No</td>\n",
       "      <td>one_year</td>\n",
       "      <td>mailed_check</td>\n",
       "      <td>None</td>\n",
       "    </tr>\n",
       "    <tr>\n",
       "      <th>2176</th>\n",
       "      <td>3115-CZMZD</td>\n",
       "      <td>Male</td>\n",
       "      <td>0</td>\n",
       "      <td>No</td>\n",
       "      <td>Yes</td>\n",
       "      <td>0</td>\n",
       "      <td>No</td>\n",
       "      <td>No</td>\n",
       "      <td>No</td>\n",
       "      <td>No</td>\n",
       "      <td>No</td>\n",
       "      <td>No</td>\n",
       "      <td>No</td>\n",
       "      <td>No</td>\n",
       "      <td>20.25</td>\n",
       "      <td>0.0</td>\n",
       "      <td>No</td>\n",
       "      <td>two_year</td>\n",
       "      <td>mailed_check</td>\n",
       "      <td>None</td>\n",
       "    </tr>\n",
       "    <tr>\n",
       "      <th>2250</th>\n",
       "      <td>3213-VVOLG</td>\n",
       "      <td>Male</td>\n",
       "      <td>0</td>\n",
       "      <td>Yes</td>\n",
       "      <td>Yes</td>\n",
       "      <td>0</td>\n",
       "      <td>Yes</td>\n",
       "      <td>No</td>\n",
       "      <td>No</td>\n",
       "      <td>No</td>\n",
       "      <td>No</td>\n",
       "      <td>No</td>\n",
       "      <td>No</td>\n",
       "      <td>No</td>\n",
       "      <td>25.35</td>\n",
       "      <td>0.0</td>\n",
       "      <td>No</td>\n",
       "      <td>two_year</td>\n",
       "      <td>mailed_check</td>\n",
       "      <td>None</td>\n",
       "    </tr>\n",
       "    <tr>\n",
       "      <th>2855</th>\n",
       "      <td>4075-WKNIU</td>\n",
       "      <td>Female</td>\n",
       "      <td>0</td>\n",
       "      <td>Yes</td>\n",
       "      <td>Yes</td>\n",
       "      <td>0</td>\n",
       "      <td>Yes</td>\n",
       "      <td>No</td>\n",
       "      <td>Yes</td>\n",
       "      <td>Yes</td>\n",
       "      <td>Yes</td>\n",
       "      <td>Yes</td>\n",
       "      <td>No</td>\n",
       "      <td>No</td>\n",
       "      <td>73.35</td>\n",
       "      <td>0.0</td>\n",
       "      <td>No</td>\n",
       "      <td>two_year</td>\n",
       "      <td>mailed_check</td>\n",
       "      <td>DSL</td>\n",
       "    </tr>\n",
       "    <tr>\n",
       "      <th>3052</th>\n",
       "      <td>4367-NUYAO</td>\n",
       "      <td>Male</td>\n",
       "      <td>0</td>\n",
       "      <td>Yes</td>\n",
       "      <td>Yes</td>\n",
       "      <td>0</td>\n",
       "      <td>Yes</td>\n",
       "      <td>No</td>\n",
       "      <td>No</td>\n",
       "      <td>No</td>\n",
       "      <td>No</td>\n",
       "      <td>No</td>\n",
       "      <td>No</td>\n",
       "      <td>No</td>\n",
       "      <td>25.75</td>\n",
       "      <td>0.0</td>\n",
       "      <td>No</td>\n",
       "      <td>two_year</td>\n",
       "      <td>mailed_check</td>\n",
       "      <td>None</td>\n",
       "    </tr>\n",
       "    <tr>\n",
       "      <th>3118</th>\n",
       "      <td>4472-LVYGI</td>\n",
       "      <td>Female</td>\n",
       "      <td>0</td>\n",
       "      <td>Yes</td>\n",
       "      <td>Yes</td>\n",
       "      <td>0</td>\n",
       "      <td>No</td>\n",
       "      <td>Yes</td>\n",
       "      <td>No</td>\n",
       "      <td>Yes</td>\n",
       "      <td>Yes</td>\n",
       "      <td>Yes</td>\n",
       "      <td>No</td>\n",
       "      <td>Yes</td>\n",
       "      <td>52.55</td>\n",
       "      <td>0.0</td>\n",
       "      <td>No</td>\n",
       "      <td>two_year</td>\n",
       "      <td>bank_transfer_automatic (automatic)</td>\n",
       "      <td>DSL</td>\n",
       "    </tr>\n",
       "    <tr>\n",
       "      <th>4054</th>\n",
       "      <td>5709-LVOEQ</td>\n",
       "      <td>Female</td>\n",
       "      <td>0</td>\n",
       "      <td>Yes</td>\n",
       "      <td>Yes</td>\n",
       "      <td>0</td>\n",
       "      <td>No</td>\n",
       "      <td>Yes</td>\n",
       "      <td>Yes</td>\n",
       "      <td>Yes</td>\n",
       "      <td>No</td>\n",
       "      <td>Yes</td>\n",
       "      <td>Yes</td>\n",
       "      <td>No</td>\n",
       "      <td>80.85</td>\n",
       "      <td>0.0</td>\n",
       "      <td>No</td>\n",
       "      <td>two_year</td>\n",
       "      <td>mailed_check</td>\n",
       "      <td>DSL</td>\n",
       "    </tr>\n",
       "    <tr>\n",
       "      <th>5433</th>\n",
       "      <td>7644-OMVMY</td>\n",
       "      <td>Male</td>\n",
       "      <td>0</td>\n",
       "      <td>Yes</td>\n",
       "      <td>Yes</td>\n",
       "      <td>0</td>\n",
       "      <td>No</td>\n",
       "      <td>No</td>\n",
       "      <td>No</td>\n",
       "      <td>No</td>\n",
       "      <td>No</td>\n",
       "      <td>No</td>\n",
       "      <td>No</td>\n",
       "      <td>No</td>\n",
       "      <td>19.85</td>\n",
       "      <td>0.0</td>\n",
       "      <td>No</td>\n",
       "      <td>two_year</td>\n",
       "      <td>mailed_check</td>\n",
       "      <td>None</td>\n",
       "    </tr>\n",
       "  </tbody>\n",
       "</table>\n",
       "</div>"
      ],
      "text/plain": [
       "     customer_id  gender  senior_citizen partner dependents  tenure  \\\n",
       "945   1371-DWPAZ  Female               0     Yes        Yes       0   \n",
       "1731  2520-SGTTA  Female               0     Yes        Yes       0   \n",
       "1906  2775-SEFEE    Male               0      No        Yes       0   \n",
       "2025  2923-ARZLG    Male               0     Yes        Yes       0   \n",
       "2176  3115-CZMZD    Male               0      No        Yes       0   \n",
       "2250  3213-VVOLG    Male               0     Yes        Yes       0   \n",
       "2855  4075-WKNIU  Female               0     Yes        Yes       0   \n",
       "3052  4367-NUYAO    Male               0     Yes        Yes       0   \n",
       "3118  4472-LVYGI  Female               0     Yes        Yes       0   \n",
       "4054  5709-LVOEQ  Female               0     Yes        Yes       0   \n",
       "5433  7644-OMVMY    Male               0     Yes        Yes       0   \n",
       "\n",
       "     multiple_lines online_security online_backup device_protection  \\\n",
       "945              No             Yes           Yes               Yes   \n",
       "1731             No              No            No                No   \n",
       "1906            Yes             Yes           Yes                No   \n",
       "2025             No              No            No                No   \n",
       "2176             No              No            No                No   \n",
       "2250            Yes              No            No                No   \n",
       "2855            Yes              No           Yes               Yes   \n",
       "3052            Yes              No            No                No   \n",
       "3118             No             Yes            No               Yes   \n",
       "4054             No             Yes           Yes               Yes   \n",
       "5433             No              No            No                No   \n",
       "\n",
       "     tech_support streaming_tv streaming_movies paperless_billing  \\\n",
       "945           Yes          Yes               No                No   \n",
       "1731           No           No               No                No   \n",
       "1906          Yes           No               No               Yes   \n",
       "2025           No           No               No               Yes   \n",
       "2176           No           No               No                No   \n",
       "2250           No           No               No                No   \n",
       "2855          Yes          Yes               No                No   \n",
       "3052           No           No               No                No   \n",
       "3118          Yes          Yes               No               Yes   \n",
       "4054           No          Yes              Yes                No   \n",
       "5433           No           No               No                No   \n",
       "\n",
       "      monthly_charges  total_charges churn contract_type  \\\n",
       "945             56.05            0.0    No      two_year   \n",
       "1731            20.00            0.0    No      two_year   \n",
       "1906            61.90            0.0    No      two_year   \n",
       "2025            19.70            0.0    No      one_year   \n",
       "2176            20.25            0.0    No      two_year   \n",
       "2250            25.35            0.0    No      two_year   \n",
       "2855            73.35            0.0    No      two_year   \n",
       "3052            25.75            0.0    No      two_year   \n",
       "3118            52.55            0.0    No      two_year   \n",
       "4054            80.85            0.0    No      two_year   \n",
       "5433            19.85            0.0    No      two_year   \n",
       "\n",
       "                             payment_type internet_service_type  \n",
       "945     credit_card_automatic (automatic)                   DSL  \n",
       "1731                         mailed_check                  None  \n",
       "1906  bank_transfer_automatic (automatic)                   DSL  \n",
       "2025                         mailed_check                  None  \n",
       "2176                         mailed_check                  None  \n",
       "2250                         mailed_check                  None  \n",
       "2855                         mailed_check                   DSL  \n",
       "3052                         mailed_check                  None  \n",
       "3118  bank_transfer_automatic (automatic)                   DSL  \n",
       "4054                         mailed_check                   DSL  \n",
       "5433                         mailed_check                  None  "
      ]
     },
     "execution_count": 22,
     "metadata": {},
     "output_type": "execute_result"
    }
   ],
   "source": [
    "# From the above cell, we can see there are 11 total customers who have 0 total_charges and 11 total customers who\n",
    "# have a tenure of 0. I want to compare those both to churn to determine if those 11 customers are worth keeping.\n",
    "\n",
    "df[df.total_charges == 0]\n",
    "\n",
    "# None churned who had a tenure of total charges and tenure of 0. Since they have no possiblity of churning yet, I'm \n",
    "# going to drop these eleven customers from the dataset as to make the data cleaner."
   ]
  },
  {
   "cell_type": "code",
   "execution_count": 23,
   "id": "b139fe62",
   "metadata": {},
   "outputs": [
    {
     "name": "stdout",
     "output_type": "stream",
     "text": [
      "<class 'pandas.core.frame.DataFrame'>\n",
      "RangeIndex: 7043 entries, 0 to 7042\n",
      "Data columns (total 20 columns):\n",
      " #   Column                 Non-Null Count  Dtype  \n",
      "---  ------                 --------------  -----  \n",
      " 0   customer_id            7043 non-null   object \n",
      " 1   gender                 7043 non-null   object \n",
      " 2   senior_citizen         7043 non-null   int64  \n",
      " 3   partner                7043 non-null   object \n",
      " 4   dependents             7043 non-null   object \n",
      " 5   tenure                 7043 non-null   int64  \n",
      " 6   multiple_lines         7043 non-null   object \n",
      " 7   online_security        7043 non-null   object \n",
      " 8   online_backup          7043 non-null   object \n",
      " 9   device_protection      7043 non-null   object \n",
      " 10  tech_support           7043 non-null   object \n",
      " 11  streaming_tv           7043 non-null   object \n",
      " 12  streaming_movies       7043 non-null   object \n",
      " 13  paperless_billing      7043 non-null   object \n",
      " 14  monthly_charges        7043 non-null   float64\n",
      " 15  total_charges          7043 non-null   float64\n",
      " 16  churn                  7043 non-null   object \n",
      " 17  contract_type          7043 non-null   object \n",
      " 18  payment_type           7043 non-null   object \n",
      " 19  internet_service_type  7043 non-null   object \n",
      "dtypes: float64(2), int64(2), object(16)\n",
      "memory usage: 1.1+ MB\n"
     ]
    }
   ],
   "source": [
    "df.info()"
   ]
  },
  {
   "cell_type": "code",
   "execution_count": 24,
   "id": "25c289f8",
   "metadata": {},
   "outputs": [
    {
     "name": "stdout",
     "output_type": "stream",
     "text": [
      "<class 'pandas.core.frame.DataFrame'>\n",
      "Int64Index: 7032 entries, 0 to 7042\n",
      "Data columns (total 20 columns):\n",
      " #   Column                 Non-Null Count  Dtype  \n",
      "---  ------                 --------------  -----  \n",
      " 0   customer_id            7032 non-null   object \n",
      " 1   gender                 7032 non-null   object \n",
      " 2   senior_citizen         7032 non-null   int64  \n",
      " 3   partner                7032 non-null   object \n",
      " 4   dependents             7032 non-null   object \n",
      " 5   tenure                 7032 non-null   int64  \n",
      " 6   multiple_lines         7032 non-null   object \n",
      " 7   online_security        7032 non-null   object \n",
      " 8   online_backup          7032 non-null   object \n",
      " 9   device_protection      7032 non-null   object \n",
      " 10  tech_support           7032 non-null   object \n",
      " 11  streaming_tv           7032 non-null   object \n",
      " 12  streaming_movies       7032 non-null   object \n",
      " 13  paperless_billing      7032 non-null   object \n",
      " 14  monthly_charges        7032 non-null   float64\n",
      " 15  total_charges          7032 non-null   float64\n",
      " 16  churn                  7032 non-null   object \n",
      " 17  contract_type          7032 non-null   object \n",
      " 18  payment_type           7032 non-null   object \n",
      " 19  internet_service_type  7032 non-null   object \n",
      "dtypes: float64(2), int64(2), object(16)\n",
      "memory usage: 1.1+ MB\n"
     ]
    }
   ],
   "source": [
    "df.drop(df[df.total_charges == 0].index, inplace=True)\n",
    "df.info()\n",
    "# Dropped 11 customers. Total rows from 7043 to 7032"
   ]
  },
  {
   "cell_type": "code",
   "execution_count": 25,
   "id": "b7b24bd0",
   "metadata": {},
   "outputs": [
    {
     "name": "stdout",
     "output_type": "stream",
     "text": [
      "<class 'pandas.core.frame.DataFrame'>\n",
      "Int64Index: 7032 entries, 0 to 7042\n",
      "Data columns (total 20 columns):\n",
      " #   Column                 Non-Null Count  Dtype  \n",
      "---  ------                 --------------  -----  \n",
      " 0   customer_id            7032 non-null   object \n",
      " 1   gender                 7032 non-null   object \n",
      " 2   senior_citizen         7032 non-null   int64  \n",
      " 3   partner                7032 non-null   object \n",
      " 4   dependents             7032 non-null   object \n",
      " 5   tenure                 7032 non-null   int64  \n",
      " 6   multiple_lines         7032 non-null   object \n",
      " 7   online_security        7032 non-null   object \n",
      " 8   online_backup          7032 non-null   object \n",
      " 9   device_protection      7032 non-null   object \n",
      " 10  tech_support           7032 non-null   object \n",
      " 11  streaming_tv           7032 non-null   object \n",
      " 12  streaming_movies       7032 non-null   object \n",
      " 13  paperless_billing      7032 non-null   object \n",
      " 14  monthly_charges        7032 non-null   float64\n",
      " 15  total_charges          7032 non-null   float64\n",
      " 16  churn                  7032 non-null   object \n",
      " 17  contract_type          7032 non-null   object \n",
      " 18  payment_type           7032 non-null   object \n",
      " 19  internet_service_type  7032 non-null   object \n",
      "dtypes: float64(2), int64(2), object(16)\n",
      "memory usage: 1.1+ MB\n"
     ]
    }
   ],
   "source": [
    "df.drop_duplicates(inplace=True)\n",
    "df.info()"
   ]
  },
  {
   "cell_type": "code",
   "execution_count": 26,
   "id": "71e7e6fc",
   "metadata": {},
   "outputs": [],
   "source": [
    "# Makes a list for categorical columns which we want encoded for modeling later \n",
    "# (this will be a list of all categorical columns except customer_id)\n",
    "\n",
    "dummies_list = df.select_dtypes(object).columns\n",
    "dummies_list = dummies_list.drop('customer_id')\n",
    "\n",
    "dummy_df = pd.get_dummies(df[dummies_list], drop_first=True)\n",
    "df = pd.concat([df, dummy_df], axis = 1)"
   ]
  },
  {
   "cell_type": "code",
   "execution_count": 27,
   "id": "4fe03cda",
   "metadata": {},
   "outputs": [
    {
     "data": {
      "text/html": [
       "<div>\n",
       "<style scoped>\n",
       "    .dataframe tbody tr th:only-of-type {\n",
       "        vertical-align: middle;\n",
       "    }\n",
       "\n",
       "    .dataframe tbody tr th {\n",
       "        vertical-align: top;\n",
       "    }\n",
       "\n",
       "    .dataframe thead th {\n",
       "        text-align: right;\n",
       "    }\n",
       "</style>\n",
       "<table border=\"1\" class=\"dataframe\">\n",
       "  <thead>\n",
       "    <tr style=\"text-align: right;\">\n",
       "      <th></th>\n",
       "      <th>0</th>\n",
       "    </tr>\n",
       "  </thead>\n",
       "  <tbody>\n",
       "    <tr>\n",
       "      <th>customer_id</th>\n",
       "      <td>0002-ORFBO</td>\n",
       "    </tr>\n",
       "    <tr>\n",
       "      <th>gender</th>\n",
       "      <td>Female</td>\n",
       "    </tr>\n",
       "    <tr>\n",
       "      <th>senior_citizen</th>\n",
       "      <td>0</td>\n",
       "    </tr>\n",
       "    <tr>\n",
       "      <th>partner</th>\n",
       "      <td>Yes</td>\n",
       "    </tr>\n",
       "    <tr>\n",
       "      <th>dependents</th>\n",
       "      <td>Yes</td>\n",
       "    </tr>\n",
       "    <tr>\n",
       "      <th>tenure</th>\n",
       "      <td>9</td>\n",
       "    </tr>\n",
       "    <tr>\n",
       "      <th>multiple_lines</th>\n",
       "      <td>No</td>\n",
       "    </tr>\n",
       "    <tr>\n",
       "      <th>online_security</th>\n",
       "      <td>No</td>\n",
       "    </tr>\n",
       "    <tr>\n",
       "      <th>online_backup</th>\n",
       "      <td>Yes</td>\n",
       "    </tr>\n",
       "    <tr>\n",
       "      <th>device_protection</th>\n",
       "      <td>No</td>\n",
       "    </tr>\n",
       "    <tr>\n",
       "      <th>tech_support</th>\n",
       "      <td>Yes</td>\n",
       "    </tr>\n",
       "    <tr>\n",
       "      <th>streaming_tv</th>\n",
       "      <td>Yes</td>\n",
       "    </tr>\n",
       "    <tr>\n",
       "      <th>streaming_movies</th>\n",
       "      <td>No</td>\n",
       "    </tr>\n",
       "    <tr>\n",
       "      <th>paperless_billing</th>\n",
       "      <td>Yes</td>\n",
       "    </tr>\n",
       "    <tr>\n",
       "      <th>monthly_charges</th>\n",
       "      <td>65.6</td>\n",
       "    </tr>\n",
       "    <tr>\n",
       "      <th>total_charges</th>\n",
       "      <td>593.3</td>\n",
       "    </tr>\n",
       "    <tr>\n",
       "      <th>churn</th>\n",
       "      <td>No</td>\n",
       "    </tr>\n",
       "    <tr>\n",
       "      <th>contract_type</th>\n",
       "      <td>one_year</td>\n",
       "    </tr>\n",
       "    <tr>\n",
       "      <th>payment_type</th>\n",
       "      <td>mailed_check</td>\n",
       "    </tr>\n",
       "    <tr>\n",
       "      <th>internet_service_type</th>\n",
       "      <td>DSL</td>\n",
       "    </tr>\n",
       "    <tr>\n",
       "      <th>gender_Male</th>\n",
       "      <td>0</td>\n",
       "    </tr>\n",
       "    <tr>\n",
       "      <th>partner_Yes</th>\n",
       "      <td>1</td>\n",
       "    </tr>\n",
       "    <tr>\n",
       "      <th>dependents_Yes</th>\n",
       "      <td>1</td>\n",
       "    </tr>\n",
       "    <tr>\n",
       "      <th>multiple_lines_Yes</th>\n",
       "      <td>0</td>\n",
       "    </tr>\n",
       "    <tr>\n",
       "      <th>online_security_Yes</th>\n",
       "      <td>0</td>\n",
       "    </tr>\n",
       "    <tr>\n",
       "      <th>online_backup_Yes</th>\n",
       "      <td>1</td>\n",
       "    </tr>\n",
       "    <tr>\n",
       "      <th>device_protection_Yes</th>\n",
       "      <td>0</td>\n",
       "    </tr>\n",
       "    <tr>\n",
       "      <th>tech_support_Yes</th>\n",
       "      <td>1</td>\n",
       "    </tr>\n",
       "    <tr>\n",
       "      <th>streaming_tv_Yes</th>\n",
       "      <td>1</td>\n",
       "    </tr>\n",
       "    <tr>\n",
       "      <th>streaming_movies_Yes</th>\n",
       "      <td>0</td>\n",
       "    </tr>\n",
       "    <tr>\n",
       "      <th>paperless_billing_Yes</th>\n",
       "      <td>1</td>\n",
       "    </tr>\n",
       "    <tr>\n",
       "      <th>churn_Yes</th>\n",
       "      <td>0</td>\n",
       "    </tr>\n",
       "    <tr>\n",
       "      <th>contract_type_one_year</th>\n",
       "      <td>1</td>\n",
       "    </tr>\n",
       "    <tr>\n",
       "      <th>contract_type_two_year</th>\n",
       "      <td>0</td>\n",
       "    </tr>\n",
       "    <tr>\n",
       "      <th>payment_type_credit_card_automatic (automatic)</th>\n",
       "      <td>0</td>\n",
       "    </tr>\n",
       "    <tr>\n",
       "      <th>payment_type_electronic_check</th>\n",
       "      <td>0</td>\n",
       "    </tr>\n",
       "    <tr>\n",
       "      <th>payment_type_mailed_check</th>\n",
       "      <td>1</td>\n",
       "    </tr>\n",
       "    <tr>\n",
       "      <th>internet_service_type_None</th>\n",
       "      <td>0</td>\n",
       "    </tr>\n",
       "    <tr>\n",
       "      <th>internet_service_type_fiber_optic</th>\n",
       "      <td>0</td>\n",
       "    </tr>\n",
       "  </tbody>\n",
       "</table>\n",
       "</div>"
      ],
      "text/plain": [
       "                                                           0\n",
       "customer_id                                       0002-ORFBO\n",
       "gender                                                Female\n",
       "senior_citizen                                             0\n",
       "partner                                                  Yes\n",
       "dependents                                               Yes\n",
       "tenure                                                     9\n",
       "multiple_lines                                            No\n",
       "online_security                                           No\n",
       "online_backup                                            Yes\n",
       "device_protection                                         No\n",
       "tech_support                                             Yes\n",
       "streaming_tv                                             Yes\n",
       "streaming_movies                                          No\n",
       "paperless_billing                                        Yes\n",
       "monthly_charges                                         65.6\n",
       "total_charges                                          593.3\n",
       "churn                                                     No\n",
       "contract_type                                       one_year\n",
       "payment_type                                    mailed_check\n",
       "internet_service_type                                    DSL\n",
       "gender_Male                                                0\n",
       "partner_Yes                                                1\n",
       "dependents_Yes                                             1\n",
       "multiple_lines_Yes                                         0\n",
       "online_security_Yes                                        0\n",
       "online_backup_Yes                                          1\n",
       "device_protection_Yes                                      0\n",
       "tech_support_Yes                                           1\n",
       "streaming_tv_Yes                                           1\n",
       "streaming_movies_Yes                                       0\n",
       "paperless_billing_Yes                                      1\n",
       "churn_Yes                                                  0\n",
       "contract_type_one_year                                     1\n",
       "contract_type_two_year                                     0\n",
       "payment_type_credit_card_automatic (automatic)             0\n",
       "payment_type_electronic_check                              0\n",
       "payment_type_mailed_check                                  1\n",
       "internet_service_type_None                                 0\n",
       "internet_service_type_fiber_optic                          0"
      ]
     },
     "execution_count": 27,
     "metadata": {},
     "output_type": "execute_result"
    }
   ],
   "source": [
    "# We can see here the categorical columns have been properly encoded.\n",
    "df.head(1).T"
   ]
  },
  {
   "cell_type": "code",
   "execution_count": 28,
   "id": "f93f7576",
   "metadata": {},
   "outputs": [],
   "source": [
    "def split_telco(df):\n",
    "    '''\n",
    "    Takes in a cleaned telco dataframe, splits it into train, validate and test subgroups stratifying it on the target\n",
    "    of churn and then returns those subgroups.\n",
    "    \n",
    "    Arguments: df - a cleaned pandas dataframe with the expected feature names and columns in the telco dataset\n",
    "    Return: train, validate, test - dataframes ready for the exploration and model phases.\n",
    "    '''\n",
    "    train, test = train_test_split(df, train_size = 0.8, stratify = df.churn_Yes, random_state = 1234)\n",
    "    train, validate = train_test_split(train, train_size = 0.7, stratify = train.churn_Yes, random_state = 1234)\n",
    "    return train, validate, test\n",
    "\n",
    "train, validate, test = split_telco(df)"
   ]
  },
  {
   "cell_type": "code",
   "execution_count": 29,
   "id": "e0c5a163",
   "metadata": {},
   "outputs": [
    {
     "data": {
      "text/plain": [
       "((3937, 39), (1688, 39), (1407, 39))"
      ]
     },
     "execution_count": 29,
     "metadata": {},
     "output_type": "execute_result"
    }
   ],
   "source": [
    "train.shape, validate.shape, test.shape"
   ]
  },
  {
   "cell_type": "code",
   "execution_count": 30,
   "id": "f3b3583f",
   "metadata": {},
   "outputs": [
    {
     "data": {
      "text/plain": [
       "(0.2656845313690627, 0.2659952606635071, 0.2658137882018479)"
      ]
     },
     "execution_count": 30,
     "metadata": {},
     "output_type": "execute_result"
    }
   ],
   "source": [
    "# This shows the proportion of each subgroup which contains a customer who churns.  They are all essentially \n",
    "# equivalent.\n",
    "\n",
    "train.churn_Yes.mean(), validate.churn_Yes.mean(), test.churn_Yes.mean()"
   ]
  },
  {
   "cell_type": "code",
   "execution_count": 31,
   "id": "92e33e3f",
   "metadata": {},
   "outputs": [
    {
     "data": {
      "text/html": [
       "<div>\n",
       "<style scoped>\n",
       "    .dataframe tbody tr th:only-of-type {\n",
       "        vertical-align: middle;\n",
       "    }\n",
       "\n",
       "    .dataframe tbody tr th {\n",
       "        vertical-align: top;\n",
       "    }\n",
       "\n",
       "    .dataframe thead th {\n",
       "        text-align: right;\n",
       "    }\n",
       "</style>\n",
       "<table border=\"1\" class=\"dataframe\">\n",
       "  <thead>\n",
       "    <tr style=\"text-align: right;\">\n",
       "      <th></th>\n",
       "      <th>customer_id</th>\n",
       "      <th>gender</th>\n",
       "      <th>senior_citizen</th>\n",
       "      <th>partner</th>\n",
       "      <th>dependents</th>\n",
       "      <th>tenure</th>\n",
       "      <th>multiple_lines</th>\n",
       "      <th>online_security</th>\n",
       "      <th>online_backup</th>\n",
       "      <th>device_protection</th>\n",
       "      <th>...</th>\n",
       "      <th>streaming_movies_Yes</th>\n",
       "      <th>paperless_billing_Yes</th>\n",
       "      <th>churn_Yes</th>\n",
       "      <th>contract_type_one_year</th>\n",
       "      <th>contract_type_two_year</th>\n",
       "      <th>payment_type_credit_card_automatic (automatic)</th>\n",
       "      <th>payment_type_electronic_check</th>\n",
       "      <th>payment_type_mailed_check</th>\n",
       "      <th>internet_service_type_None</th>\n",
       "      <th>internet_service_type_fiber_optic</th>\n",
       "    </tr>\n",
       "  </thead>\n",
       "  <tbody>\n",
       "    <tr>\n",
       "      <th>4491</th>\n",
       "      <td>6339-RZCBJ</td>\n",
       "      <td>Male</td>\n",
       "      <td>0</td>\n",
       "      <td>No</td>\n",
       "      <td>No</td>\n",
       "      <td>48</td>\n",
       "      <td>No</td>\n",
       "      <td>No</td>\n",
       "      <td>Yes</td>\n",
       "      <td>Yes</td>\n",
       "      <td>...</td>\n",
       "      <td>1</td>\n",
       "      <td>0</td>\n",
       "      <td>0</td>\n",
       "      <td>0</td>\n",
       "      <td>1</td>\n",
       "      <td>1</td>\n",
       "      <td>0</td>\n",
       "      <td>0</td>\n",
       "      <td>0</td>\n",
       "      <td>0</td>\n",
       "    </tr>\n",
       "    <tr>\n",
       "      <th>2346</th>\n",
       "      <td>3359-DSRKA</td>\n",
       "      <td>Female</td>\n",
       "      <td>0</td>\n",
       "      <td>Yes</td>\n",
       "      <td>Yes</td>\n",
       "      <td>58</td>\n",
       "      <td>No</td>\n",
       "      <td>No</td>\n",
       "      <td>No</td>\n",
       "      <td>No</td>\n",
       "      <td>...</td>\n",
       "      <td>0</td>\n",
       "      <td>1</td>\n",
       "      <td>0</td>\n",
       "      <td>0</td>\n",
       "      <td>1</td>\n",
       "      <td>0</td>\n",
       "      <td>0</td>\n",
       "      <td>1</td>\n",
       "      <td>1</td>\n",
       "      <td>0</td>\n",
       "    </tr>\n",
       "    <tr>\n",
       "      <th>770</th>\n",
       "      <td>1121-QSIVB</td>\n",
       "      <td>Female</td>\n",
       "      <td>0</td>\n",
       "      <td>No</td>\n",
       "      <td>Yes</td>\n",
       "      <td>44</td>\n",
       "      <td>Yes</td>\n",
       "      <td>No</td>\n",
       "      <td>Yes</td>\n",
       "      <td>No</td>\n",
       "      <td>...</td>\n",
       "      <td>1</td>\n",
       "      <td>1</td>\n",
       "      <td>0</td>\n",
       "      <td>1</td>\n",
       "      <td>0</td>\n",
       "      <td>0</td>\n",
       "      <td>0</td>\n",
       "      <td>1</td>\n",
       "      <td>0</td>\n",
       "      <td>0</td>\n",
       "    </tr>\n",
       "    <tr>\n",
       "      <th>5155</th>\n",
       "      <td>7249-WBIYX</td>\n",
       "      <td>Male</td>\n",
       "      <td>0</td>\n",
       "      <td>Yes</td>\n",
       "      <td>No</td>\n",
       "      <td>10</td>\n",
       "      <td>Yes</td>\n",
       "      <td>No</td>\n",
       "      <td>No</td>\n",
       "      <td>No</td>\n",
       "      <td>...</td>\n",
       "      <td>0</td>\n",
       "      <td>1</td>\n",
       "      <td>1</td>\n",
       "      <td>0</td>\n",
       "      <td>0</td>\n",
       "      <td>0</td>\n",
       "      <td>1</td>\n",
       "      <td>0</td>\n",
       "      <td>0</td>\n",
       "      <td>1</td>\n",
       "    </tr>\n",
       "    <tr>\n",
       "      <th>189</th>\n",
       "      <td>0305-SQECB</td>\n",
       "      <td>Female</td>\n",
       "      <td>0</td>\n",
       "      <td>No</td>\n",
       "      <td>Yes</td>\n",
       "      <td>11</td>\n",
       "      <td>No</td>\n",
       "      <td>Yes</td>\n",
       "      <td>No</td>\n",
       "      <td>No</td>\n",
       "      <td>...</td>\n",
       "      <td>0</td>\n",
       "      <td>1</td>\n",
       "      <td>0</td>\n",
       "      <td>1</td>\n",
       "      <td>0</td>\n",
       "      <td>0</td>\n",
       "      <td>0</td>\n",
       "      <td>1</td>\n",
       "      <td>0</td>\n",
       "      <td>0</td>\n",
       "    </tr>\n",
       "  </tbody>\n",
       "</table>\n",
       "<p>5 rows × 39 columns</p>\n",
       "</div>"
      ],
      "text/plain": [
       "     customer_id  gender  senior_citizen partner dependents  tenure  \\\n",
       "4491  6339-RZCBJ    Male               0      No         No      48   \n",
       "2346  3359-DSRKA  Female               0     Yes        Yes      58   \n",
       "770   1121-QSIVB  Female               0      No        Yes      44   \n",
       "5155  7249-WBIYX    Male               0     Yes         No      10   \n",
       "189   0305-SQECB  Female               0      No        Yes      11   \n",
       "\n",
       "     multiple_lines online_security online_backup device_protection  ...  \\\n",
       "4491             No              No           Yes               Yes  ...   \n",
       "2346             No              No            No                No  ...   \n",
       "770             Yes              No           Yes                No  ...   \n",
       "5155            Yes              No            No                No  ...   \n",
       "189              No             Yes            No                No  ...   \n",
       "\n",
       "     streaming_movies_Yes paperless_billing_Yes churn_Yes  \\\n",
       "4491                    1                     0         0   \n",
       "2346                    0                     1         0   \n",
       "770                     1                     1         0   \n",
       "5155                    0                     1         1   \n",
       "189                     0                     1         0   \n",
       "\n",
       "     contract_type_one_year  contract_type_two_year  \\\n",
       "4491                      0                       1   \n",
       "2346                      0                       1   \n",
       "770                       1                       0   \n",
       "5155                      0                       0   \n",
       "189                       1                       0   \n",
       "\n",
       "      payment_type_credit_card_automatic (automatic)  \\\n",
       "4491                                               1   \n",
       "2346                                               0   \n",
       "770                                                0   \n",
       "5155                                               0   \n",
       "189                                                0   \n",
       "\n",
       "     payment_type_electronic_check payment_type_mailed_check  \\\n",
       "4491                             0                         0   \n",
       "2346                             0                         1   \n",
       "770                              0                         1   \n",
       "5155                             1                         0   \n",
       "189                              0                         1   \n",
       "\n",
       "     internet_service_type_None internet_service_type_fiber_optic  \n",
       "4491                          0                                 0  \n",
       "2346                          1                                 0  \n",
       "770                           0                                 0  \n",
       "5155                          0                                 1  \n",
       "189                           0                                 0  \n",
       "\n",
       "[5 rows x 39 columns]"
      ]
     },
     "execution_count": 31,
     "metadata": {},
     "output_type": "execute_result"
    }
   ],
   "source": [
    "train.head()"
   ]
  },
  {
   "cell_type": "markdown",
   "id": "ac050f14",
   "metadata": {},
   "source": [
    "Data is now split into 3 subgroups with the target variable churn stratified amongst them."
   ]
  },
  {
   "cell_type": "markdown",
   "id": "2e46fea2",
   "metadata": {},
   "source": [
    "# Explore (Exploratory Data Analysis)\n",
    "This is where I will be doing more in depth univariate, bivariate, and multivariate exploration of the data to determine what are features of the target variable churn that I want to use for my model."
   ]
  },
  {
   "cell_type": "code",
   "execution_count": 32,
   "id": "52f421ee",
   "metadata": {},
   "outputs": [
    {
     "data": {
      "text/plain": [
       "Index(['customer_id', 'gender', 'senior_citizen', 'partner', 'dependents',\n",
       "       'tenure', 'multiple_lines', 'online_security', 'online_backup',\n",
       "       'device_protection', 'tech_support', 'streaming_tv', 'streaming_movies',\n",
       "       'paperless_billing', 'monthly_charges', 'total_charges', 'churn',\n",
       "       'contract_type', 'payment_type', 'internet_service_type', 'gender_Male',\n",
       "       'partner_Yes', 'dependents_Yes', 'multiple_lines_Yes',\n",
       "       'online_security_Yes', 'online_backup_Yes', 'device_protection_Yes',\n",
       "       'tech_support_Yes', 'streaming_tv_Yes', 'streaming_movies_Yes',\n",
       "       'paperless_billing_Yes', 'churn_Yes', 'contract_type_one_year',\n",
       "       'contract_type_two_year',\n",
       "       'payment_type_credit_card_automatic (automatic)',\n",
       "       'payment_type_electronic_check', 'payment_type_mailed_check',\n",
       "       'internet_service_type_None', 'internet_service_type_fiber_optic'],\n",
       "      dtype='object')"
      ]
     },
     "execution_count": 32,
     "metadata": {},
     "output_type": "execute_result"
    }
   ],
   "source": [
    "train.columns"
   ]
  },
  {
   "cell_type": "code",
   "execution_count": 33,
   "id": "5ec55cdc",
   "metadata": {},
   "outputs": [],
   "source": [
    "plt.rc('figure', figsize=(14, 10))"
   ]
  },
  {
   "cell_type": "code",
   "execution_count": 34,
   "id": "06041256",
   "metadata": {},
   "outputs": [],
   "source": [
    "train_explore = train.drop(columns = ['customer_id', 'gender_Male', 'partner_Yes', 'dependents_Yes', 'multiple_lines_Yes',\n",
    "        'online_security_Yes', 'online_backup_Yes', 'device_protection_Yes', 'tech_support_Yes', 'streaming_tv_Yes', \n",
    "        'streaming_movies_Yes', 'paperless_billing_Yes', 'churn_Yes', 'contract_type_one_year', 'contract_type_two_year',\n",
    "        'payment_type_credit_card_automatic (automatic)', 'payment_type_electronic_check', 'payment_type_mailed_check',\n",
    "        'internet_service_type_None', 'internet_service_type_fiber_optic'])"
   ]
  },
  {
   "cell_type": "code",
   "execution_count": 35,
   "id": "3ac25413",
   "metadata": {},
   "outputs": [
    {
     "data": {
      "text/html": [
       "<div>\n",
       "<style scoped>\n",
       "    .dataframe tbody tr th:only-of-type {\n",
       "        vertical-align: middle;\n",
       "    }\n",
       "\n",
       "    .dataframe tbody tr th {\n",
       "        vertical-align: top;\n",
       "    }\n",
       "\n",
       "    .dataframe thead th {\n",
       "        text-align: right;\n",
       "    }\n",
       "</style>\n",
       "<table border=\"1\" class=\"dataframe\">\n",
       "  <thead>\n",
       "    <tr style=\"text-align: right;\">\n",
       "      <th></th>\n",
       "      <th>4491</th>\n",
       "    </tr>\n",
       "  </thead>\n",
       "  <tbody>\n",
       "    <tr>\n",
       "      <th>gender</th>\n",
       "      <td>Male</td>\n",
       "    </tr>\n",
       "    <tr>\n",
       "      <th>senior_citizen</th>\n",
       "      <td>0</td>\n",
       "    </tr>\n",
       "    <tr>\n",
       "      <th>partner</th>\n",
       "      <td>No</td>\n",
       "    </tr>\n",
       "    <tr>\n",
       "      <th>dependents</th>\n",
       "      <td>No</td>\n",
       "    </tr>\n",
       "    <tr>\n",
       "      <th>tenure</th>\n",
       "      <td>48</td>\n",
       "    </tr>\n",
       "    <tr>\n",
       "      <th>multiple_lines</th>\n",
       "      <td>No</td>\n",
       "    </tr>\n",
       "    <tr>\n",
       "      <th>online_security</th>\n",
       "      <td>No</td>\n",
       "    </tr>\n",
       "    <tr>\n",
       "      <th>online_backup</th>\n",
       "      <td>Yes</td>\n",
       "    </tr>\n",
       "    <tr>\n",
       "      <th>device_protection</th>\n",
       "      <td>Yes</td>\n",
       "    </tr>\n",
       "    <tr>\n",
       "      <th>tech_support</th>\n",
       "      <td>Yes</td>\n",
       "    </tr>\n",
       "    <tr>\n",
       "      <th>streaming_tv</th>\n",
       "      <td>Yes</td>\n",
       "    </tr>\n",
       "    <tr>\n",
       "      <th>streaming_movies</th>\n",
       "      <td>Yes</td>\n",
       "    </tr>\n",
       "    <tr>\n",
       "      <th>paperless_billing</th>\n",
       "      <td>No</td>\n",
       "    </tr>\n",
       "    <tr>\n",
       "      <th>monthly_charges</th>\n",
       "      <td>78.9</td>\n",
       "    </tr>\n",
       "    <tr>\n",
       "      <th>total_charges</th>\n",
       "      <td>3771.5</td>\n",
       "    </tr>\n",
       "    <tr>\n",
       "      <th>churn</th>\n",
       "      <td>No</td>\n",
       "    </tr>\n",
       "    <tr>\n",
       "      <th>contract_type</th>\n",
       "      <td>two_year</td>\n",
       "    </tr>\n",
       "    <tr>\n",
       "      <th>payment_type</th>\n",
       "      <td>credit_card_automatic (automatic)</td>\n",
       "    </tr>\n",
       "    <tr>\n",
       "      <th>internet_service_type</th>\n",
       "      <td>DSL</td>\n",
       "    </tr>\n",
       "  </tbody>\n",
       "</table>\n",
       "</div>"
      ],
      "text/plain": [
       "                                                    4491\n",
       "gender                                              Male\n",
       "senior_citizen                                         0\n",
       "partner                                               No\n",
       "dependents                                            No\n",
       "tenure                                                48\n",
       "multiple_lines                                        No\n",
       "online_security                                       No\n",
       "online_backup                                        Yes\n",
       "device_protection                                    Yes\n",
       "tech_support                                         Yes\n",
       "streaming_tv                                         Yes\n",
       "streaming_movies                                     Yes\n",
       "paperless_billing                                     No\n",
       "monthly_charges                                     78.9\n",
       "total_charges                                     3771.5\n",
       "churn                                                 No\n",
       "contract_type                                   two_year\n",
       "payment_type           credit_card_automatic (automatic)\n",
       "internet_service_type                                DSL"
      ]
     },
     "execution_count": 35,
     "metadata": {},
     "output_type": "execute_result"
    }
   ],
   "source": [
    "train_explore.head(1).T"
   ]
  },
  {
   "cell_type": "markdown",
   "id": "f93cb708",
   "metadata": {},
   "source": [
    "### Continous Variables\n",
    "Exploring continous variables"
   ]
  },
  {
   "cell_type": "code",
   "execution_count": 36,
   "id": "1a6f1ee1",
   "metadata": {},
   "outputs": [
    {
     "data": {
      "text/plain": [
       "<AxesSubplot:>"
      ]
     },
     "execution_count": 36,
     "metadata": {},
     "output_type": "execute_result"
    },
    {
     "data": {
      "image/png": "[encoded data removed]",
      "text/plain": [
       "<Figure size 1008x720 with 2 Axes>"
      ]
     },
     "metadata": {
      "needs_background": "light"
     },
     "output_type": "display_data"
    }
   ],
   "source": [
    "# Viewing all continuous data in a heatmap to see if there is any strong correlation present between features.\n",
    "cont_var = train_explore.drop('senior_citizen', axis=1)\n",
    "\n",
    "sns.heatmap(cont_var.corr(), cmap='viridis', center=1, annot=True)\n",
    "\n",
    "# It looks as though tenure and total_charges might be interrelated so depending on how the models perform later, I may want to \n",
    "# exclude "
   ]
  },
  {
   "cell_type": "markdown",
   "id": "4986e0dc",
   "metadata": {},
   "source": [
    "#### Takeaways from Heatmap:\n",
    "- There are not many continuous variables to compare in the Telco dataset as most are categorical variables.\n",
    "- Of the three that remain, tenure and total_charges are correlated most strongly \n",
    "    - depending on how the models perform later, I may want to exclude either tenure or total charges to see if this makes a clearer picture for the model to predict on.\n"
   ]
  },
  {
   "cell_type": "code",
   "execution_count": 37,
   "id": "94a4c080",
   "metadata": {},
   "outputs": [
    {
     "data": {
      "image/png": "[encoded data removed]",
      "text/plain": [
       "<Figure size 700x648 with 12 Axes>"
      ]
     },
     "metadata": {
      "needs_background": "light"
     },
     "output_type": "display_data"
    }
   ],
   "source": [
    "sns.pairplot(cont_var, hue='churn', height = 3)\n",
    "plt.show()"
   ]
  },
  {
   "cell_type": "markdown",
   "id": "b0e0aef4",
   "metadata": {},
   "source": [
    "#### Takeaways from pairplot:\n",
    "- It looks as though there are significant differences between churn and no churn for all of the given features: total_charges, monthly_charges, and tenure.\n",
    "- It also looks like higher monthly charges and lower tenure may be a driver for churn.\n",
    "- I will need to hypothesis test these."
   ]
  },
  {
   "cell_type": "markdown",
   "id": "7b1823a5",
   "metadata": {},
   "source": [
    "**Hypothesis testing for continous variables**"
   ]
  },
  {
   "cell_type": "code",
   "execution_count": 38,
   "id": "ca1d008b",
   "metadata": {},
   "outputs": [
    {
     "data": {
      "text/plain": [
       "<AxesSubplot:xlabel='monthly_charges', ylabel='Count'>"
      ]
     },
     "execution_count": 38,
     "metadata": {},
     "output_type": "execute_result"
    },
    {
     "data": {
      "image/png": "[encoded data removed]",
      "text/plain": [
       "<Figure size 576x720 with 3 Axes>"
      ]
     },
     "metadata": {
      "needs_background": "light"
     },
     "output_type": "display_data"
    }
   ],
   "source": [
    "# I want to compare these continous variables with a T-test.  Checking for normality in graphs below.\n",
    "plt.figure(figsize=(8,10))\n",
    "plt.subplot(3,1,1)\n",
    "sns.histplot(data=train_explore[train_explore.churn == 'Yes'].tenure)\n",
    "sns.histplot(data=train_explore[train_explore.churn == 'No'].tenure)\n",
    "plt.subplot(3,1,2)\n",
    "sns.histplot(data=train_explore[train_explore.churn == 'Yes'].total_charges)\n",
    "sns.histplot(data=train_explore[train_explore.churn == 'No'].total_charges)\n",
    "plt.subplot(3,1,3)\n",
    "sns.histplot(data=train_explore[train_explore.churn == 'Yes'].monthly_charges)\n",
    "sns.histplot(data=train_explore[train_explore.churn == 'No'].monthly_charges)"
   ]
  },
  {
   "cell_type": "code",
   "execution_count": 39,
   "id": "baef71b4",
   "metadata": {},
   "outputs": [
    {
     "name": "stdout",
     "output_type": "stream",
     "text": [
      "The total entries for churn is: 1046.\n",
      "The total entries for no churn is: 2891.\n"
     ]
    }
   ],
   "source": [
    "print(f\"The total entries for churn is: {train_explore[train_explore.churn == 'Yes'].shape[0]}.\")\n",
    "print(f\"The total entries for no churn is: {train_explore[train_explore.churn == 'No'].shape[0]}.\")"
   ]
  },
  {
   "cell_type": "code",
   "execution_count": 40,
   "id": "a1afeb56",
   "metadata": {},
   "outputs": [
    {
     "data": {
      "text/plain": [
       "LeveneResult(statistic=208.2260074776894, pvalue=4.918222765354178e-46)"
      ]
     },
     "execution_count": 40,
     "metadata": {},
     "output_type": "execute_result"
    }
   ],
   "source": [
    "# Checking for variance with levene\n",
    "\n",
    "stats.levene(train_explore[train_explore.churn == 'Yes'].tenure, train_explore[train_explore.churn == 'No'].tenure)\n",
    "# No equal variance for tenure."
   ]
  },
  {
   "cell_type": "code",
   "execution_count": 41,
   "id": "a4f7227e",
   "metadata": {},
   "outputs": [
    {
     "data": {
      "text/plain": [
       "LeveneResult(statistic=85.78117491510639, pvalue=3.220782732845082e-20)"
      ]
     },
     "execution_count": 41,
     "metadata": {},
     "output_type": "execute_result"
    }
   ],
   "source": [
    "stats.levene(train_explore[train_explore.churn == 'Yes'].total_charges, train_explore[train_explore.churn == 'No'].total_charges)\n",
    "# No equal variance for total_charges."
   ]
  },
  {
   "cell_type": "code",
   "execution_count": 42,
   "id": "75a13f79",
   "metadata": {},
   "outputs": [
    {
     "data": {
      "text/plain": [
       "LeveneResult(statistic=161.54749042499748, pvalue=2.6620656867750108e-36)"
      ]
     },
     "execution_count": 42,
     "metadata": {},
     "output_type": "execute_result"
    }
   ],
   "source": [
    "stats.levene(train_explore[train_explore.churn == 'Yes'].monthly_charges, train_explore[train_explore.churn == 'No'].monthly_charges)\n",
    "# No equal variance for monthly_charges"
   ]
  },
  {
   "cell_type": "markdown",
   "id": "497d5570",
   "metadata": {},
   "source": [
    "For my t-tests:\n",
    "- Even though the graphs aren't normal, they are large enough to assume normality due to the central limit theorem.\n",
    "- They are independent of one another by definition.\n",
    "- None of the variables have equal variance when split between churn and no churn. I will set equal_var=False.\n",
    "\n",
    "I will run a two sample, two tailed t-test for each continous variable to see if there is any signficant difference between churn and no churn."
   ]
  },
  {
   "cell_type": "markdown",
   "id": "d32b05ba",
   "metadata": {},
   "source": [
    "**Hypothesis 1:**\n",
    "\n",
    "$H_{0}$ There is no difference in tenure between customers who churned and customers who didn't churn.\n",
    "\n",
    "$H_{a}$ There is a statistically significant difference in tenure between customers who churned and customers who didn't churn."
   ]
  },
  {
   "cell_type": "code",
   "execution_count": 43,
   "id": "fd4bb7da",
   "metadata": {},
   "outputs": [],
   "source": [
    "alpha = .05"
   ]
  },
  {
   "cell_type": "code",
   "execution_count": 44,
   "id": "851bb982",
   "metadata": {},
   "outputs": [
    {
     "data": {
      "text/plain": [
       "(-25.10180881507048, 1.0184830572431322e-122)"
      ]
     },
     "execution_count": 44,
     "metadata": {},
     "output_type": "execute_result"
    }
   ],
   "source": [
    "t, p = stats.ttest_ind(train_explore[train_explore.churn == 'Yes'].tenure, train_explore[train_explore.churn == 'No'].tenure, equal_var=False)\n",
    "\n",
    "t, p"
   ]
  },
  {
   "cell_type": "code",
   "execution_count": 45,
   "id": "6cabf2c6",
   "metadata": {},
   "outputs": [
    {
     "data": {
      "text/plain": [
       "True"
      ]
     },
     "execution_count": 45,
     "metadata": {},
     "output_type": "execute_result"
    }
   ],
   "source": [
    "p < alpha"
   ]
  },
  {
   "cell_type": "markdown",
   "id": "2c86112f",
   "metadata": {},
   "source": [
    "Reject the Null; There is a statistically significant difference in tenure between customers who churned and customers who didn't churn.\n"
   ]
  },
  {
   "cell_type": "markdown",
   "id": "d237af75",
   "metadata": {},
   "source": [
    "**Hypothesis 2:**\n",
    "\n",
    "$H_{0}$ There is no difference in monthly_charges between customers who churned and customers who didn't churn.\n",
    "\n",
    "$H_{a}$ There is a statistically significant difference in monthly_charges between customers who churned and customers who didn't churn."
   ]
  },
  {
   "cell_type": "code",
   "execution_count": 46,
   "id": "3a73fe09",
   "metadata": {},
   "outputs": [
    {
     "data": {
      "text/plain": [
       "(12.072008878640396, 1.4724622662838922e-32)"
      ]
     },
     "execution_count": 46,
     "metadata": {},
     "output_type": "execute_result"
    }
   ],
   "source": [
    "t, p = stats.ttest_ind(train_explore[train_explore.churn == 'Yes'].monthly_charges, train_explore[train_explore.churn == 'No'].monthly_charges, equal_var=False)\n",
    "\n",
    "t, p"
   ]
  },
  {
   "cell_type": "code",
   "execution_count": 47,
   "id": "fa18efe2",
   "metadata": {},
   "outputs": [
    {
     "data": {
      "text/plain": [
       "True"
      ]
     },
     "execution_count": 47,
     "metadata": {},
     "output_type": "execute_result"
    }
   ],
   "source": [
    "p < alpha"
   ]
  },
  {
   "cell_type": "markdown",
   "id": "89d4f292",
   "metadata": {},
   "source": [
    "Reject the Null; There is a statistically significant difference in monthly_charges between customers who churned and customers who didn't churn.\n"
   ]
  },
  {
   "cell_type": "markdown",
   "id": "a18733a7",
   "metadata": {},
   "source": [
    "**Hypothesis 3:**\n",
    "\n",
    "$H_{0}$ There is no difference in total_charges between customers who churned and customers who didn't churn.\n",
    "\n",
    "$H_{a}$ There is a statistically significant difference in total_charges between customers who churned and customers who didn't churn."
   ]
  },
  {
   "cell_type": "code",
   "execution_count": 48,
   "id": "22021cd0",
   "metadata": {},
   "outputs": [
    {
     "data": {
      "text/plain": [
       "(-13.516671842845568, 4.576798001002561e-40)"
      ]
     },
     "execution_count": 48,
     "metadata": {},
     "output_type": "execute_result"
    }
   ],
   "source": [
    "t, p = stats.ttest_ind(train_explore[train_explore.churn == 'Yes'].total_charges, train_explore[train_explore.churn == 'No'].total_charges, equal_var=False)\n",
    "\n",
    "t, p"
   ]
  },
  {
   "cell_type": "code",
   "execution_count": 49,
   "id": "4bb8b4e2",
   "metadata": {},
   "outputs": [
    {
     "data": {
      "text/plain": [
       "True"
      ]
     },
     "execution_count": 49,
     "metadata": {},
     "output_type": "execute_result"
    }
   ],
   "source": [
    "p < alpha"
   ]
  },
  {
   "cell_type": "markdown",
   "id": "d3d18ecb",
   "metadata": {},
   "source": [
    "Reject the Null; There is a statistically significant difference in monthly_charges between customers who churned and customers who didn't churn.\n"
   ]
  },
  {
   "cell_type": "markdown",
   "id": "f9874ae8",
   "metadata": {},
   "source": [
    "**Results from t-tests of continous variables**\n",
    "\n",
    "- All continous variables when split between customers who churned and didn't churn show statistically significant differences.\n",
    "- Tenure had the strongest results.\n",
    "- I will use all continuous variables as features for modeling."
   ]
  },
  {
   "cell_type": "markdown",
   "id": "841ed9ba",
   "metadata": {},
   "source": [
    "### Categorical Variables\n",
    "Exploring Categorical variables"
   ]
  },
  {
   "cell_type": "code",
   "execution_count": 50,
   "id": "a954c031",
   "metadata": {},
   "outputs": [
    {
     "name": "stdout",
     "output_type": "stream",
     "text": [
      "<class 'pandas.core.frame.DataFrame'>\n",
      "Int64Index: 3937 entries, 4491 to 3781\n",
      "Data columns (total 19 columns):\n",
      " #   Column                 Non-Null Count  Dtype  \n",
      "---  ------                 --------------  -----  \n",
      " 0   gender                 3937 non-null   object \n",
      " 1   senior_citizen         3937 non-null   int64  \n",
      " 2   partner                3937 non-null   object \n",
      " 3   dependents             3937 non-null   object \n",
      " 4   tenure                 3937 non-null   int64  \n",
      " 5   multiple_lines         3937 non-null   object \n",
      " 6   online_security        3937 non-null   object \n",
      " 7   online_backup          3937 non-null   object \n",
      " 8   device_protection      3937 non-null   object \n",
      " 9   tech_support           3937 non-null   object \n",
      " 10  streaming_tv           3937 non-null   object \n",
      " 11  streaming_movies       3937 non-null   object \n",
      " 12  paperless_billing      3937 non-null   object \n",
      " 13  monthly_charges        3937 non-null   float64\n",
      " 14  total_charges          3937 non-null   float64\n",
      " 15  churn                  3937 non-null   object \n",
      " 16  contract_type          3937 non-null   object \n",
      " 17  payment_type           3937 non-null   object \n",
      " 18  internet_service_type  3937 non-null   object \n",
      "dtypes: float64(2), int64(2), object(15)\n",
      "memory usage: 744.2+ KB\n"
     ]
    }
   ],
   "source": [
    "train_explore.info()\n",
    "\n",
    "explore_cat = train_explore.select_dtypes(object)"
   ]
  },
  {
   "cell_type": "code",
   "execution_count": 51,
   "id": "985c6e65",
   "metadata": {},
   "outputs": [
    {
     "data": {
      "text/html": [
       "<div>\n",
       "<style scoped>\n",
       "    .dataframe tbody tr th:only-of-type {\n",
       "        vertical-align: middle;\n",
       "    }\n",
       "\n",
       "    .dataframe tbody tr th {\n",
       "        vertical-align: top;\n",
       "    }\n",
       "\n",
       "    .dataframe thead th {\n",
       "        text-align: right;\n",
       "    }\n",
       "</style>\n",
       "<table border=\"1\" class=\"dataframe\">\n",
       "  <thead>\n",
       "    <tr style=\"text-align: right;\">\n",
       "      <th></th>\n",
       "      <th>gender</th>\n",
       "      <th>partner</th>\n",
       "      <th>dependents</th>\n",
       "      <th>multiple_lines</th>\n",
       "      <th>online_security</th>\n",
       "      <th>online_backup</th>\n",
       "      <th>device_protection</th>\n",
       "      <th>tech_support</th>\n",
       "      <th>streaming_tv</th>\n",
       "      <th>streaming_movies</th>\n",
       "      <th>paperless_billing</th>\n",
       "      <th>churn</th>\n",
       "      <th>contract_type</th>\n",
       "      <th>payment_type</th>\n",
       "      <th>internet_service_type</th>\n",
       "      <th>senior_citizen</th>\n",
       "    </tr>\n",
       "  </thead>\n",
       "  <tbody>\n",
       "    <tr>\n",
       "      <th>4491</th>\n",
       "      <td>Male</td>\n",
       "      <td>No</td>\n",
       "      <td>No</td>\n",
       "      <td>No</td>\n",
       "      <td>No</td>\n",
       "      <td>Yes</td>\n",
       "      <td>Yes</td>\n",
       "      <td>Yes</td>\n",
       "      <td>Yes</td>\n",
       "      <td>Yes</td>\n",
       "      <td>No</td>\n",
       "      <td>No</td>\n",
       "      <td>two_year</td>\n",
       "      <td>credit_card_automatic (automatic)</td>\n",
       "      <td>DSL</td>\n",
       "      <td>0</td>\n",
       "    </tr>\n",
       "    <tr>\n",
       "      <th>2346</th>\n",
       "      <td>Female</td>\n",
       "      <td>Yes</td>\n",
       "      <td>Yes</td>\n",
       "      <td>No</td>\n",
       "      <td>No</td>\n",
       "      <td>No</td>\n",
       "      <td>No</td>\n",
       "      <td>No</td>\n",
       "      <td>No</td>\n",
       "      <td>No</td>\n",
       "      <td>Yes</td>\n",
       "      <td>No</td>\n",
       "      <td>two_year</td>\n",
       "      <td>mailed_check</td>\n",
       "      <td>None</td>\n",
       "      <td>0</td>\n",
       "    </tr>\n",
       "    <tr>\n",
       "      <th>770</th>\n",
       "      <td>Female</td>\n",
       "      <td>No</td>\n",
       "      <td>Yes</td>\n",
       "      <td>Yes</td>\n",
       "      <td>No</td>\n",
       "      <td>Yes</td>\n",
       "      <td>No</td>\n",
       "      <td>No</td>\n",
       "      <td>Yes</td>\n",
       "      <td>Yes</td>\n",
       "      <td>Yes</td>\n",
       "      <td>No</td>\n",
       "      <td>one_year</td>\n",
       "      <td>mailed_check</td>\n",
       "      <td>DSL</td>\n",
       "      <td>0</td>\n",
       "    </tr>\n",
       "    <tr>\n",
       "      <th>5155</th>\n",
       "      <td>Male</td>\n",
       "      <td>Yes</td>\n",
       "      <td>No</td>\n",
       "      <td>Yes</td>\n",
       "      <td>No</td>\n",
       "      <td>No</td>\n",
       "      <td>No</td>\n",
       "      <td>No</td>\n",
       "      <td>Yes</td>\n",
       "      <td>No</td>\n",
       "      <td>Yes</td>\n",
       "      <td>Yes</td>\n",
       "      <td>month_to_month</td>\n",
       "      <td>electronic_check</td>\n",
       "      <td>fiber_optic</td>\n",
       "      <td>0</td>\n",
       "    </tr>\n",
       "    <tr>\n",
       "      <th>189</th>\n",
       "      <td>Female</td>\n",
       "      <td>No</td>\n",
       "      <td>Yes</td>\n",
       "      <td>No</td>\n",
       "      <td>Yes</td>\n",
       "      <td>No</td>\n",
       "      <td>No</td>\n",
       "      <td>Yes</td>\n",
       "      <td>No</td>\n",
       "      <td>No</td>\n",
       "      <td>Yes</td>\n",
       "      <td>No</td>\n",
       "      <td>one_year</td>\n",
       "      <td>mailed_check</td>\n",
       "      <td>DSL</td>\n",
       "      <td>0</td>\n",
       "    </tr>\n",
       "  </tbody>\n",
       "</table>\n",
       "</div>"
      ],
      "text/plain": [
       "      gender partner dependents multiple_lines online_security online_backup  \\\n",
       "4491    Male      No         No             No              No           Yes   \n",
       "2346  Female     Yes        Yes             No              No            No   \n",
       "770   Female      No        Yes            Yes              No           Yes   \n",
       "5155    Male     Yes         No            Yes              No            No   \n",
       "189   Female      No        Yes             No             Yes            No   \n",
       "\n",
       "     device_protection tech_support streaming_tv streaming_movies  \\\n",
       "4491               Yes          Yes          Yes              Yes   \n",
       "2346                No           No           No               No   \n",
       "770                 No           No          Yes              Yes   \n",
       "5155                No           No          Yes               No   \n",
       "189                 No          Yes           No               No   \n",
       "\n",
       "     paperless_billing churn   contract_type  \\\n",
       "4491                No    No        two_year   \n",
       "2346               Yes    No        two_year   \n",
       "770                Yes    No        one_year   \n",
       "5155               Yes   Yes  month_to_month   \n",
       "189                Yes    No        one_year   \n",
       "\n",
       "                           payment_type internet_service_type  senior_citizen  \n",
       "4491  credit_card_automatic (automatic)                   DSL               0  \n",
       "2346                       mailed_check                  None               0  \n",
       "770                        mailed_check                   DSL               0  \n",
       "5155                   electronic_check           fiber_optic               0  \n",
       "189                        mailed_check                   DSL               0  "
      ]
     },
     "execution_count": 51,
     "metadata": {},
     "output_type": "execute_result"
    }
   ],
   "source": [
    "# Concatenating senior_citizen to the objects as it is technically a categorical variable encoded as a numerical one.\n",
    "explore_cat = pd.concat([explore_cat, train_explore.senior_citizen], axis = 1)\n",
    "explore_cat.head()"
   ]
  },
  {
   "cell_type": "code",
   "execution_count": 52,
   "id": "94da20ac",
   "metadata": {},
   "outputs": [],
   "source": [
    "def explore_categoricals(df, target, alpha = .05):\n",
    "    '''\n",
    "    This function takes in a subset of the train dataframe which contains on the categorical variable columns and runs a Chi \n",
    "    Test of Independence on all variables in comparison to the target variable. It prints the null and alternative hypotheses\n",
    "    for each comparison and displays results indicating whether the results reject or fail to reject the null hypothesis based\n",
    "    on the supplied alpha.  Returns a dataframe containing the variable (feature) name and the p value of chi2 test for all \n",
    "    variables having a p < alpha.\n",
    "    \n",
    "    Arguments:\n",
    "                df - a subset of the train dataframe containing ONLY categorical variables\n",
    "                target - specifies the target variable to compare with all other variables in the subset df\n",
    "                alpha - a specified alpha for statistical significance. Default set to .05\n",
    "                \n",
    "    Return: dataframe with variable names and p value results from the chi2 test for all variables where p < alpha.\n",
    "    \n",
    "    '''\n",
    "    print(\"Exploring relationships between categorical variables and the target categorical variable.\")\n",
    "    print(\"----------------------------------\\n\")\n",
    "    stat_significant = []\n",
    "    p_value= []\n",
    "    not_stat_significant = []\n",
    "    a = alpha\n",
    "    for col in explore_cat.columns:\n",
    "        print(f\"Null Hypothesis: There is no relationship between {col} and {target}.\")\n",
    "        print(f\"Alternative Hypothesis: There is a relationship between {col} and {target}.\")\n",
    "        print(\"----------------------------------\\n\")\n",
    "        print(\"Results of Chi Squared Test of Independence\")\n",
    "        observed = pd.crosstab(df[col], df[target])\n",
    "        chi2, p, degf, expected = stats.chi2_contingency(observed)\n",
    "        if p < a:\n",
    "            print(f\"P ({p}) is less than alpha ({a}).\")\n",
    "            print(f\"I reject the null hypothesis. There is a statistically significant relationship between {col} and {target}.\")\n",
    "            stat_significant.append(col)\n",
    "            p_value.append(p)\n",
    "        else:\n",
    "            print(f\"P ({p}) is more than alpha ({a}).\")\n",
    "            print(f\"I fail to reject the null hypothesis that there is no relationship between {col} and {target}.\")\n",
    "            not_stat_significant.append(col)\n",
    "        print(\"\\n----------------------------------\\n\")\n",
    "    \n",
    "    print(f\"Statistically signficant relationships with the target variable ({target}) were found with the following features:\")\n",
    "    print(stat_significant)\n",
    "    print(\"----------------------------------\\n\")\n",
    "    print(f\"Statistically signficant relationships with the target variable ({target}) were NOT found with the following features:\")\n",
    "    print(not_stat_significant)\n",
    "    return pd.DataFrame({\"feature\": stat_significant, \"p_value\": p_value})\n"
   ]
  },
  {
   "cell_type": "code",
   "execution_count": 53,
   "id": "19d2af84",
   "metadata": {},
   "outputs": [
    {
     "name": "stdout",
     "output_type": "stream",
     "text": [
      "Exploring relationships between categorical variables and the target categorical variable.\n",
      "----------------------------------\n",
      "\n",
      "Null Hypothesis: There is no relationship between gender and churn.\n",
      "Alternative Hypothesis: There is a relationship between gender and churn.\n",
      "----------------------------------\n",
      "\n",
      "Results of Chi Squared Test of Independence\n",
      "P (0.2467776583022185) is more than alpha (0.05).\n",
      "I fail to reject the null hypothesis that there is no relationship between gender and churn.\n",
      "\n",
      "----------------------------------\n",
      "\n",
      "Null Hypothesis: There is no relationship between partner and churn.\n",
      "Alternative Hypothesis: There is a relationship between partner and churn.\n",
      "----------------------------------\n",
      "\n",
      "Results of Chi Squared Test of Independence\n",
      "P (6.453485965478912e-22) is less than alpha (0.05).\n",
      "I reject the null hypothesis. There is a statistically significant relationship between partner and churn.\n",
      "\n",
      "----------------------------------\n",
      "\n",
      "Null Hypothesis: There is no relationship between dependents and churn.\n",
      "Alternative Hypothesis: There is a relationship between dependents and churn.\n",
      "----------------------------------\n",
      "\n",
      "Results of Chi Squared Test of Independence\n",
      "P (2.424981502248024e-28) is less than alpha (0.05).\n",
      "I reject the null hypothesis. There is a statistically significant relationship between dependents and churn.\n",
      "\n",
      "----------------------------------\n",
      "\n",
      "Null Hypothesis: There is no relationship between multiple_lines and churn.\n",
      "Alternative Hypothesis: There is a relationship between multiple_lines and churn.\n",
      "----------------------------------\n",
      "\n",
      "Results of Chi Squared Test of Independence\n",
      "P (0.14957393095810176) is more than alpha (0.05).\n",
      "I fail to reject the null hypothesis that there is no relationship between multiple_lines and churn.\n",
      "\n",
      "----------------------------------\n",
      "\n",
      "Null Hypothesis: There is no relationship between online_security and churn.\n",
      "Alternative Hypothesis: There is a relationship between online_security and churn.\n",
      "----------------------------------\n",
      "\n",
      "Results of Chi Squared Test of Independence\n",
      "P (1.257737179652399e-27) is less than alpha (0.05).\n",
      "I reject the null hypothesis. There is a statistically significant relationship between online_security and churn.\n",
      "\n",
      "----------------------------------\n",
      "\n",
      "Null Hypothesis: There is no relationship between online_backup and churn.\n",
      "Alternative Hypothesis: There is a relationship between online_backup and churn.\n",
      "----------------------------------\n",
      "\n",
      "Results of Chi Squared Test of Independence\n",
      "P (5.930604481737376e-08) is less than alpha (0.05).\n",
      "I reject the null hypothesis. There is a statistically significant relationship between online_backup and churn.\n",
      "\n",
      "----------------------------------\n",
      "\n",
      "Null Hypothesis: There is no relationship between device_protection and churn.\n",
      "Alternative Hypothesis: There is a relationship between device_protection and churn.\n",
      "----------------------------------\n",
      "\n",
      "Results of Chi Squared Test of Independence\n",
      "P (4.9106125382354625e-05) is less than alpha (0.05).\n",
      "I reject the null hypothesis. There is a statistically significant relationship between device_protection and churn.\n",
      "\n",
      "----------------------------------\n",
      "\n",
      "Null Hypothesis: There is no relationship between tech_support and churn.\n",
      "Alternative Hypothesis: There is a relationship between tech_support and churn.\n",
      "----------------------------------\n",
      "\n",
      "Results of Chi Squared Test of Independence\n",
      "P (1.3162243040472767e-25) is less than alpha (0.05).\n",
      "I reject the null hypothesis. There is a statistically significant relationship between tech_support and churn.\n",
      "\n",
      "----------------------------------\n",
      "\n",
      "Null Hypothesis: There is no relationship between streaming_tv and churn.\n",
      "Alternative Hypothesis: There is a relationship between streaming_tv and churn.\n",
      "----------------------------------\n",
      "\n",
      "Results of Chi Squared Test of Independence\n",
      "P (1.7564595499722372e-05) is less than alpha (0.05).\n",
      "I reject the null hypothesis. There is a statistically significant relationship between streaming_tv and churn.\n",
      "\n",
      "----------------------------------\n",
      "\n",
      "Null Hypothesis: There is no relationship between streaming_movies and churn.\n",
      "Alternative Hypothesis: There is a relationship between streaming_movies and churn.\n",
      "----------------------------------\n",
      "\n",
      "Results of Chi Squared Test of Independence\n",
      "P (0.00029790691656821734) is less than alpha (0.05).\n",
      "I reject the null hypothesis. There is a statistically significant relationship between streaming_movies and churn.\n",
      "\n",
      "----------------------------------\n",
      "\n",
      "Null Hypothesis: There is no relationship between paperless_billing and churn.\n",
      "Alternative Hypothesis: There is a relationship between paperless_billing and churn.\n",
      "----------------------------------\n",
      "\n",
      "Results of Chi Squared Test of Independence\n",
      "P (6.745165141791158e-33) is less than alpha (0.05).\n",
      "I reject the null hypothesis. There is a statistically significant relationship between paperless_billing and churn.\n",
      "\n",
      "----------------------------------\n",
      "\n",
      "Null Hypothesis: There is no relationship between churn and churn.\n",
      "Alternative Hypothesis: There is a relationship between churn and churn.\n",
      "----------------------------------\n",
      "\n",
      "Results of Chi Squared Test of Independence\n",
      "P (0.0) is less than alpha (0.05).\n",
      "I reject the null hypothesis. There is a statistically significant relationship between churn and churn.\n",
      "\n",
      "----------------------------------\n",
      "\n",
      "Null Hypothesis: There is no relationship between contract_type and churn.\n",
      "Alternative Hypothesis: There is a relationship between contract_type and churn.\n",
      "----------------------------------\n",
      "\n",
      "Results of Chi Squared Test of Independence\n",
      "P (3.957406041161972e-140) is less than alpha (0.05).\n",
      "I reject the null hypothesis. There is a statistically significant relationship between contract_type and churn.\n",
      "\n",
      "----------------------------------\n",
      "\n",
      "Null Hypothesis: There is no relationship between payment_type and churn.\n",
      "Alternative Hypothesis: There is a relationship between payment_type and churn.\n",
      "----------------------------------\n",
      "\n",
      "Results of Chi Squared Test of Independence\n",
      "P (7.032805909748007e-72) is less than alpha (0.05).\n",
      "I reject the null hypothesis. There is a statistically significant relationship between payment_type and churn.\n",
      "\n",
      "----------------------------------\n",
      "\n",
      "Null Hypothesis: There is no relationship between internet_service_type and churn.\n",
      "Alternative Hypothesis: There is a relationship between internet_service_type and churn.\n",
      "----------------------------------\n",
      "\n",
      "Results of Chi Squared Test of Independence\n",
      "P (2.781526955637221e-77) is less than alpha (0.05).\n",
      "I reject the null hypothesis. There is a statistically significant relationship between internet_service_type and churn.\n",
      "\n",
      "----------------------------------\n",
      "\n",
      "Null Hypothesis: There is no relationship between senior_citizen and churn.\n",
      "Alternative Hypothesis: There is a relationship between senior_citizen and churn.\n",
      "----------------------------------\n",
      "\n",
      "Results of Chi Squared Test of Independence\n",
      "P (3.0883007239982934e-25) is less than alpha (0.05).\n",
      "I reject the null hypothesis. There is a statistically significant relationship between senior_citizen and churn.\n",
      "\n",
      "----------------------------------\n",
      "\n",
      "Statistically signficant relationships with the target variable (churn) were found with the following features:\n",
      "['partner', 'dependents', 'online_security', 'online_backup', 'device_protection', 'tech_support', 'streaming_tv', 'streaming_movies', 'paperless_billing', 'churn', 'contract_type', 'payment_type', 'internet_service_type', 'senior_citizen']\n",
      "----------------------------------\n",
      "\n",
      "Statistically signficant relationships with the target variable (churn) were NOT found with the following features:\n",
      "['gender', 'multiple_lines']\n"
     ]
    }
   ],
   "source": [
    "chi2_results = explore_categoricals(explore_cat, 'churn')"
   ]
  },
  {
   "cell_type": "code",
   "execution_count": 54,
   "id": "f15f036c",
   "metadata": {},
   "outputs": [
    {
     "data": {
      "text/html": [
       "<div>\n",
       "<style scoped>\n",
       "    .dataframe tbody tr th:only-of-type {\n",
       "        vertical-align: middle;\n",
       "    }\n",
       "\n",
       "    .dataframe tbody tr th {\n",
       "        vertical-align: top;\n",
       "    }\n",
       "\n",
       "    .dataframe thead th {\n",
       "        text-align: right;\n",
       "    }\n",
       "</style>\n",
       "<table border=\"1\" class=\"dataframe\">\n",
       "  <thead>\n",
       "    <tr style=\"text-align: right;\">\n",
       "      <th></th>\n",
       "      <th>feature</th>\n",
       "      <th>p_value</th>\n",
       "    </tr>\n",
       "  </thead>\n",
       "  <tbody>\n",
       "    <tr>\n",
       "      <th>9</th>\n",
       "      <td>churn</td>\n",
       "      <td>0.000000e+00</td>\n",
       "    </tr>\n",
       "    <tr>\n",
       "      <th>10</th>\n",
       "      <td>contract_type</td>\n",
       "      <td>3.957406e-140</td>\n",
       "    </tr>\n",
       "    <tr>\n",
       "      <th>12</th>\n",
       "      <td>internet_service_type</td>\n",
       "      <td>2.781527e-77</td>\n",
       "    </tr>\n",
       "    <tr>\n",
       "      <th>11</th>\n",
       "      <td>payment_type</td>\n",
       "      <td>7.032806e-72</td>\n",
       "    </tr>\n",
       "    <tr>\n",
       "      <th>8</th>\n",
       "      <td>paperless_billing</td>\n",
       "      <td>6.745165e-33</td>\n",
       "    </tr>\n",
       "    <tr>\n",
       "      <th>1</th>\n",
       "      <td>dependents</td>\n",
       "      <td>2.424982e-28</td>\n",
       "    </tr>\n",
       "    <tr>\n",
       "      <th>2</th>\n",
       "      <td>online_security</td>\n",
       "      <td>1.257737e-27</td>\n",
       "    </tr>\n",
       "    <tr>\n",
       "      <th>5</th>\n",
       "      <td>tech_support</td>\n",
       "      <td>1.316224e-25</td>\n",
       "    </tr>\n",
       "    <tr>\n",
       "      <th>13</th>\n",
       "      <td>senior_citizen</td>\n",
       "      <td>3.088301e-25</td>\n",
       "    </tr>\n",
       "    <tr>\n",
       "      <th>0</th>\n",
       "      <td>partner</td>\n",
       "      <td>6.453486e-22</td>\n",
       "    </tr>\n",
       "    <tr>\n",
       "      <th>3</th>\n",
       "      <td>online_backup</td>\n",
       "      <td>5.930604e-08</td>\n",
       "    </tr>\n",
       "    <tr>\n",
       "      <th>6</th>\n",
       "      <td>streaming_tv</td>\n",
       "      <td>1.756460e-05</td>\n",
       "    </tr>\n",
       "    <tr>\n",
       "      <th>4</th>\n",
       "      <td>device_protection</td>\n",
       "      <td>4.910613e-05</td>\n",
       "    </tr>\n",
       "    <tr>\n",
       "      <th>7</th>\n",
       "      <td>streaming_movies</td>\n",
       "      <td>2.979069e-04</td>\n",
       "    </tr>\n",
       "  </tbody>\n",
       "</table>\n",
       "</div>"
      ],
      "text/plain": [
       "                  feature        p_value\n",
       "9                   churn   0.000000e+00\n",
       "10          contract_type  3.957406e-140\n",
       "12  internet_service_type   2.781527e-77\n",
       "11           payment_type   7.032806e-72\n",
       "8       paperless_billing   6.745165e-33\n",
       "1              dependents   2.424982e-28\n",
       "2         online_security   1.257737e-27\n",
       "5            tech_support   1.316224e-25\n",
       "13         senior_citizen   3.088301e-25\n",
       "0                 partner   6.453486e-22\n",
       "3           online_backup   5.930604e-08\n",
       "6            streaming_tv   1.756460e-05\n",
       "4       device_protection   4.910613e-05\n",
       "7        streaming_movies   2.979069e-04"
      ]
     },
     "execution_count": 54,
     "metadata": {},
     "output_type": "execute_result"
    }
   ],
   "source": [
    "chi2_results.sort_values('p_value')"
   ]
  },
  {
   "cell_type": "markdown",
   "id": "528129ab",
   "metadata": {},
   "source": [
    "**Results from Chi Squared test of categorical variables**\n",
    "\n",
    "- Both gender and multiple_lines showed NO statistically significant relationship with churn.  These variables can be discarded and not used as features in my models.\n",
    "- All other variables had statistical signficance showing a relationship between them and churn.  They include:\n",
    "    - partner\n",
    "    - dependents\n",
    "    - online_security\n",
    "    - online_backup\n",
    "    - device_protection\n",
    "    - tech_support\n",
    "    - streaming_tv\n",
    "    - streaming_movies\n",
    "    - paperless_billing\n",
    "    - contract_type\n",
    "    - payment_type\n",
    "    - internet_service_type\n",
    "    - senior_citizen\n",
    "    \n",
    "- I will use all categorical variables from the previous list as features for initial modeling.\n",
    "    - contract_type, internet_service_type, and payment_type are *strongly* related from persepctive of statistical likelihood.\n",
    "- If I have time, I will come back later to determine if certain categorical variables may have a relationship with one another that would indicate one of them need not be included in the model. This would hopefully add clarity and predictive power."
   ]
  },
  {
   "cell_type": "markdown",
   "id": "b5ffb85f",
   "metadata": {},
   "source": [
    "# Modeling\n",
    "I will be creating initial models with basic hyperparameters for the following types:\n",
    "- Decision Tree\n",
    "- Random Forest\n",
    "- K-nearest neighbors\n",
    "- Logistic Regression\n",
    "\n",
    "If there is time I would also like to try models using:\n",
    "- Support Vector Machine (SVM)\n",
    "- Naive Bayes\n",
    "\n",
    "I will also need to create a function I will call premodeling that will do final processing of the dataframe to make it usable for the models based on the features I want to include."
   ]
  },
  {
   "cell_type": "code",
   "execution_count": 55,
   "id": "801286cf",
   "metadata": {},
   "outputs": [],
   "source": [
    "# I need to do some final clean up post exploration to set up the data for modeling.  This will involve removing all non-encoded\n",
    "# columns and dropping columns I determinded during exploration to not be useful features.\n",
    "\n",
    "def pre_model(train, validate, test, drop_columns_list = []):\n",
    "    '''\n",
    "    This function does any final preparation necessary prior to modeling. It takes in the train, validate, test subsets made \n",
    "    previously does transformations (e.g. dropping non-encoded columns) and returns the final versions of train, validate, test.\n",
    "    \n",
    "    Arguments:\n",
    "        train - a subset of the entire dataframe, previously split, to be used for training my models\n",
    "        validate - a subset of the entire dataframe, previously split, to be used for validation of my models\n",
    "        test - a subset of the entire dataframe, previously split, to be used for testing my final model\n",
    "        drop_columns_list = a list of columns determined during EDA to not be useful features for modeling\n",
    "   \n",
    "   Returns: train, validate, test dataframes ready for modeling\n",
    "    '''\n",
    "    # makes a list of unencoded columns to drop PLUS puts customer_id back in (this is necessary for a later step \n",
    "    # involving customer_id)\n",
    "    unencoded_train_to_drop = train.select_dtypes('object').columns\n",
    "    unencoded_train_to_drop = unencoded_train_to_drop.drop('customer_id')\n",
    "    \n",
    "    unencoded_validate_to_drop = validate.select_dtypes('object').columns\n",
    "    unencoded_validate_to_drop = unencoded_validate_to_drop.drop('customer_id')\n",
    "    \n",
    "    unencoded_test_to_drop = test.select_dtypes('object').columns\n",
    "    unencoded_test_to_drop = unencoded_test_to_drop.drop('customer_id')\n",
    "    \n",
    "    \n",
    "    # Drops all unencoded columns\n",
    "    train = train.drop(columns = (unencoded_train_to_drop))\n",
    "    validate = validate.drop(columns = (unencoded_validate_to_drop))\n",
    "    test = test.drop(columns = (unencoded_test_to_drop))\n",
    "    \n",
    "    # Drops columns in the drop_columns_list\n",
    "    train = train.drop(columns = drop_columns_list)\n",
    "    validate = validate.drop(columns = drop_columns_list)\n",
    "    test = test.drop(columns = drop_columns_list)\n",
    "    \n",
    "    return train, validate, test"
   ]
  },
  {
   "cell_type": "code",
   "execution_count": 56,
   "id": "c1005ae8",
   "metadata": {},
   "outputs": [],
   "source": [
    "train, validate, test = pre_model(train, validate, test, drop_columns_list= ['gender_Male', 'multiple_lines_Yes'])"
   ]
  },
  {
   "cell_type": "code",
   "execution_count": 57,
   "id": "1a27a7b1",
   "metadata": {},
   "outputs": [
    {
     "data": {
      "text/html": [
       "<div>\n",
       "<style scoped>\n",
       "    .dataframe tbody tr th:only-of-type {\n",
       "        vertical-align: middle;\n",
       "    }\n",
       "\n",
       "    .dataframe tbody tr th {\n",
       "        vertical-align: top;\n",
       "    }\n",
       "\n",
       "    .dataframe thead th {\n",
       "        text-align: right;\n",
       "    }\n",
       "</style>\n",
       "<table border=\"1\" class=\"dataframe\">\n",
       "  <thead>\n",
       "    <tr style=\"text-align: right;\">\n",
       "      <th></th>\n",
       "      <th>customer_id</th>\n",
       "      <th>senior_citizen</th>\n",
       "      <th>tenure</th>\n",
       "      <th>monthly_charges</th>\n",
       "      <th>total_charges</th>\n",
       "      <th>partner_Yes</th>\n",
       "      <th>dependents_Yes</th>\n",
       "      <th>online_security_Yes</th>\n",
       "      <th>online_backup_Yes</th>\n",
       "      <th>device_protection_Yes</th>\n",
       "      <th>...</th>\n",
       "      <th>streaming_movies_Yes</th>\n",
       "      <th>paperless_billing_Yes</th>\n",
       "      <th>churn_Yes</th>\n",
       "      <th>contract_type_one_year</th>\n",
       "      <th>contract_type_two_year</th>\n",
       "      <th>payment_type_credit_card_automatic (automatic)</th>\n",
       "      <th>payment_type_electronic_check</th>\n",
       "      <th>payment_type_mailed_check</th>\n",
       "      <th>internet_service_type_None</th>\n",
       "      <th>internet_service_type_fiber_optic</th>\n",
       "    </tr>\n",
       "  </thead>\n",
       "  <tbody>\n",
       "    <tr>\n",
       "      <th>4491</th>\n",
       "      <td>6339-RZCBJ</td>\n",
       "      <td>0</td>\n",
       "      <td>48</td>\n",
       "      <td>78.90</td>\n",
       "      <td>3771.50</td>\n",
       "      <td>0</td>\n",
       "      <td>0</td>\n",
       "      <td>0</td>\n",
       "      <td>1</td>\n",
       "      <td>1</td>\n",
       "      <td>...</td>\n",
       "      <td>1</td>\n",
       "      <td>0</td>\n",
       "      <td>0</td>\n",
       "      <td>0</td>\n",
       "      <td>1</td>\n",
       "      <td>1</td>\n",
       "      <td>0</td>\n",
       "      <td>0</td>\n",
       "      <td>0</td>\n",
       "      <td>0</td>\n",
       "    </tr>\n",
       "    <tr>\n",
       "      <th>2346</th>\n",
       "      <td>3359-DSRKA</td>\n",
       "      <td>0</td>\n",
       "      <td>58</td>\n",
       "      <td>19.85</td>\n",
       "      <td>1158.85</td>\n",
       "      <td>1</td>\n",
       "      <td>1</td>\n",
       "      <td>0</td>\n",
       "      <td>0</td>\n",
       "      <td>0</td>\n",
       "      <td>...</td>\n",
       "      <td>0</td>\n",
       "      <td>1</td>\n",
       "      <td>0</td>\n",
       "      <td>0</td>\n",
       "      <td>1</td>\n",
       "      <td>0</td>\n",
       "      <td>0</td>\n",
       "      <td>1</td>\n",
       "      <td>1</td>\n",
       "      <td>0</td>\n",
       "    </tr>\n",
       "    <tr>\n",
       "      <th>770</th>\n",
       "      <td>1121-QSIVB</td>\n",
       "      <td>0</td>\n",
       "      <td>44</td>\n",
       "      <td>77.55</td>\n",
       "      <td>3471.10</td>\n",
       "      <td>0</td>\n",
       "      <td>1</td>\n",
       "      <td>0</td>\n",
       "      <td>1</td>\n",
       "      <td>0</td>\n",
       "      <td>...</td>\n",
       "      <td>1</td>\n",
       "      <td>1</td>\n",
       "      <td>0</td>\n",
       "      <td>1</td>\n",
       "      <td>0</td>\n",
       "      <td>0</td>\n",
       "      <td>0</td>\n",
       "      <td>1</td>\n",
       "      <td>0</td>\n",
       "      <td>0</td>\n",
       "    </tr>\n",
       "    <tr>\n",
       "      <th>5155</th>\n",
       "      <td>7249-WBIYX</td>\n",
       "      <td>0</td>\n",
       "      <td>10</td>\n",
       "      <td>85.60</td>\n",
       "      <td>813.85</td>\n",
       "      <td>1</td>\n",
       "      <td>0</td>\n",
       "      <td>0</td>\n",
       "      <td>0</td>\n",
       "      <td>0</td>\n",
       "      <td>...</td>\n",
       "      <td>0</td>\n",
       "      <td>1</td>\n",
       "      <td>1</td>\n",
       "      <td>0</td>\n",
       "      <td>0</td>\n",
       "      <td>0</td>\n",
       "      <td>1</td>\n",
       "      <td>0</td>\n",
       "      <td>0</td>\n",
       "      <td>1</td>\n",
       "    </tr>\n",
       "    <tr>\n",
       "      <th>189</th>\n",
       "      <td>0305-SQECB</td>\n",
       "      <td>0</td>\n",
       "      <td>11</td>\n",
       "      <td>36.05</td>\n",
       "      <td>402.60</td>\n",
       "      <td>0</td>\n",
       "      <td>1</td>\n",
       "      <td>1</td>\n",
       "      <td>0</td>\n",
       "      <td>0</td>\n",
       "      <td>...</td>\n",
       "      <td>0</td>\n",
       "      <td>1</td>\n",
       "      <td>0</td>\n",
       "      <td>1</td>\n",
       "      <td>0</td>\n",
       "      <td>0</td>\n",
       "      <td>0</td>\n",
       "      <td>1</td>\n",
       "      <td>0</td>\n",
       "      <td>0</td>\n",
       "    </tr>\n",
       "  </tbody>\n",
       "</table>\n",
       "<p>5 rows × 22 columns</p>\n",
       "</div>"
      ],
      "text/plain": [
       "     customer_id  senior_citizen  tenure  monthly_charges  total_charges  \\\n",
       "4491  6339-RZCBJ               0      48            78.90        3771.50   \n",
       "2346  3359-DSRKA               0      58            19.85        1158.85   \n",
       "770   1121-QSIVB               0      44            77.55        3471.10   \n",
       "5155  7249-WBIYX               0      10            85.60         813.85   \n",
       "189   0305-SQECB               0      11            36.05         402.60   \n",
       "\n",
       "      partner_Yes  dependents_Yes  online_security_Yes  online_backup_Yes  \\\n",
       "4491            0               0                    0                  1   \n",
       "2346            1               1                    0                  0   \n",
       "770             0               1                    0                  1   \n",
       "5155            1               0                    0                  0   \n",
       "189             0               1                    1                  0   \n",
       "\n",
       "      device_protection_Yes  ...  streaming_movies_Yes  paperless_billing_Yes  \\\n",
       "4491                      1  ...                     1                      0   \n",
       "2346                      0  ...                     0                      1   \n",
       "770                       0  ...                     1                      1   \n",
       "5155                      0  ...                     0                      1   \n",
       "189                       0  ...                     0                      1   \n",
       "\n",
       "      churn_Yes  contract_type_one_year  contract_type_two_year  \\\n",
       "4491          0                       0                       1   \n",
       "2346          0                       0                       1   \n",
       "770           0                       1                       0   \n",
       "5155          1                       0                       0   \n",
       "189           0                       1                       0   \n",
       "\n",
       "      payment_type_credit_card_automatic (automatic)  \\\n",
       "4491                                               1   \n",
       "2346                                               0   \n",
       "770                                                0   \n",
       "5155                                               0   \n",
       "189                                                0   \n",
       "\n",
       "      payment_type_electronic_check  payment_type_mailed_check  \\\n",
       "4491                              0                          0   \n",
       "2346                              0                          1   \n",
       "770                               0                          1   \n",
       "5155                              1                          0   \n",
       "189                               0                          1   \n",
       "\n",
       "      internet_service_type_None  internet_service_type_fiber_optic  \n",
       "4491                           0                                  0  \n",
       "2346                           1                                  0  \n",
       "770                            0                                  0  \n",
       "5155                           0                                  1  \n",
       "189                            0                                  0  \n",
       "\n",
       "[5 rows x 22 columns]"
      ]
     },
     "execution_count": 57,
     "metadata": {},
     "output_type": "execute_result"
    }
   ],
   "source": [
    "train.head()"
   ]
  },
  {
   "cell_type": "code",
   "execution_count": 58,
   "id": "5cb6348a",
   "metadata": {},
   "outputs": [
    {
     "data": {
      "text/html": [
       "<div>\n",
       "<style scoped>\n",
       "    .dataframe tbody tr th:only-of-type {\n",
       "        vertical-align: middle;\n",
       "    }\n",
       "\n",
       "    .dataframe tbody tr th {\n",
       "        vertical-align: top;\n",
       "    }\n",
       "\n",
       "    .dataframe thead th {\n",
       "        text-align: right;\n",
       "    }\n",
       "</style>\n",
       "<table border=\"1\" class=\"dataframe\">\n",
       "  <thead>\n",
       "    <tr style=\"text-align: right;\">\n",
       "      <th></th>\n",
       "      <th>customer_id</th>\n",
       "      <th>senior_citizen</th>\n",
       "      <th>tenure</th>\n",
       "      <th>monthly_charges</th>\n",
       "      <th>total_charges</th>\n",
       "      <th>partner_Yes</th>\n",
       "      <th>dependents_Yes</th>\n",
       "      <th>online_security_Yes</th>\n",
       "      <th>online_backup_Yes</th>\n",
       "      <th>device_protection_Yes</th>\n",
       "      <th>...</th>\n",
       "      <th>streaming_movies_Yes</th>\n",
       "      <th>paperless_billing_Yes</th>\n",
       "      <th>churn_Yes</th>\n",
       "      <th>contract_type_one_year</th>\n",
       "      <th>contract_type_two_year</th>\n",
       "      <th>payment_type_credit_card_automatic (automatic)</th>\n",
       "      <th>payment_type_electronic_check</th>\n",
       "      <th>payment_type_mailed_check</th>\n",
       "      <th>internet_service_type_None</th>\n",
       "      <th>internet_service_type_fiber_optic</th>\n",
       "    </tr>\n",
       "  </thead>\n",
       "  <tbody>\n",
       "    <tr>\n",
       "      <th>4959</th>\n",
       "      <td>6981-TDRFT</td>\n",
       "      <td>0</td>\n",
       "      <td>44</td>\n",
       "      <td>54.30</td>\n",
       "      <td>2317.10</td>\n",
       "      <td>1</td>\n",
       "      <td>1</td>\n",
       "      <td>0</td>\n",
       "      <td>0</td>\n",
       "      <td>1</td>\n",
       "      <td>...</td>\n",
       "      <td>1</td>\n",
       "      <td>1</td>\n",
       "      <td>0</td>\n",
       "      <td>1</td>\n",
       "      <td>0</td>\n",
       "      <td>0</td>\n",
       "      <td>1</td>\n",
       "      <td>0</td>\n",
       "      <td>0</td>\n",
       "      <td>0</td>\n",
       "    </tr>\n",
       "    <tr>\n",
       "      <th>3623</th>\n",
       "      <td>5135-RDDQL</td>\n",
       "      <td>0</td>\n",
       "      <td>63</td>\n",
       "      <td>50.65</td>\n",
       "      <td>3221.25</td>\n",
       "      <td>1</td>\n",
       "      <td>1</td>\n",
       "      <td>1</td>\n",
       "      <td>0</td>\n",
       "      <td>0</td>\n",
       "      <td>...</td>\n",
       "      <td>0</td>\n",
       "      <td>1</td>\n",
       "      <td>0</td>\n",
       "      <td>0</td>\n",
       "      <td>1</td>\n",
       "      <td>0</td>\n",
       "      <td>0</td>\n",
       "      <td>0</td>\n",
       "      <td>0</td>\n",
       "      <td>0</td>\n",
       "    </tr>\n",
       "    <tr>\n",
       "      <th>6520</th>\n",
       "      <td>9251-WNSOD</td>\n",
       "      <td>0</td>\n",
       "      <td>67</td>\n",
       "      <td>75.10</td>\n",
       "      <td>5064.45</td>\n",
       "      <td>1</td>\n",
       "      <td>0</td>\n",
       "      <td>1</td>\n",
       "      <td>1</td>\n",
       "      <td>1</td>\n",
       "      <td>...</td>\n",
       "      <td>1</td>\n",
       "      <td>0</td>\n",
       "      <td>0</td>\n",
       "      <td>1</td>\n",
       "      <td>0</td>\n",
       "      <td>0</td>\n",
       "      <td>0</td>\n",
       "      <td>1</td>\n",
       "      <td>0</td>\n",
       "      <td>0</td>\n",
       "    </tr>\n",
       "    <tr>\n",
       "      <th>2470</th>\n",
       "      <td>3536-IQCTX</td>\n",
       "      <td>1</td>\n",
       "      <td>32</td>\n",
       "      <td>85.30</td>\n",
       "      <td>2661.10</td>\n",
       "      <td>1</td>\n",
       "      <td>0</td>\n",
       "      <td>0</td>\n",
       "      <td>0</td>\n",
       "      <td>0</td>\n",
       "      <td>...</td>\n",
       "      <td>1</td>\n",
       "      <td>0</td>\n",
       "      <td>1</td>\n",
       "      <td>0</td>\n",
       "      <td>0</td>\n",
       "      <td>0</td>\n",
       "      <td>1</td>\n",
       "      <td>0</td>\n",
       "      <td>0</td>\n",
       "      <td>1</td>\n",
       "    </tr>\n",
       "    <tr>\n",
       "      <th>1878</th>\n",
       "      <td>2724-FJDYW</td>\n",
       "      <td>0</td>\n",
       "      <td>39</td>\n",
       "      <td>54.85</td>\n",
       "      <td>2191.70</td>\n",
       "      <td>0</td>\n",
       "      <td>1</td>\n",
       "      <td>0</td>\n",
       "      <td>0</td>\n",
       "      <td>1</td>\n",
       "      <td>...</td>\n",
       "      <td>1</td>\n",
       "      <td>0</td>\n",
       "      <td>0</td>\n",
       "      <td>1</td>\n",
       "      <td>0</td>\n",
       "      <td>0</td>\n",
       "      <td>0</td>\n",
       "      <td>0</td>\n",
       "      <td>0</td>\n",
       "      <td>0</td>\n",
       "    </tr>\n",
       "  </tbody>\n",
       "</table>\n",
       "<p>5 rows × 22 columns</p>\n",
       "</div>"
      ],
      "text/plain": [
       "     customer_id  senior_citizen  tenure  monthly_charges  total_charges  \\\n",
       "4959  6981-TDRFT               0      44            54.30        2317.10   \n",
       "3623  5135-RDDQL               0      63            50.65        3221.25   \n",
       "6520  9251-WNSOD               0      67            75.10        5064.45   \n",
       "2470  3536-IQCTX               1      32            85.30        2661.10   \n",
       "1878  2724-FJDYW               0      39            54.85        2191.70   \n",
       "\n",
       "      partner_Yes  dependents_Yes  online_security_Yes  online_backup_Yes  \\\n",
       "4959            1               1                    0                  0   \n",
       "3623            1               1                    1                  0   \n",
       "6520            1               0                    1                  1   \n",
       "2470            1               0                    0                  0   \n",
       "1878            0               1                    0                  0   \n",
       "\n",
       "      device_protection_Yes  ...  streaming_movies_Yes  paperless_billing_Yes  \\\n",
       "4959                      1  ...                     1                      1   \n",
       "3623                      0  ...                     0                      1   \n",
       "6520                      1  ...                     1                      0   \n",
       "2470                      0  ...                     1                      0   \n",
       "1878                      1  ...                     1                      0   \n",
       "\n",
       "      churn_Yes  contract_type_one_year  contract_type_two_year  \\\n",
       "4959          0                       1                       0   \n",
       "3623          0                       0                       1   \n",
       "6520          0                       1                       0   \n",
       "2470          1                       0                       0   \n",
       "1878          0                       1                       0   \n",
       "\n",
       "      payment_type_credit_card_automatic (automatic)  \\\n",
       "4959                                               0   \n",
       "3623                                               0   \n",
       "6520                                               0   \n",
       "2470                                               0   \n",
       "1878                                               0   \n",
       "\n",
       "      payment_type_electronic_check  payment_type_mailed_check  \\\n",
       "4959                              1                          0   \n",
       "3623                              0                          0   \n",
       "6520                              0                          1   \n",
       "2470                              1                          0   \n",
       "1878                              0                          0   \n",
       "\n",
       "      internet_service_type_None  internet_service_type_fiber_optic  \n",
       "4959                           0                                  0  \n",
       "3623                           0                                  0  \n",
       "6520                           0                                  0  \n",
       "2470                           0                                  1  \n",
       "1878                           0                                  0  \n",
       "\n",
       "[5 rows x 22 columns]"
      ]
     },
     "execution_count": 58,
     "metadata": {},
     "output_type": "execute_result"
    }
   ],
   "source": [
    "validate.head()"
   ]
  },
  {
   "cell_type": "code",
   "execution_count": 59,
   "id": "3aede83d",
   "metadata": {},
   "outputs": [
    {
     "data": {
      "text/html": [
       "<div>\n",
       "<style scoped>\n",
       "    .dataframe tbody tr th:only-of-type {\n",
       "        vertical-align: middle;\n",
       "    }\n",
       "\n",
       "    .dataframe tbody tr th {\n",
       "        vertical-align: top;\n",
       "    }\n",
       "\n",
       "    .dataframe thead th {\n",
       "        text-align: right;\n",
       "    }\n",
       "</style>\n",
       "<table border=\"1\" class=\"dataframe\">\n",
       "  <thead>\n",
       "    <tr style=\"text-align: right;\">\n",
       "      <th></th>\n",
       "      <th>customer_id</th>\n",
       "      <th>senior_citizen</th>\n",
       "      <th>tenure</th>\n",
       "      <th>monthly_charges</th>\n",
       "      <th>total_charges</th>\n",
       "      <th>partner_Yes</th>\n",
       "      <th>dependents_Yes</th>\n",
       "      <th>online_security_Yes</th>\n",
       "      <th>online_backup_Yes</th>\n",
       "      <th>device_protection_Yes</th>\n",
       "      <th>...</th>\n",
       "      <th>streaming_movies_Yes</th>\n",
       "      <th>paperless_billing_Yes</th>\n",
       "      <th>churn_Yes</th>\n",
       "      <th>contract_type_one_year</th>\n",
       "      <th>contract_type_two_year</th>\n",
       "      <th>payment_type_credit_card_automatic (automatic)</th>\n",
       "      <th>payment_type_electronic_check</th>\n",
       "      <th>payment_type_mailed_check</th>\n",
       "      <th>internet_service_type_None</th>\n",
       "      <th>internet_service_type_fiber_optic</th>\n",
       "    </tr>\n",
       "  </thead>\n",
       "  <tbody>\n",
       "    <tr>\n",
       "      <th>6114</th>\n",
       "      <td>8659-HDIYE</td>\n",
       "      <td>1</td>\n",
       "      <td>64</td>\n",
       "      <td>74.65</td>\n",
       "      <td>4869.35</td>\n",
       "      <td>0</td>\n",
       "      <td>0</td>\n",
       "      <td>0</td>\n",
       "      <td>1</td>\n",
       "      <td>1</td>\n",
       "      <td>...</td>\n",
       "      <td>1</td>\n",
       "      <td>0</td>\n",
       "      <td>0</td>\n",
       "      <td>0</td>\n",
       "      <td>0</td>\n",
       "      <td>1</td>\n",
       "      <td>0</td>\n",
       "      <td>0</td>\n",
       "      <td>0</td>\n",
       "      <td>0</td>\n",
       "    </tr>\n",
       "    <tr>\n",
       "      <th>1447</th>\n",
       "      <td>2137-DQMEV</td>\n",
       "      <td>0</td>\n",
       "      <td>68</td>\n",
       "      <td>44.80</td>\n",
       "      <td>2983.65</td>\n",
       "      <td>1</td>\n",
       "      <td>1</td>\n",
       "      <td>1</td>\n",
       "      <td>1</td>\n",
       "      <td>0</td>\n",
       "      <td>...</td>\n",
       "      <td>0</td>\n",
       "      <td>0</td>\n",
       "      <td>0</td>\n",
       "      <td>1</td>\n",
       "      <td>0</td>\n",
       "      <td>0</td>\n",
       "      <td>0</td>\n",
       "      <td>1</td>\n",
       "      <td>0</td>\n",
       "      <td>0</td>\n",
       "    </tr>\n",
       "    <tr>\n",
       "      <th>6379</th>\n",
       "      <td>9039-ZVJDC</td>\n",
       "      <td>0</td>\n",
       "      <td>3</td>\n",
       "      <td>19.10</td>\n",
       "      <td>53.05</td>\n",
       "      <td>0</td>\n",
       "      <td>0</td>\n",
       "      <td>0</td>\n",
       "      <td>0</td>\n",
       "      <td>0</td>\n",
       "      <td>...</td>\n",
       "      <td>0</td>\n",
       "      <td>1</td>\n",
       "      <td>0</td>\n",
       "      <td>0</td>\n",
       "      <td>0</td>\n",
       "      <td>0</td>\n",
       "      <td>0</td>\n",
       "      <td>1</td>\n",
       "      <td>1</td>\n",
       "      <td>0</td>\n",
       "    </tr>\n",
       "    <tr>\n",
       "      <th>1015</th>\n",
       "      <td>1465-WCZVT</td>\n",
       "      <td>0</td>\n",
       "      <td>3</td>\n",
       "      <td>19.65</td>\n",
       "      <td>60.65</td>\n",
       "      <td>1</td>\n",
       "      <td>1</td>\n",
       "      <td>0</td>\n",
       "      <td>0</td>\n",
       "      <td>0</td>\n",
       "      <td>...</td>\n",
       "      <td>0</td>\n",
       "      <td>0</td>\n",
       "      <td>0</td>\n",
       "      <td>0</td>\n",
       "      <td>0</td>\n",
       "      <td>0</td>\n",
       "      <td>0</td>\n",
       "      <td>1</td>\n",
       "      <td>1</td>\n",
       "      <td>0</td>\n",
       "    </tr>\n",
       "    <tr>\n",
       "      <th>1852</th>\n",
       "      <td>2688-BHGOG</td>\n",
       "      <td>1</td>\n",
       "      <td>9</td>\n",
       "      <td>79.55</td>\n",
       "      <td>718.55</td>\n",
       "      <td>0</td>\n",
       "      <td>0</td>\n",
       "      <td>0</td>\n",
       "      <td>0</td>\n",
       "      <td>0</td>\n",
       "      <td>...</td>\n",
       "      <td>1</td>\n",
       "      <td>1</td>\n",
       "      <td>0</td>\n",
       "      <td>0</td>\n",
       "      <td>0</td>\n",
       "      <td>0</td>\n",
       "      <td>1</td>\n",
       "      <td>0</td>\n",
       "      <td>0</td>\n",
       "      <td>1</td>\n",
       "    </tr>\n",
       "  </tbody>\n",
       "</table>\n",
       "<p>5 rows × 22 columns</p>\n",
       "</div>"
      ],
      "text/plain": [
       "     customer_id  senior_citizen  tenure  monthly_charges  total_charges  \\\n",
       "6114  8659-HDIYE               1      64            74.65        4869.35   \n",
       "1447  2137-DQMEV               0      68            44.80        2983.65   \n",
       "6379  9039-ZVJDC               0       3            19.10          53.05   \n",
       "1015  1465-WCZVT               0       3            19.65          60.65   \n",
       "1852  2688-BHGOG               1       9            79.55         718.55   \n",
       "\n",
       "      partner_Yes  dependents_Yes  online_security_Yes  online_backup_Yes  \\\n",
       "6114            0               0                    0                  1   \n",
       "1447            1               1                    1                  1   \n",
       "6379            0               0                    0                  0   \n",
       "1015            1               1                    0                  0   \n",
       "1852            0               0                    0                  0   \n",
       "\n",
       "      device_protection_Yes  ...  streaming_movies_Yes  paperless_billing_Yes  \\\n",
       "6114                      1  ...                     1                      0   \n",
       "1447                      0  ...                     0                      0   \n",
       "6379                      0  ...                     0                      1   \n",
       "1015                      0  ...                     0                      0   \n",
       "1852                      0  ...                     1                      1   \n",
       "\n",
       "      churn_Yes  contract_type_one_year  contract_type_two_year  \\\n",
       "6114          0                       0                       0   \n",
       "1447          0                       1                       0   \n",
       "6379          0                       0                       0   \n",
       "1015          0                       0                       0   \n",
       "1852          0                       0                       0   \n",
       "\n",
       "      payment_type_credit_card_automatic (automatic)  \\\n",
       "6114                                               1   \n",
       "1447                                               0   \n",
       "6379                                               0   \n",
       "1015                                               0   \n",
       "1852                                               0   \n",
       "\n",
       "      payment_type_electronic_check  payment_type_mailed_check  \\\n",
       "6114                              0                          0   \n",
       "1447                              0                          1   \n",
       "6379                              0                          1   \n",
       "1015                              0                          1   \n",
       "1852                              1                          0   \n",
       "\n",
       "      internet_service_type_None  internet_service_type_fiber_optic  \n",
       "6114                           0                                  0  \n",
       "1447                           0                                  0  \n",
       "6379                           1                                  0  \n",
       "1015                           1                                  0  \n",
       "1852                           0                                  1  \n",
       "\n",
       "[5 rows x 22 columns]"
      ]
     },
     "execution_count": 59,
     "metadata": {},
     "output_type": "execute_result"
    }
   ],
   "source": [
    "test.head()"
   ]
  },
  {
   "cell_type": "markdown",
   "id": "8e2baf35",
   "metadata": {},
   "source": [
    "Data is now completely ready to do modeling."
   ]
  },
  {
   "cell_type": "markdown",
   "id": "a4da8f84",
   "metadata": {},
   "source": [
    "**Setting a Baseline**\n",
    "\n",
    "I now need to define my baseline accuracy to see what the models need to beat."
   ]
  },
  {
   "cell_type": "code",
   "execution_count": 60,
   "id": "70d79d4d",
   "metadata": {},
   "outputs": [
    {
     "data": {
      "text/plain": [
       "0    2891\n",
       "1    1046\n",
       "Name: churn_Yes, dtype: int64"
      ]
     },
     "execution_count": 60,
     "metadata": {},
     "output_type": "execute_result"
    }
   ],
   "source": [
    "# The highest value is showing 0 which corresponds to no churn.\n",
    "train.churn_Yes.value_counts()"
   ]
  },
  {
   "cell_type": "code",
   "execution_count": 61,
   "id": "7a1e5cc6",
   "metadata": {},
   "outputs": [
    {
     "data": {
      "text/plain": [
       "0.7343154686309372"
      ]
     },
     "execution_count": 61,
     "metadata": {},
     "output_type": "execute_result"
    }
   ],
   "source": [
    "1 - train.churn_Yes.mean()"
   ]
  },
  {
   "cell_type": "markdown",
   "id": "fd11d78d",
   "metadata": {},
   "source": [
    "My baseline is 73.4%.  This means that if I were to guess churn_Yes = 0 (no churn) for every customer, I would be correct 73.4% of the time. My final model needs to beat this."
   ]
  },
  {
   "cell_type": "markdown",
   "id": "e2e98704",
   "metadata": {},
   "source": [
    "### Decision Tree\n",
    "\n",
    "I will start with a single model using standard hyperparameters and tweak it later."
   ]
  },
  {
   "cell_type": "code",
   "execution_count": 62,
   "id": "7b6a195b",
   "metadata": {},
   "outputs": [],
   "source": [
    "# Define X and y train\n",
    "X_train = train.drop(columns=['churn_Yes', 'customer_id'])\n",
    "y_train = train.churn_Yes\n",
    "\n",
    "# Define X and y validate\n",
    "X_validate = validate.drop(columns=['churn_Yes', 'customer_id'])\n",
    "y_validate = validate.churn_Yes\n",
    "\n",
    "# Define X and y test\n",
    "X_test = test.drop(columns=['churn_Yes', 'customer_id'])\n",
    "y_test = test.churn_Yes"
   ]
  },
  {
   "cell_type": "code",
   "execution_count": 63,
   "id": "8e8ccf71",
   "metadata": {},
   "outputs": [
    {
     "data": {
      "text/plain": [
       "DecisionTreeClassifier(max_depth=3, random_state=123)"
      ]
     },
     "execution_count": 63,
     "metadata": {},
     "output_type": "execute_result"
    }
   ],
   "source": [
    "# Create the decision tree model\n",
    "clf = DecisionTreeClassifier(max_depth=3, random_state=123)\n",
    "\n",
    "# Fit the model to the train dataset\n",
    "clf.fit(X_train, y_train)"
   ]
  },
  {
   "cell_type": "code",
   "execution_count": 64,
   "id": "5a3fed27",
   "metadata": {},
   "outputs": [
    {
     "name": "stdout",
     "output_type": "stream",
     "text": [
      "Accuracy of Decision Tree classifier on training set: 78.13%\n"
     ]
    }
   ],
   "source": [
    "# Score the model on the train dataset\n",
    "\n",
    "print(f'Accuracy of Decision Tree classifier on training set: {round(clf.score(X_train, y_train),4)*100}%')\n"
   ]
  },
  {
   "cell_type": "code",
   "execution_count": 65,
   "id": "4e871dfe",
   "metadata": {},
   "outputs": [],
   "source": [
    "# Make predictions based on the model\n",
    "y_pred = clf.predict(X_train)"
   ]
  },
  {
   "cell_type": "code",
   "execution_count": 66,
   "id": "5ea8ef72",
   "metadata": {},
   "outputs": [
    {
     "data": {
      "text/html": [
       "<div>\n",
       "<style scoped>\n",
       "    .dataframe tbody tr th:only-of-type {\n",
       "        vertical-align: middle;\n",
       "    }\n",
       "\n",
       "    .dataframe tbody tr th {\n",
       "        vertical-align: top;\n",
       "    }\n",
       "\n",
       "    .dataframe thead th {\n",
       "        text-align: right;\n",
       "    }\n",
       "</style>\n",
       "<table border=\"1\" class=\"dataframe\">\n",
       "  <thead>\n",
       "    <tr style=\"text-align: right;\">\n",
       "      <th></th>\n",
       "      <th>precision</th>\n",
       "      <th>recall</th>\n",
       "      <th>f1-score</th>\n",
       "      <th>support</th>\n",
       "    </tr>\n",
       "  </thead>\n",
       "  <tbody>\n",
       "    <tr>\n",
       "      <th>0</th>\n",
       "      <td>0.800474</td>\n",
       "      <td>0.935316</td>\n",
       "      <td>0.862658</td>\n",
       "      <td>2891.000000</td>\n",
       "    </tr>\n",
       "    <tr>\n",
       "      <th>1</th>\n",
       "      <td>0.665474</td>\n",
       "      <td>0.355641</td>\n",
       "      <td>0.463551</td>\n",
       "      <td>1046.000000</td>\n",
       "    </tr>\n",
       "    <tr>\n",
       "      <th>accuracy</th>\n",
       "      <td>0.781306</td>\n",
       "      <td>0.781306</td>\n",
       "      <td>0.781306</td>\n",
       "      <td>0.781306</td>\n",
       "    </tr>\n",
       "    <tr>\n",
       "      <th>macro avg</th>\n",
       "      <td>0.732974</td>\n",
       "      <td>0.645479</td>\n",
       "      <td>0.663104</td>\n",
       "      <td>3937.000000</td>\n",
       "    </tr>\n",
       "    <tr>\n",
       "      <th>weighted avg</th>\n",
       "      <td>0.764606</td>\n",
       "      <td>0.781306</td>\n",
       "      <td>0.756621</td>\n",
       "      <td>3937.000000</td>\n",
       "    </tr>\n",
       "  </tbody>\n",
       "</table>\n",
       "</div>"
      ],
      "text/plain": [
       "              precision    recall  f1-score      support\n",
       "0              0.800474  0.935316  0.862658  2891.000000\n",
       "1              0.665474  0.355641  0.463551  1046.000000\n",
       "accuracy       0.781306  0.781306  0.781306     0.781306\n",
       "macro avg      0.732974  0.645479  0.663104  3937.000000\n",
       "weighted avg   0.764606  0.781306  0.756621  3937.000000"
      ]
     },
     "execution_count": 66,
     "metadata": {},
     "output_type": "execute_result"
    }
   ],
   "source": [
    "# Printing a classification report for train using the model's predictions\n",
    "\n",
    "pd.DataFrame(classification_report(y_train, y_pred, output_dict=True)).T"
   ]
  },
  {
   "cell_type": "markdown",
   "id": "379c3bfd",
   "metadata": {},
   "source": [
    "I'm not super happy with these initial results so I will make a function that runs through varying max_depth values to help find the best possible result for this one specific hyperparameter."
   ]
  },
  {
   "cell_type": "code",
   "execution_count": 67,
   "id": "664b7258",
   "metadata": {},
   "outputs": [],
   "source": [
    "# This is a function to test how max_depth affects the accuracy on both the training and the validate set to hopefully find the \n",
    "# optimal depth.\n",
    "def max_depth_iterator(X, y):\n",
    "    for n in range(1,15):\n",
    "        clf = DecisionTreeClassifier(max_depth=n, random_state=123)\n",
    "        clf.fit(X, y)\n",
    "        print(f'Accuracy of Decision Tree classifier on training set with a max_depth of {n}: {round(clf.score(X_train, y_train),4)*100}%')\n",
    "        print(f'Accuracy of Decision Tree classifier on validate set with a max_depth of {n}: {round(clf.score(X_validate, y_validate),4)*100}%')\n",
    "        print(\"-----------------------------------\")"
   ]
  },
  {
   "cell_type": "code",
   "execution_count": 68,
   "id": "e721c203",
   "metadata": {},
   "outputs": [
    {
     "name": "stdout",
     "output_type": "stream",
     "text": [
      "Accuracy of Decision Tree classifier on training set with a max_depth of 1: 73.42999999999999%\n",
      "Accuracy of Decision Tree classifier on validate set with a max_depth of 1: 73.4%\n",
      "-----------------------------------\n",
      "Accuracy of Decision Tree classifier on training set with a max_depth of 2: 78.13%\n",
      "Accuracy of Decision Tree classifier on validate set with a max_depth of 2: 79.5%\n",
      "-----------------------------------\n",
      "Accuracy of Decision Tree classifier on training set with a max_depth of 3: 78.13%\n",
      "Accuracy of Decision Tree classifier on validate set with a max_depth of 3: 79.5%\n",
      "-----------------------------------\n",
      "Accuracy of Decision Tree classifier on training set with a max_depth of 4: 78.49000000000001%\n",
      "Accuracy of Decision Tree classifier on validate set with a max_depth of 4: 79.97999999999999%\n",
      "-----------------------------------\n",
      "Accuracy of Decision Tree classifier on training set with a max_depth of 5: 79.3%\n",
      "Accuracy of Decision Tree classifier on validate set with a max_depth of 5: 80.81%\n",
      "-----------------------------------\n",
      "Accuracy of Decision Tree classifier on training set with a max_depth of 6: 80.44%\n",
      "Accuracy of Decision Tree classifier on validate set with a max_depth of 6: 80.27%\n",
      "-----------------------------------\n",
      "Accuracy of Decision Tree classifier on training set with a max_depth of 7: 82.12%\n",
      "Accuracy of Decision Tree classifier on validate set with a max_depth of 7: 79.21000000000001%\n",
      "-----------------------------------\n",
      "Accuracy of Decision Tree classifier on training set with a max_depth of 8: 83.57%\n",
      "Accuracy of Decision Tree classifier on validate set with a max_depth of 8: 79.38%\n",
      "-----------------------------------\n",
      "Accuracy of Decision Tree classifier on training set with a max_depth of 9: 85.52%\n",
      "Accuracy of Decision Tree classifier on validate set with a max_depth of 9: 78.2%\n",
      "-----------------------------------\n",
      "Accuracy of Decision Tree classifier on training set with a max_depth of 10: 88.16000000000001%\n",
      "Accuracy of Decision Tree classifier on validate set with a max_depth of 10: 75.18%\n",
      "-----------------------------------\n",
      "Accuracy of Decision Tree classifier on training set with a max_depth of 11: 90.47%\n",
      "Accuracy of Decision Tree classifier on validate set with a max_depth of 11: 75.94999999999999%\n",
      "-----------------------------------\n",
      "Accuracy of Decision Tree classifier on training set with a max_depth of 12: 92.23%\n",
      "Accuracy of Decision Tree classifier on validate set with a max_depth of 12: 73.76%\n",
      "-----------------------------------\n",
      "Accuracy of Decision Tree classifier on training set with a max_depth of 13: 94.01%\n",
      "Accuracy of Decision Tree classifier on validate set with a max_depth of 13: 74.53%\n",
      "-----------------------------------\n",
      "Accuracy of Decision Tree classifier on training set with a max_depth of 14: 95.61%\n",
      "Accuracy of Decision Tree classifier on validate set with a max_depth of 14: 73.16%\n",
      "-----------------------------------\n"
     ]
    }
   ],
   "source": [
    "max_depth_iterator(X_train, y_train)"
   ]
  },
  {
   "cell_type": "markdown",
   "id": "57e35c70",
   "metadata": {},
   "source": [
    "Based on this initial trial, manipulating max_depth results in a depth of 6 producing the best results of 80.4% on the train and 80.3% on the validate set.  I may be able to get it higher but this is a good starting number."
   ]
  },
  {
   "cell_type": "markdown",
   "id": "4fb19cb1",
   "metadata": {},
   "source": [
    "### Random Forest\n",
    "\n",
    "I will start with a single model using standard hyperparameters and tweak it later."
   ]
  },
  {
   "cell_type": "code",
   "execution_count": 69,
   "id": "d997e4f5",
   "metadata": {},
   "outputs": [
    {
     "data": {
      "text/plain": [
       "RandomForestClassifier(max_depth=3, random_state=123)"
      ]
     },
     "execution_count": 69,
     "metadata": {},
     "output_type": "execute_result"
    }
   ],
   "source": [
    "# Using standard hyperparameters to get an idea of the accuracy of random forest.  Will iterate more later.\n",
    "rf = RandomForestClassifier(max_depth=3, random_state=123, min_samples_leaf = 1)\n",
    "rf.fit(X_train, y_train)"
   ]
  },
  {
   "cell_type": "code",
   "execution_count": 70,
   "id": "d21c601c",
   "metadata": {},
   "outputs": [
    {
     "name": "stdout",
     "output_type": "stream",
     "text": [
      "Accuracy of Random Forest classifier on training set: 78.0%\n"
     ]
    }
   ],
   "source": [
    "# Scoring the model on the train dataset\n",
    "print(f'Accuracy of Random Forest classifier on training set: {round(rf.score(X_train, y_train),4)*100}%')"
   ]
  },
  {
   "cell_type": "code",
   "execution_count": 71,
   "id": "d33ad0a1",
   "metadata": {},
   "outputs": [],
   "source": [
    "# Make predictions based on the model\n",
    "y_pred = rf.predict(X_train)"
   ]
  },
  {
   "cell_type": "code",
   "execution_count": 72,
   "id": "5775da6c",
   "metadata": {},
   "outputs": [
    {
     "data": {
      "text/html": [
       "<div>\n",
       "<style scoped>\n",
       "    .dataframe tbody tr th:only-of-type {\n",
       "        vertical-align: middle;\n",
       "    }\n",
       "\n",
       "    .dataframe tbody tr th {\n",
       "        vertical-align: top;\n",
       "    }\n",
       "\n",
       "    .dataframe thead th {\n",
       "        text-align: right;\n",
       "    }\n",
       "</style>\n",
       "<table border=\"1\" class=\"dataframe\">\n",
       "  <thead>\n",
       "    <tr style=\"text-align: right;\">\n",
       "      <th></th>\n",
       "      <th>precision</th>\n",
       "      <th>recall</th>\n",
       "      <th>f1-score</th>\n",
       "      <th>support</th>\n",
       "    </tr>\n",
       "  </thead>\n",
       "  <tbody>\n",
       "    <tr>\n",
       "      <th>0</th>\n",
       "      <td>0.786421</td>\n",
       "      <td>0.961605</td>\n",
       "      <td>0.865235</td>\n",
       "      <td>2891.000000</td>\n",
       "    </tr>\n",
       "    <tr>\n",
       "      <th>1</th>\n",
       "      <td>0.723881</td>\n",
       "      <td>0.278203</td>\n",
       "      <td>0.401934</td>\n",
       "      <td>1046.000000</td>\n",
       "    </tr>\n",
       "    <tr>\n",
       "      <th>accuracy</th>\n",
       "      <td>0.780036</td>\n",
       "      <td>0.780036</td>\n",
       "      <td>0.780036</td>\n",
       "      <td>0.780036</td>\n",
       "    </tr>\n",
       "    <tr>\n",
       "      <th>macro avg</th>\n",
       "      <td>0.755151</td>\n",
       "      <td>0.619904</td>\n",
       "      <td>0.633584</td>\n",
       "      <td>3937.000000</td>\n",
       "    </tr>\n",
       "    <tr>\n",
       "      <th>weighted avg</th>\n",
       "      <td>0.769805</td>\n",
       "      <td>0.780036</td>\n",
       "      <td>0.742143</td>\n",
       "      <td>3937.000000</td>\n",
       "    </tr>\n",
       "  </tbody>\n",
       "</table>\n",
       "</div>"
      ],
      "text/plain": [
       "              precision    recall  f1-score      support\n",
       "0              0.786421  0.961605  0.865235  2891.000000\n",
       "1              0.723881  0.278203  0.401934  1046.000000\n",
       "accuracy       0.780036  0.780036  0.780036     0.780036\n",
       "macro avg      0.755151  0.619904  0.633584  3937.000000\n",
       "weighted avg   0.769805  0.780036  0.742143  3937.000000"
      ]
     },
     "execution_count": 72,
     "metadata": {},
     "output_type": "execute_result"
    }
   ],
   "source": [
    "# Printing a classification report for train using the model's predictions\n",
    "\n",
    "pd.DataFrame(classification_report(y_train, y_pred, output_dict=True)).T"
   ]
  },
  {
   "cell_type": "markdown",
   "id": "c0d3b759",
   "metadata": {},
   "source": [
    "Another not great initial result.  Will iterate through some common hyperparamters to see how this affects the results."
   ]
  },
  {
   "cell_type": "code",
   "execution_count": 73,
   "id": "8ddbbce6",
   "metadata": {},
   "outputs": [],
   "source": [
    "# This function runs through both max_depth, and min_sample_leaf to give me a better idea of what are the best hyperparamters \n",
    "# to choose. I can also come back to it later and tweak n_estimators for further customization.\n",
    "\n",
    "def rf_iteration(X_train, y_train, X_validate, y_validate, trees = 100):\n",
    "    results = {}\n",
    "    max_depth = []\n",
    "    min_samples_leaf = []\n",
    "    Train_accuracy = []\n",
    "    Validate_accuracy = []\n",
    "    Train_Validate_diff = []\n",
    "    for x in range(1,16):\n",
    "        for y in range(1,16):\n",
    "            rf = RandomForestClassifier(max_depth=x, random_state=123, min_samples_leaf = y, n_estimators = trees)\n",
    "            rf.fit(X_train, y_train)\n",
    "            max_depth.append(x)\n",
    "            min_samples_leaf.append(y)\n",
    "            Train_accuracy.append(rf.score(X_train, y_train))\n",
    "            Validate_accuracy.append(rf.score(X_validate, y_validate))\n",
    "            Train_Validate_diff.append(rf.score(X_train, y_train) - rf.score(X_validate, y_validate))\n",
    "    results = {\"max_depth\": max_depth, \"min_samples_leaf\" : min_samples_leaf, \"Train_accuracy\" : Train_accuracy, \"Validate_accuracy\" : Validate_accuracy, \"Train_Validate_diff\" : Train_Validate_diff}\n",
    "    return results\n",
    "results_dict = rf_iteration(X_train, y_train, X_validate, y_validate)\n"
   ]
  },
  {
   "cell_type": "code",
   "execution_count": 74,
   "id": "365512f1",
   "metadata": {},
   "outputs": [
    {
     "data": {
      "text/html": [
       "<div>\n",
       "<style scoped>\n",
       "    .dataframe tbody tr th:only-of-type {\n",
       "        vertical-align: middle;\n",
       "    }\n",
       "\n",
       "    .dataframe tbody tr th {\n",
       "        vertical-align: top;\n",
       "    }\n",
       "\n",
       "    .dataframe thead th {\n",
       "        text-align: right;\n",
       "    }\n",
       "</style>\n",
       "<table border=\"1\" class=\"dataframe\">\n",
       "  <thead>\n",
       "    <tr style=\"text-align: right;\">\n",
       "      <th></th>\n",
       "      <th>max_depth</th>\n",
       "      <th>min_samples_leaf</th>\n",
       "      <th>Train_accuracy</th>\n",
       "      <th>Validate_accuracy</th>\n",
       "      <th>Train_Validate_diff</th>\n",
       "    </tr>\n",
       "  </thead>\n",
       "  <tbody>\n",
       "    <tr>\n",
       "      <th>0</th>\n",
       "      <td>1</td>\n",
       "      <td>1</td>\n",
       "      <td>0.734315</td>\n",
       "      <td>0.734005</td>\n",
       "      <td>0.000311</td>\n",
       "    </tr>\n",
       "    <tr>\n",
       "      <th>1</th>\n",
       "      <td>1</td>\n",
       "      <td>2</td>\n",
       "      <td>0.734315</td>\n",
       "      <td>0.734005</td>\n",
       "      <td>0.000311</td>\n",
       "    </tr>\n",
       "    <tr>\n",
       "      <th>2</th>\n",
       "      <td>1</td>\n",
       "      <td>3</td>\n",
       "      <td>0.734315</td>\n",
       "      <td>0.734005</td>\n",
       "      <td>0.000311</td>\n",
       "    </tr>\n",
       "    <tr>\n",
       "      <th>3</th>\n",
       "      <td>1</td>\n",
       "      <td>4</td>\n",
       "      <td>0.734315</td>\n",
       "      <td>0.734005</td>\n",
       "      <td>0.000311</td>\n",
       "    </tr>\n",
       "    <tr>\n",
       "      <th>4</th>\n",
       "      <td>1</td>\n",
       "      <td>5</td>\n",
       "      <td>0.734315</td>\n",
       "      <td>0.734005</td>\n",
       "      <td>0.000311</td>\n",
       "    </tr>\n",
       "  </tbody>\n",
       "</table>\n",
       "</div>"
      ],
      "text/plain": [
       "   max_depth  min_samples_leaf  Train_accuracy  Validate_accuracy  \\\n",
       "0          1                 1        0.734315           0.734005   \n",
       "1          1                 2        0.734315           0.734005   \n",
       "2          1                 3        0.734315           0.734005   \n",
       "3          1                 4        0.734315           0.734005   \n",
       "4          1                 5        0.734315           0.734005   \n",
       "\n",
       "   Train_Validate_diff  \n",
       "0             0.000311  \n",
       "1             0.000311  \n",
       "2             0.000311  \n",
       "3             0.000311  \n",
       "4             0.000311  "
      ]
     },
     "execution_count": 74,
     "metadata": {},
     "output_type": "execute_result"
    }
   ],
   "source": [
    "results_df = pd.DataFrame(results_dict)\n",
    "results_df.head()"
   ]
  },
  {
   "cell_type": "code",
   "execution_count": 75,
   "id": "49892b0e",
   "metadata": {},
   "outputs": [
    {
     "data": {
      "text/html": [
       "<div>\n",
       "<style scoped>\n",
       "    .dataframe tbody tr th:only-of-type {\n",
       "        vertical-align: middle;\n",
       "    }\n",
       "\n",
       "    .dataframe tbody tr th {\n",
       "        vertical-align: top;\n",
       "    }\n",
       "\n",
       "    .dataframe thead th {\n",
       "        text-align: right;\n",
       "    }\n",
       "</style>\n",
       "<table border=\"1\" class=\"dataframe\">\n",
       "  <thead>\n",
       "    <tr style=\"text-align: right;\">\n",
       "      <th></th>\n",
       "      <th>max_depth</th>\n",
       "      <th>min_samples_leaf</th>\n",
       "      <th>Train_accuracy</th>\n",
       "      <th>Validate_accuracy</th>\n",
       "      <th>Train_Validate_diff</th>\n",
       "    </tr>\n",
       "  </thead>\n",
       "  <tbody>\n",
       "    <tr>\n",
       "      <th>106</th>\n",
       "      <td>8</td>\n",
       "      <td>2</td>\n",
       "      <td>0.827280</td>\n",
       "      <td>0.813981</td>\n",
       "      <td>0.013299</td>\n",
       "    </tr>\n",
       "    <tr>\n",
       "      <th>137</th>\n",
       "      <td>10</td>\n",
       "      <td>3</td>\n",
       "      <td>0.855728</td>\n",
       "      <td>0.813389</td>\n",
       "      <td>0.042339</td>\n",
       "    </tr>\n",
       "    <tr>\n",
       "      <th>198</th>\n",
       "      <td>14</td>\n",
       "      <td>4</td>\n",
       "      <td>0.869444</td>\n",
       "      <td>0.813389</td>\n",
       "      <td>0.056055</td>\n",
       "    </tr>\n",
       "    <tr>\n",
       "      <th>154</th>\n",
       "      <td>11</td>\n",
       "      <td>5</td>\n",
       "      <td>0.847600</td>\n",
       "      <td>0.812796</td>\n",
       "      <td>0.034803</td>\n",
       "    </tr>\n",
       "    <tr>\n",
       "      <th>169</th>\n",
       "      <td>12</td>\n",
       "      <td>5</td>\n",
       "      <td>0.852172</td>\n",
       "      <td>0.812796</td>\n",
       "      <td>0.039375</td>\n",
       "    </tr>\n",
       "    <tr>\n",
       "      <th>91</th>\n",
       "      <td>7</td>\n",
       "      <td>2</td>\n",
       "      <td>0.813564</td>\n",
       "      <td>0.812204</td>\n",
       "      <td>0.001360</td>\n",
       "    </tr>\n",
       "    <tr>\n",
       "      <th>125</th>\n",
       "      <td>9</td>\n",
       "      <td>6</td>\n",
       "      <td>0.826772</td>\n",
       "      <td>0.812204</td>\n",
       "      <td>0.014568</td>\n",
       "    </tr>\n",
       "    <tr>\n",
       "      <th>124</th>\n",
       "      <td>9</td>\n",
       "      <td>5</td>\n",
       "      <td>0.830328</td>\n",
       "      <td>0.812204</td>\n",
       "      <td>0.018124</td>\n",
       "    </tr>\n",
       "    <tr>\n",
       "      <th>217</th>\n",
       "      <td>15</td>\n",
       "      <td>8</td>\n",
       "      <td>0.839726</td>\n",
       "      <td>0.812204</td>\n",
       "      <td>0.027522</td>\n",
       "    </tr>\n",
       "    <tr>\n",
       "      <th>168</th>\n",
       "      <td>12</td>\n",
       "      <td>4</td>\n",
       "      <td>0.865634</td>\n",
       "      <td>0.812204</td>\n",
       "      <td>0.053430</td>\n",
       "    </tr>\n",
       "    <tr>\n",
       "      <th>107</th>\n",
       "      <td>8</td>\n",
       "      <td>3</td>\n",
       "      <td>0.825756</td>\n",
       "      <td>0.811611</td>\n",
       "      <td>0.014144</td>\n",
       "    </tr>\n",
       "    <tr>\n",
       "      <th>202</th>\n",
       "      <td>14</td>\n",
       "      <td>8</td>\n",
       "      <td>0.838710</td>\n",
       "      <td>0.811611</td>\n",
       "      <td>0.027098</td>\n",
       "    </tr>\n",
       "    <tr>\n",
       "      <th>138</th>\n",
       "      <td>10</td>\n",
       "      <td>4</td>\n",
       "      <td>0.847854</td>\n",
       "      <td>0.811611</td>\n",
       "      <td>0.036242</td>\n",
       "    </tr>\n",
       "    <tr>\n",
       "      <th>193</th>\n",
       "      <td>13</td>\n",
       "      <td>14</td>\n",
       "      <td>0.812040</td>\n",
       "      <td>0.811019</td>\n",
       "      <td>0.001021</td>\n",
       "    </tr>\n",
       "    <tr>\n",
       "      <th>90</th>\n",
       "      <td>7</td>\n",
       "      <td>1</td>\n",
       "      <td>0.818390</td>\n",
       "      <td>0.811019</td>\n",
       "      <td>0.007371</td>\n",
       "    </tr>\n",
       "    <tr>\n",
       "      <th>172</th>\n",
       "      <td>12</td>\n",
       "      <td>8</td>\n",
       "      <td>0.833376</td>\n",
       "      <td>0.811019</td>\n",
       "      <td>0.022357</td>\n",
       "    </tr>\n",
       "    <tr>\n",
       "      <th>187</th>\n",
       "      <td>13</td>\n",
       "      <td>8</td>\n",
       "      <td>0.837186</td>\n",
       "      <td>0.811019</td>\n",
       "      <td>0.026167</td>\n",
       "    </tr>\n",
       "    <tr>\n",
       "      <th>184</th>\n",
       "      <td>13</td>\n",
       "      <td>5</td>\n",
       "      <td>0.857252</td>\n",
       "      <td>0.811019</td>\n",
       "      <td>0.046233</td>\n",
       "    </tr>\n",
       "    <tr>\n",
       "      <th>152</th>\n",
       "      <td>11</td>\n",
       "      <td>3</td>\n",
       "      <td>0.867158</td>\n",
       "      <td>0.811019</td>\n",
       "      <td>0.056139</td>\n",
       "    </tr>\n",
       "    <tr>\n",
       "      <th>178</th>\n",
       "      <td>12</td>\n",
       "      <td>14</td>\n",
       "      <td>0.811024</td>\n",
       "      <td>0.810427</td>\n",
       "      <td>0.000597</td>\n",
       "    </tr>\n",
       "    <tr>\n",
       "      <th>114</th>\n",
       "      <td>8</td>\n",
       "      <td>10</td>\n",
       "      <td>0.813056</td>\n",
       "      <td>0.810427</td>\n",
       "      <td>0.002629</td>\n",
       "    </tr>\n",
       "    <tr>\n",
       "      <th>129</th>\n",
       "      <td>9</td>\n",
       "      <td>10</td>\n",
       "      <td>0.819152</td>\n",
       "      <td>0.810427</td>\n",
       "      <td>0.008725</td>\n",
       "    </tr>\n",
       "    <tr>\n",
       "      <th>108</th>\n",
       "      <td>8</td>\n",
       "      <td>4</td>\n",
       "      <td>0.822200</td>\n",
       "      <td>0.810427</td>\n",
       "      <td>0.011773</td>\n",
       "    </tr>\n",
       "    <tr>\n",
       "      <th>142</th>\n",
       "      <td>10</td>\n",
       "      <td>8</td>\n",
       "      <td>0.828804</td>\n",
       "      <td>0.810427</td>\n",
       "      <td>0.018377</td>\n",
       "    </tr>\n",
       "    <tr>\n",
       "      <th>155</th>\n",
       "      <td>11</td>\n",
       "      <td>6</td>\n",
       "      <td>0.842012</td>\n",
       "      <td>0.810427</td>\n",
       "      <td>0.031585</td>\n",
       "    </tr>\n",
       "    <tr>\n",
       "      <th>213</th>\n",
       "      <td>15</td>\n",
       "      <td>4</td>\n",
       "      <td>0.875794</td>\n",
       "      <td>0.810427</td>\n",
       "      <td>0.065367</td>\n",
       "    </tr>\n",
       "    <tr>\n",
       "      <th>182</th>\n",
       "      <td>13</td>\n",
       "      <td>3</td>\n",
       "      <td>0.884684</td>\n",
       "      <td>0.810427</td>\n",
       "      <td>0.074257</td>\n",
       "    </tr>\n",
       "    <tr>\n",
       "      <th>181</th>\n",
       "      <td>13</td>\n",
       "      <td>2</td>\n",
       "      <td>0.916434</td>\n",
       "      <td>0.810427</td>\n",
       "      <td>0.106007</td>\n",
       "    </tr>\n",
       "    <tr>\n",
       "      <th>99</th>\n",
       "      <td>7</td>\n",
       "      <td>10</td>\n",
       "      <td>0.807468</td>\n",
       "      <td>0.809834</td>\n",
       "      <td>-0.002367</td>\n",
       "    </tr>\n",
       "    <tr>\n",
       "      <th>163</th>\n",
       "      <td>11</td>\n",
       "      <td>14</td>\n",
       "      <td>0.812548</td>\n",
       "      <td>0.809834</td>\n",
       "      <td>0.002714</td>\n",
       "    </tr>\n",
       "  </tbody>\n",
       "</table>\n",
       "</div>"
      ],
      "text/plain": [
       "     max_depth  min_samples_leaf  Train_accuracy  Validate_accuracy  \\\n",
       "106          8                 2        0.827280           0.813981   \n",
       "137         10                 3        0.855728           0.813389   \n",
       "198         14                 4        0.869444           0.813389   \n",
       "154         11                 5        0.847600           0.812796   \n",
       "169         12                 5        0.852172           0.812796   \n",
       "91           7                 2        0.813564           0.812204   \n",
       "125          9                 6        0.826772           0.812204   \n",
       "124          9                 5        0.830328           0.812204   \n",
       "217         15                 8        0.839726           0.812204   \n",
       "168         12                 4        0.865634           0.812204   \n",
       "107          8                 3        0.825756           0.811611   \n",
       "202         14                 8        0.838710           0.811611   \n",
       "138         10                 4        0.847854           0.811611   \n",
       "193         13                14        0.812040           0.811019   \n",
       "90           7                 1        0.818390           0.811019   \n",
       "172         12                 8        0.833376           0.811019   \n",
       "187         13                 8        0.837186           0.811019   \n",
       "184         13                 5        0.857252           0.811019   \n",
       "152         11                 3        0.867158           0.811019   \n",
       "178         12                14        0.811024           0.810427   \n",
       "114          8                10        0.813056           0.810427   \n",
       "129          9                10        0.819152           0.810427   \n",
       "108          8                 4        0.822200           0.810427   \n",
       "142         10                 8        0.828804           0.810427   \n",
       "155         11                 6        0.842012           0.810427   \n",
       "213         15                 4        0.875794           0.810427   \n",
       "182         13                 3        0.884684           0.810427   \n",
       "181         13                 2        0.916434           0.810427   \n",
       "99           7                10        0.807468           0.809834   \n",
       "163         11                14        0.812548           0.809834   \n",
       "\n",
       "     Train_Validate_diff  \n",
       "106             0.013299  \n",
       "137             0.042339  \n",
       "198             0.056055  \n",
       "154             0.034803  \n",
       "169             0.039375  \n",
       "91              0.001360  \n",
       "125             0.014568  \n",
       "124             0.018124  \n",
       "217             0.027522  \n",
       "168             0.053430  \n",
       "107             0.014144  \n",
       "202             0.027098  \n",
       "138             0.036242  \n",
       "193             0.001021  \n",
       "90              0.007371  \n",
       "172             0.022357  \n",
       "187             0.026167  \n",
       "184             0.046233  \n",
       "152             0.056139  \n",
       "178             0.000597  \n",
       "114             0.002629  \n",
       "129             0.008725  \n",
       "108             0.011773  \n",
       "142             0.018377  \n",
       "155             0.031585  \n",
       "213             0.065367  \n",
       "182             0.074257  \n",
       "181             0.106007  \n",
       "99             -0.002367  \n",
       "163             0.002714  "
      ]
     },
     "execution_count": 75,
     "metadata": {},
     "output_type": "execute_result"
    }
   ],
   "source": [
    "results_df.sort_values([\"Validate_accuracy\", \"Train_Validate_diff\"], ascending = [False, True]).head(30)"
   ]
  },
  {
   "cell_type": "code",
   "execution_count": 76,
   "id": "38a0eca6",
   "metadata": {},
   "outputs": [
    {
     "data": {
      "image/png": "[encoded data removed]",
      "text/plain": [
       "<Figure size 1152x864 with 1 Axes>"
      ]
     },
     "metadata": {
      "needs_background": "light"
     },
     "output_type": "display_data"
    }
   ],
   "source": [
    "# Visualizing the best performing model #106\n",
    "results_df[['Train_accuracy', 'Validate_accuracy']].plot(figsize = (16,12))\n",
    "plt.xlabel('Index number')\n",
    "plt.ylabel('Probability')\n",
    "plt.axvline(106, lw =.5, label=\"Best performer\")\n",
    "plt.axhline(0.813981, lw =.5, label = \"Highest accuracy\")\n",
    "0.813981\n",
    "plt.show()"
   ]
  },
  {
   "cell_type": "markdown",
   "id": "feb31889",
   "metadata": {},
   "source": [
    "Using the two hyperparameter max_depth and min_samples_leaf, I've found the best performing model to be max_depth of 8 and \n",
    "min_samples_leaf of 2 resulting in Validate accuracy of a 81.4% and Train accuracy of 82.7%."
   ]
  },
  {
   "cell_type": "markdown",
   "id": "5c38c716",
   "metadata": {},
   "source": [
    "### K-nearest neighbors\n",
    "\n",
    "I will start with a single model using standard hyperparameters and tweak it later."
   ]
  },
  {
   "cell_type": "code",
   "execution_count": 77,
   "id": "5414d853",
   "metadata": {},
   "outputs": [
    {
     "data": {
      "text/plain": [
       "KNeighborsClassifier()"
      ]
     },
     "execution_count": 77,
     "metadata": {},
     "output_type": "execute_result"
    }
   ],
   "source": [
    "# Using standard hyperparameters to get an idea of the accuracy of KNN model.  Will iterate more later.\n",
    "knn = KNeighborsClassifier(n_neighbors=5, weights='uniform')\n",
    "knn.fit(X_train, y_train)"
   ]
  },
  {
   "cell_type": "code",
   "execution_count": 78,
   "id": "07a5eb9d",
   "metadata": {},
   "outputs": [
    {
     "name": "stdout",
     "output_type": "stream",
     "text": [
      "Accuracy of KNN classifier on training set: 81.97%\n"
     ]
    }
   ],
   "source": [
    "# Scoring the model on the train dataset\n",
    "print(f'Accuracy of KNN classifier on training set: {round(knn.score(X_train, y_train),4)*100}%')"
   ]
  },
  {
   "cell_type": "code",
   "execution_count": 79,
   "id": "d4f4b2ac",
   "metadata": {},
   "outputs": [
    {
     "data": {
      "text/html": [
       "<div>\n",
       "<style scoped>\n",
       "    .dataframe tbody tr th:only-of-type {\n",
       "        vertical-align: middle;\n",
       "    }\n",
       "\n",
       "    .dataframe tbody tr th {\n",
       "        vertical-align: top;\n",
       "    }\n",
       "\n",
       "    .dataframe thead th {\n",
       "        text-align: right;\n",
       "    }\n",
       "</style>\n",
       "<table border=\"1\" class=\"dataframe\">\n",
       "  <thead>\n",
       "    <tr style=\"text-align: right;\">\n",
       "      <th></th>\n",
       "      <th>precision</th>\n",
       "      <th>recall</th>\n",
       "      <th>f1-score</th>\n",
       "      <th>support</th>\n",
       "    </tr>\n",
       "  </thead>\n",
       "  <tbody>\n",
       "    <tr>\n",
       "      <th>0</th>\n",
       "      <td>0.844550</td>\n",
       "      <td>0.924594</td>\n",
       "      <td>0.882761</td>\n",
       "      <td>2891.00000</td>\n",
       "    </tr>\n",
       "    <tr>\n",
       "      <th>1</th>\n",
       "      <td>0.717617</td>\n",
       "      <td>0.529637</td>\n",
       "      <td>0.609461</td>\n",
       "      <td>1046.00000</td>\n",
       "    </tr>\n",
       "    <tr>\n",
       "      <th>accuracy</th>\n",
       "      <td>0.819660</td>\n",
       "      <td>0.819660</td>\n",
       "      <td>0.819660</td>\n",
       "      <td>0.81966</td>\n",
       "    </tr>\n",
       "    <tr>\n",
       "      <th>macro avg</th>\n",
       "      <td>0.781083</td>\n",
       "      <td>0.727115</td>\n",
       "      <td>0.746111</td>\n",
       "      <td>3937.00000</td>\n",
       "    </tr>\n",
       "    <tr>\n",
       "      <th>weighted avg</th>\n",
       "      <td>0.810826</td>\n",
       "      <td>0.819660</td>\n",
       "      <td>0.810149</td>\n",
       "      <td>3937.00000</td>\n",
       "    </tr>\n",
       "  </tbody>\n",
       "</table>\n",
       "</div>"
      ],
      "text/plain": [
       "              precision    recall  f1-score     support\n",
       "0              0.844550  0.924594  0.882761  2891.00000\n",
       "1              0.717617  0.529637  0.609461  1046.00000\n",
       "accuracy       0.819660  0.819660  0.819660     0.81966\n",
       "macro avg      0.781083  0.727115  0.746111  3937.00000\n",
       "weighted avg   0.810826  0.819660  0.810149  3937.00000"
      ]
     },
     "execution_count": 79,
     "metadata": {},
     "output_type": "execute_result"
    }
   ],
   "source": [
    "y_pred = knn.predict(X_train)\n",
    "pd.DataFrame(classification_report(y_train, y_pred, output_dict=True)).T"
   ]
  },
  {
   "cell_type": "markdown",
   "id": "5af2a98f",
   "metadata": {},
   "source": [
    "This is the best initial result yet, so I will iterate through n_neighbors to give me an idea of how this model might perform with tweaked hyperparamters."
   ]
  },
  {
   "cell_type": "code",
   "execution_count": 80,
   "id": "0a963a76",
   "metadata": {},
   "outputs": [],
   "source": [
    "def knn_results(X_train, y_train, X_validate, y_validate):\n",
    "    results = {}\n",
    "    K = []\n",
    "    Train_accuracy = []\n",
    "    Validate_accuracy = []\n",
    "    Train_Validate_diff = []\n",
    "    for x in range(1,21):\n",
    "        knn = KNeighborsClassifier(n_neighbors=x, weights='uniform')\n",
    "        knn.fit(X_train, y_train)\n",
    "        y_pred = knn.predict(X_train)\n",
    "        K.append(x)\n",
    "        Train_accuracy.append(knn.score(X_train, y_train))\n",
    "        Validate_accuracy.append(knn.score(X_validate, y_validate))\n",
    "        Train_Validate_diff.append(knn.score(X_train, y_train) - knn.score(X_validate, y_validate))\n",
    "    results = {\"K\" : K, \"Train_accuracy\" : Train_accuracy, \"Validate_accuracy\" : Validate_accuracy, \"Train_Validate_diff\" : Train_Validate_diff}\n",
    "    return results\n",
    "\n",
    "results_dict = knn_results(X_train, y_train, X_validate, y_validate)\n"
   ]
  },
  {
   "cell_type": "code",
   "execution_count": 81,
   "id": "344263fd",
   "metadata": {},
   "outputs": [
    {
     "data": {
      "text/html": [
       "<div>\n",
       "<style scoped>\n",
       "    .dataframe tbody tr th:only-of-type {\n",
       "        vertical-align: middle;\n",
       "    }\n",
       "\n",
       "    .dataframe tbody tr th {\n",
       "        vertical-align: top;\n",
       "    }\n",
       "\n",
       "    .dataframe thead th {\n",
       "        text-align: right;\n",
       "    }\n",
       "</style>\n",
       "<table border=\"1\" class=\"dataframe\">\n",
       "  <thead>\n",
       "    <tr style=\"text-align: right;\">\n",
       "      <th></th>\n",
       "      <th>K</th>\n",
       "      <th>Train_accuracy</th>\n",
       "      <th>Validate_accuracy</th>\n",
       "      <th>Train_Validate_diff</th>\n",
       "    </tr>\n",
       "  </thead>\n",
       "  <tbody>\n",
       "    <tr>\n",
       "      <th>19</th>\n",
       "      <td>20</td>\n",
       "      <td>0.786894</td>\n",
       "      <td>0.794431</td>\n",
       "      <td>-0.007538</td>\n",
       "    </tr>\n",
       "    <tr>\n",
       "      <th>18</th>\n",
       "      <td>19</td>\n",
       "      <td>0.786894</td>\n",
       "      <td>0.794431</td>\n",
       "      <td>-0.007538</td>\n",
       "    </tr>\n",
       "    <tr>\n",
       "      <th>16</th>\n",
       "      <td>17</td>\n",
       "      <td>0.789688</td>\n",
       "      <td>0.792654</td>\n",
       "      <td>-0.002966</td>\n",
       "    </tr>\n",
       "    <tr>\n",
       "      <th>17</th>\n",
       "      <td>18</td>\n",
       "      <td>0.787148</td>\n",
       "      <td>0.791469</td>\n",
       "      <td>-0.004322</td>\n",
       "    </tr>\n",
       "    <tr>\n",
       "      <th>15</th>\n",
       "      <td>16</td>\n",
       "      <td>0.791974</td>\n",
       "      <td>0.789100</td>\n",
       "      <td>0.002874</td>\n",
       "    </tr>\n",
       "    <tr>\n",
       "      <th>6</th>\n",
       "      <td>7</td>\n",
       "      <td>0.815596</td>\n",
       "      <td>0.788507</td>\n",
       "      <td>0.027089</td>\n",
       "    </tr>\n",
       "    <tr>\n",
       "      <th>14</th>\n",
       "      <td>15</td>\n",
       "      <td>0.796292</td>\n",
       "      <td>0.787915</td>\n",
       "      <td>0.008377</td>\n",
       "    </tr>\n",
       "    <tr>\n",
       "      <th>4</th>\n",
       "      <td>5</td>\n",
       "      <td>0.819660</td>\n",
       "      <td>0.787322</td>\n",
       "      <td>0.032337</td>\n",
       "    </tr>\n",
       "    <tr>\n",
       "      <th>8</th>\n",
       "      <td>9</td>\n",
       "      <td>0.808992</td>\n",
       "      <td>0.787322</td>\n",
       "      <td>0.021669</td>\n",
       "    </tr>\n",
       "    <tr>\n",
       "      <th>13</th>\n",
       "      <td>14</td>\n",
       "      <td>0.795530</td>\n",
       "      <td>0.787322</td>\n",
       "      <td>0.008207</td>\n",
       "    </tr>\n",
       "    <tr>\n",
       "      <th>5</th>\n",
       "      <td>6</td>\n",
       "      <td>0.813818</td>\n",
       "      <td>0.786730</td>\n",
       "      <td>0.027088</td>\n",
       "    </tr>\n",
       "    <tr>\n",
       "      <th>7</th>\n",
       "      <td>8</td>\n",
       "      <td>0.806198</td>\n",
       "      <td>0.786730</td>\n",
       "      <td>0.019468</td>\n",
       "    </tr>\n",
       "    <tr>\n",
       "      <th>11</th>\n",
       "      <td>12</td>\n",
       "      <td>0.799848</td>\n",
       "      <td>0.785545</td>\n",
       "      <td>0.014303</td>\n",
       "    </tr>\n",
       "    <tr>\n",
       "      <th>12</th>\n",
       "      <td>13</td>\n",
       "      <td>0.795784</td>\n",
       "      <td>0.784953</td>\n",
       "      <td>0.010831</td>\n",
       "    </tr>\n",
       "    <tr>\n",
       "      <th>10</th>\n",
       "      <td>11</td>\n",
       "      <td>0.801118</td>\n",
       "      <td>0.783768</td>\n",
       "      <td>0.017350</td>\n",
       "    </tr>\n",
       "    <tr>\n",
       "      <th>9</th>\n",
       "      <td>10</td>\n",
       "      <td>0.801880</td>\n",
       "      <td>0.783768</td>\n",
       "      <td>0.018112</td>\n",
       "    </tr>\n",
       "    <tr>\n",
       "      <th>3</th>\n",
       "      <td>4</td>\n",
       "      <td>0.820930</td>\n",
       "      <td>0.780806</td>\n",
       "      <td>0.040124</td>\n",
       "    </tr>\n",
       "    <tr>\n",
       "      <th>2</th>\n",
       "      <td>3</td>\n",
       "      <td>0.843536</td>\n",
       "      <td>0.770142</td>\n",
       "      <td>0.073394</td>\n",
       "    </tr>\n",
       "    <tr>\n",
       "      <th>1</th>\n",
       "      <td>2</td>\n",
       "      <td>0.857252</td>\n",
       "      <td>0.765403</td>\n",
       "      <td>0.091849</td>\n",
       "    </tr>\n",
       "    <tr>\n",
       "      <th>0</th>\n",
       "      <td>1</td>\n",
       "      <td>0.997460</td>\n",
       "      <td>0.725711</td>\n",
       "      <td>0.271749</td>\n",
       "    </tr>\n",
       "  </tbody>\n",
       "</table>\n",
       "</div>"
      ],
      "text/plain": [
       "     K  Train_accuracy  Validate_accuracy  Train_Validate_diff\n",
       "19  20        0.786894           0.794431            -0.007538\n",
       "18  19        0.786894           0.794431            -0.007538\n",
       "16  17        0.789688           0.792654            -0.002966\n",
       "17  18        0.787148           0.791469            -0.004322\n",
       "15  16        0.791974           0.789100             0.002874\n",
       "6    7        0.815596           0.788507             0.027089\n",
       "14  15        0.796292           0.787915             0.008377\n",
       "4    5        0.819660           0.787322             0.032337\n",
       "8    9        0.808992           0.787322             0.021669\n",
       "13  14        0.795530           0.787322             0.008207\n",
       "5    6        0.813818           0.786730             0.027088\n",
       "7    8        0.806198           0.786730             0.019468\n",
       "11  12        0.799848           0.785545             0.014303\n",
       "12  13        0.795784           0.784953             0.010831\n",
       "10  11        0.801118           0.783768             0.017350\n",
       "9   10        0.801880           0.783768             0.018112\n",
       "3    4        0.820930           0.780806             0.040124\n",
       "2    3        0.843536           0.770142             0.073394\n",
       "1    2        0.857252           0.765403             0.091849\n",
       "0    1        0.997460           0.725711             0.271749"
      ]
     },
     "execution_count": 81,
     "metadata": {},
     "output_type": "execute_result"
    }
   ],
   "source": [
    "knn_df = pd.DataFrame(results_dict)\n",
    "knn_df.sort_values(\"Validate_accuracy\", ascending=False)"
   ]
  },
  {
   "cell_type": "markdown",
   "id": "72c7b77a",
   "metadata": {},
   "source": [
    "My initial excitement about this model has faded upon seeing the validation accuracy which is under 80% across all results."
   ]
  },
  {
   "cell_type": "markdown",
   "id": "1586c2a9",
   "metadata": {},
   "source": [
    "### Logistic Regression\n",
    "\n",
    "I will start with a single model using standard hyperparameters and tweak it later."
   ]
  },
  {
   "cell_type": "code",
   "execution_count": 82,
   "id": "b9350481",
   "metadata": {},
   "outputs": [
    {
     "data": {
      "text/plain": [
       "LogisticRegression(max_iter=200, random_state=123)"
      ]
     },
     "execution_count": 82,
     "metadata": {},
     "output_type": "execute_result"
    }
   ],
   "source": [
    "# Using standard hyperparameters to get an idea of the accuracy of logistic regression.\n",
    "logit = LogisticRegression(random_state=123,max_iter=200,)\n",
    "logit.fit(X_train, y_train)"
   ]
  },
  {
   "cell_type": "code",
   "execution_count": 83,
   "id": "6dfd3d0a",
   "metadata": {},
   "outputs": [
    {
     "name": "stdout",
     "output_type": "stream",
     "text": [
      "Accuracy of Logistic Regression classifier on training set: 0.7990855981711963\n",
      "Accuracy of Logistic Regression classifier on validate set: 0.8104265402843602\n"
     ]
    }
   ],
   "source": [
    "# Scoring the model on the train dataset\n",
    "print(f'Accuracy of Logistic Regression classifier on training set: {logit.score(X_train, y_train)}')\n",
    "print(f'Accuracy of Logistic Regression classifier on validate set: {logit.score(X_validate, y_validate)}')"
   ]
  },
  {
   "cell_type": "code",
   "execution_count": 84,
   "id": "bee13a2c",
   "metadata": {},
   "outputs": [
    {
     "data": {
      "text/plain": [
       "LogisticRegression(penalty='l1', random_state=123, solver='liblinear')"
      ]
     },
     "execution_count": 84,
     "metadata": {},
     "output_type": "execute_result"
    }
   ],
   "source": [
    "# Using adjusted hyperparameters shown to work well in past to see how it turns out.  Will iterate more later if needed..\n",
    "logit = LogisticRegression(random_state=123, penalty='l1', solver = \"liblinear\")\n",
    "logit.fit(X_train, y_train)"
   ]
  },
  {
   "cell_type": "code",
   "execution_count": 85,
   "id": "ac7c62eb",
   "metadata": {},
   "outputs": [
    {
     "name": "stdout",
     "output_type": "stream",
     "text": [
      "Accuracy of Logistic Regression classifier on training set: 0.8011176022352045\n",
      "Accuracy of Logistic Regression classifier on validate set: 0.8074644549763034\n"
     ]
    }
   ],
   "source": [
    "# Scoring the model with adjusted hyperparamters on the train dataset\n",
    "print(f'Accuracy of Logistic Regression classifier on training set: {logit.score(X_train, y_train)}')\n",
    "print(f'Accuracy of Logistic Regression classifier on validate set: {logit.score(X_validate, y_validate)}')"
   ]
  },
  {
   "cell_type": "markdown",
   "id": "b49f6083",
   "metadata": {},
   "source": [
    "Overall results seem to be about normal, but on the low end running about 80% accuracy on train and 80.6% accuracy on validate."
   ]
  },
  {
   "cell_type": "markdown",
   "id": "7cf98569",
   "metadata": {},
   "source": [
    "## Additional models tested"
   ]
  },
  {
   "cell_type": "markdown",
   "id": "c999264c",
   "metadata": {},
   "source": [
    "### Naïve Bayes\n",
    "\n",
    "Naïve Bayes is an algorithm that works better with categorical variables than numerical ones. Additionally, if there is strong independence between features then it can do suprisingly well with less training data than other ML algorithms. That said, it doesn't work great in all situations especially if there is not true independence between features.\n",
    "\n",
    "Just to see, I want to try it here. I will start with a single model using standard hyperparameters and tweak it later if necessary.\n",
    "\n",
    "For this trial, I will be using both from Gaussian and multinomial Naive Bayes models. I recognize that multinomial probably won't work well here, but I'm curious and want to try."
   ]
  },
  {
   "cell_type": "code",
   "execution_count": 86,
   "id": "de04977d",
   "metadata": {},
   "outputs": [],
   "source": [
    "from sklearn.naive_bayes import GaussianNB\n",
    "from sklearn.naive_bayes import MultinomialNB"
   ]
  },
  {
   "cell_type": "code",
   "execution_count": 87,
   "id": "ebf5af25",
   "metadata": {},
   "outputs": [
    {
     "data": {
      "text/plain": [
       "MultinomialNB()"
      ]
     },
     "execution_count": 87,
     "metadata": {},
     "output_type": "execute_result"
    }
   ],
   "source": [
    "# Creating and training the Gaussian Naive Bayes model.\n",
    "gauss_nb = GaussianNB()\n",
    "gauss_nb.fit(X_train, y_train)\n",
    "\n",
    "# Creating and training the Multinomial Naive Bayes model.\n",
    "multi_nb = MultinomialNB()\n",
    "multi_nb.fit(X_train, y_train)"
   ]
  },
  {
   "cell_type": "code",
   "execution_count": 88,
   "id": "f912c4df",
   "metadata": {},
   "outputs": [
    {
     "name": "stdout",
     "output_type": "stream",
     "text": [
      "Accuracy of Guassian Naive Bayes classifier on training set: 0.7401574803149606\n",
      "Accuracy of Guassian Naive Bayes classifier on validate set: 0.7494075829383886\n",
      "Accuracy of Multinomial Naive Bayes classifier on training set: 0.6616713233426467\n",
      "Accuracy of Multinomial Naive Bayes classifier on validate set: 0.681872037914692\n"
     ]
    }
   ],
   "source": [
    "# Scoring the Gaussian model with standard hyperparameters on the train dataset\n",
    "print(f'Accuracy of Guassian Naive Bayes classifier on training set: {gauss_nb.score(X_train, y_train)}')\n",
    "print(f'Accuracy of Guassian Naive Bayes classifier on validate set: {gauss_nb.score(X_validate, y_validate)}')\n",
    "\n",
    "# Scoring the Multinomial model with standard hyperparameters on the train dataset\n",
    "print(f'Accuracy of Multinomial Naive Bayes classifier on training set: {multi_nb.score(X_train, y_train)}')\n",
    "print(f'Accuracy of Multinomial Naive Bayes classifier on validate set: {multi_nb.score(X_validate, y_validate)}')"
   ]
  },
  {
   "cell_type": "markdown",
   "id": "064e45f8",
   "metadata": {},
   "source": [
    "Both perform very poorly, as such I won't be pursuing them further."
   ]
  },
  {
   "cell_type": "markdown",
   "id": "3c392c24",
   "metadata": {},
   "source": [
    "### Support Vector Machines (SVM)\n",
    "\n",
    "Support Vector machines is another classification model I want to try\n",
    "\n",
    "For this trial, I will be using both a linear and an rbf kernel to see how they each perform. All other hyperparameters will be kept at defaults."
   ]
  },
  {
   "cell_type": "code",
   "execution_count": 89,
   "id": "c1059f1d",
   "metadata": {},
   "outputs": [],
   "source": [
    "from sklearn.svm import SVC"
   ]
  },
  {
   "cell_type": "code",
   "execution_count": 90,
   "id": "ffb1ee75",
   "metadata": {},
   "outputs": [
    {
     "data": {
      "text/plain": [
       "SVC()"
      ]
     },
     "execution_count": 90,
     "metadata": {},
     "output_type": "execute_result"
    }
   ],
   "source": [
    "# Creating and training the linear SVM model.\n",
    "linear_svm = SVC(kernel = 'linear')\n",
    "linear_svm.fit(X_train, y_train)\n",
    "\n",
    "# Creating and training the rbf SVM model.\n",
    "rbf_svm = SVC(kernel = 'rbf')\n",
    "rbf_svm.fit(X_train, y_train)"
   ]
  },
  {
   "cell_type": "code",
   "execution_count": 91,
   "id": "2a5d9d89",
   "metadata": {},
   "outputs": [
    {
     "name": "stdout",
     "output_type": "stream",
     "text": [
      "Accuracy of linear SVM classifier on training set: 0.7912115824231648\n",
      "Accuracy of linear SVM classifier on validate set: 0.7956161137440758\n",
      "Accuracy of rbf SVM classifier on training set: 0.7343154686309372\n",
      "Accuracy of rbf SVM classifier on validate set: 0.7340047393364929\n"
     ]
    }
   ],
   "source": [
    "# Scoring the linear SVM model with standard hyperparameters on the train dataset\n",
    "print(f'Accuracy of linear SVM classifier on training set: {linear_svm.score(X_train, y_train)}')\n",
    "print(f'Accuracy of linear SVM classifier on validate set: {linear_svm.score(X_validate, y_validate)}')\n",
    "\n",
    "# Scoring the rbf SVM model with standard hyperparameters on the train dataset\n",
    "print(f'Accuracy of rbf SVM classifier on training set: {rbf_svm.score(X_train, y_train)}')\n",
    "print(f'Accuracy of rbf SVM classifier on validate set: {rbf_svm.score(X_validate, y_validate)}')"
   ]
  },
  {
   "cell_type": "markdown",
   "id": "b0b4ba3d",
   "metadata": {},
   "source": [
    "Results for the linear SVM model were slightly worse than other models and results for the rbf SVM model were essentially baseline.\n",
    "This was a good exercise but I won't continue to follow SVM models here especially since SVM models take a VERY long time to run with this data.."
   ]
  },
  {
   "cell_type": "markdown",
   "id": "aa8bb794",
   "metadata": {},
   "source": [
    "**Conclusion of additional models:** Neither of the additional two models produced better results than the initial four, so I will not pursue them further."
   ]
  },
  {
   "cell_type": "markdown",
   "id": "91d6df05",
   "metadata": {},
   "source": [
    "Before choosing a final model or two to tweak hyperparamters on, I want to implement some light feature engineering to see if removing less useful data clears up things and results in better predictive models.\n",
    "\n",
    "As such I'm going to rerun the original four with total_charges, 'streaming_movies_Yes', 'device_protection_Yes' removed."
   ]
  },
  {
   "cell_type": "code",
   "execution_count": 92,
   "id": "c0aa1768",
   "metadata": {},
   "outputs": [],
   "source": [
    "# Define X and y train\n",
    "X_train_engineered = train.drop(columns=['churn_Yes', 'customer_id', 'total_charges', 'streaming_movies_Yes', 'device_protection_Yes'])\n",
    "y_train_engineered = train.churn_Yes\n",
    "\n",
    "# Define X and y validate\n",
    "X_validate_engineered = validate.drop(columns=['churn_Yes', 'customer_id', 'total_charges', 'streaming_movies_Yes', 'device_protection_Yes'])\n",
    "y_validate_engineered = validate.churn_Yes"
   ]
  },
  {
   "cell_type": "code",
   "execution_count": 93,
   "id": "71368225",
   "metadata": {},
   "outputs": [
    {
     "name": "stdout",
     "output_type": "stream",
     "text": [
      "Accuracy of Decision Tree classifier on training set: 80.24%\n",
      "Accuracy of Decision Tree classifier on validate set: 80.57%\n"
     ]
    }
   ],
   "source": [
    "# Create the decision tree model\n",
    "clf = DecisionTreeClassifier(max_depth=6, random_state=123)\n",
    "\n",
    "# Fit the model to the train dataset\n",
    "clf.fit(X_train_engineered, y_train_engineered)\n",
    "\n",
    "print(f'Accuracy of Decision Tree classifier on training set: {round(clf.score(X_train_engineered, y_train_engineered),4)*100}%')\n",
    "print(f'Accuracy of Decision Tree classifier on validate set: {round(clf.score(X_validate_engineered, y_validate_engineered),4)*100}%')"
   ]
  },
  {
   "cell_type": "markdown",
   "id": "bfccd1ee",
   "metadata": {},
   "source": [
    "best results were with total_charges and streaming_movies_Yes removed"
   ]
  },
  {
   "cell_type": "code",
   "execution_count": 94,
   "id": "eb9f5580",
   "metadata": {},
   "outputs": [
    {
     "name": "stdout",
     "output_type": "stream",
     "text": [
      "Accuracy of random forest classifier on training set: 82.47%\n",
      "Accuracy of random forest classifier on validate set: 80.75%\n"
     ]
    }
   ],
   "source": [
    "rf = RandomForestClassifier(max_depth=8, random_state=123, min_samples_leaf = 2)\n",
    "rf.fit(X_train_engineered, y_train_engineered)\n",
    "\n",
    "print(f'Accuracy of random forest classifier on training set: {round(rf.score(X_train_engineered, y_train_engineered),4)*100}%')\n",
    "print(f'Accuracy of random forest classifier on validate set: {round(rf.score(X_validate_engineered, y_validate_engineered),4)*100}%')"
   ]
  },
  {
   "cell_type": "code",
   "execution_count": 95,
   "id": "c5a0ca9a",
   "metadata": {},
   "outputs": [
    {
     "name": "stdout",
     "output_type": "stream",
     "text": [
      "Accuracy of knn classifier on training set: 79.71000000000001%\n",
      "Accuracy of knn classifier on validate set: 79.44%\n"
     ]
    }
   ],
   "source": [
    "# Using standard hyperparameters to get an idea of the accuracy of KNN model.  Will iterate more later.\n",
    "knn = KNeighborsClassifier(n_neighbors=16, weights='uniform')\n",
    "knn.fit(X_train_engineered, y_train_engineered)\n",
    "\n",
    "print(f'Accuracy of knn classifier on training set: {round(knn.score(X_train_engineered, y_train_engineered),4)*100}%')\n",
    "print(f'Accuracy of knn classifier on validate set: {round(knn.score(X_validate_engineered, y_validate_engineered),4)*100}%')"
   ]
  },
  {
   "cell_type": "code",
   "execution_count": 96,
   "id": "7b86eb46",
   "metadata": {},
   "outputs": [
    {
     "name": "stdout",
     "output_type": "stream",
     "text": [
      "Accuracy of Logistic Regression classifier on training set: 0.7985775971551943\n",
      "Accuracy of Logistic Regression classifier on validate set: 0.8033175355450237\n"
     ]
    }
   ],
   "source": [
    "# Using standard hyperparameters to get an idea of the accuracy of logistic regression.\n",
    "logit = LogisticRegression(random_state=123,max_iter=200, penalty='l1', solver = \"liblinear\")\n",
    "logit.fit(X_train_engineered, y_train_engineered)\n",
    "\n",
    "# Scoring the model on the train dataset\n",
    "print(f'Accuracy of Logistic Regression classifier on training set: {logit.score(X_train_engineered, y_train_engineered)}')\n",
    "print(f'Accuracy of Logistic Regression classifier on validate set: {logit.score(X_validate_engineered, y_validate_engineered)}')"
   ]
  },
  {
   "cell_type": "markdown",
   "id": "f53838ba",
   "metadata": {},
   "source": [
    "**Conclusions:** This feature engineering didn't seem to really help all that much.\n",
    "\n",
    "The best performing model thus far was the Random Forest model without the above feature engineering, using a max_depth of 8 and min_samples_leaf of 2 which resulted in Validate accuracy of a 81.4% and Train accuracy of 82.7%. I will thus choose this model going forward and do further hyperparameter tuning and feature engineering."
   ]
  },
  {
   "cell_type": "markdown",
   "id": "1d1ef47c",
   "metadata": {},
   "source": [
    "### Hyperparameter Tuning and Feature Engineering for Random Forest Model\n",
    "\n",
    "I will write a function that iterates through multipal hyperparameters as well as different features being dropped to determine the best performing version of this model."
   ]
  },
  {
   "cell_type": "code",
   "execution_count": 98,
   "id": "a420fb75",
   "metadata": {},
   "outputs": [],
   "source": [
    "def rf_super(X_train, y_train, X_validate, y_validate):\n",
    "    results = {}\n",
    "    max_depth = []\n",
    "    min_samples_leaf = []\n",
    "    n_estimators = []\n",
    "    criterion = []\n",
    "    min_samples_split = []\n",
    "    \n",
    "    Train_accuracy = []\n",
    "    Validate_accuracy = []\n",
    "    Train_Validate_diff = []\n",
    "    features_dropped = []\n",
    "    \n",
    "    for depth in range(1,16):\n",
    "        for leaf in range(1,8):\n",
    "            for split in range(2, 10):\n",
    "                for tree in [100, 500, 1000]:\n",
    "                    for crit in ['gini', 'entropy']:\n",
    "\n",
    "                        rf = RandomForestClassifier(max_depth=depth, min_samples_split=split, random_state=123, \n",
    "                                                    min_samples_leaf = leaf, n_estimators = tree, criterion= crit)\n",
    "                        rf.fit(X_train, y_train)\n",
    "\n",
    "                        max_depth.append(depth)\n",
    "                        min_samples_leaf.append(leaf)\n",
    "                        min_samples_split.append(split)\n",
    "                        n_estimators.append(tree)\n",
    "                        criterion.append(crit)\n",
    "\n",
    "                        Train_accuracy.append(rf.score(X_train, y_train))\n",
    "                        Validate_accuracy.append(rf.score(X_validate, y_validate))\n",
    "                        Train_Validate_diff.append(rf.score(X_train, y_train) - rf.score(X_validate, y_validate))\n",
    "    \n",
    "    results = {\"max_depth\": max_depth, \"min_samples_leaf\" : min_samples_leaf, \"min_samples_split\" : min_samples_split,\n",
    "               \"n_estimators\" : n_estimators, \"criterion\" : criterion, \"Train_accuracy\" : Train_accuracy, \n",
    "               \"Validate_accuracy\" : Validate_accuracy, \"Train_Validate_diff\" : Train_Validate_diff}\n",
    "    \n",
    "    return results\n",
    "\n",
    "# results_dict = rf_super(X_train, y_train, X_validate, y_validate)\n"
   ]
  },
  {
   "cell_type": "code",
   "execution_count": 99,
   "id": "41dd21fa",
   "metadata": {},
   "outputs": [],
   "source": [
    "# This function took about 2 hours to run through.  So for fear of losing this information and having to rerun it again\n",
    "# I'm going to export it to csv to have as a reference when needed.\n",
    "\n",
    "# rf_super_results = pd.DataFrame(results_dict)\n",
    "# rf_super_results.to_csv('rf_super_results.csv', index=False)\n",
    "\n",
    "# Loading the csv to display here\n",
    "rf_super_results = pd.read_csv('rf_super_results.csv')"
   ]
  },
  {
   "cell_type": "code",
   "execution_count": 100,
   "id": "215476aa",
   "metadata": {},
   "outputs": [
    {
     "data": {
      "text/html": [
       "<div>\n",
       "<style scoped>\n",
       "    .dataframe tbody tr th:only-of-type {\n",
       "        vertical-align: middle;\n",
       "    }\n",
       "\n",
       "    .dataframe tbody tr th {\n",
       "        vertical-align: top;\n",
       "    }\n",
       "\n",
       "    .dataframe thead th {\n",
       "        text-align: right;\n",
       "    }\n",
       "</style>\n",
       "<table border=\"1\" class=\"dataframe\">\n",
       "  <thead>\n",
       "    <tr style=\"text-align: right;\">\n",
       "      <th></th>\n",
       "      <th>max_depth</th>\n",
       "      <th>min_samples_leaf</th>\n",
       "      <th>min_samples_split</th>\n",
       "      <th>n_estimators</th>\n",
       "      <th>criterion</th>\n",
       "      <th>Train_accuracy</th>\n",
       "      <th>Validate_accuracy</th>\n",
       "      <th>Train_Validate_diff</th>\n",
       "    </tr>\n",
       "  </thead>\n",
       "  <tbody>\n",
       "    <tr>\n",
       "      <th>3890</th>\n",
       "      <td>12</td>\n",
       "      <td>5</td>\n",
       "      <td>2</td>\n",
       "      <td>500</td>\n",
       "      <td>gini</td>\n",
       "      <td>0.853188</td>\n",
       "      <td>0.815166</td>\n",
       "      <td>0.038022</td>\n",
       "    </tr>\n",
       "    <tr>\n",
       "      <th>3896</th>\n",
       "      <td>12</td>\n",
       "      <td>5</td>\n",
       "      <td>3</td>\n",
       "      <td>500</td>\n",
       "      <td>gini</td>\n",
       "      <td>0.853188</td>\n",
       "      <td>0.815166</td>\n",
       "      <td>0.038022</td>\n",
       "    </tr>\n",
       "    <tr>\n",
       "      <th>3902</th>\n",
       "      <td>12</td>\n",
       "      <td>5</td>\n",
       "      <td>4</td>\n",
       "      <td>500</td>\n",
       "      <td>gini</td>\n",
       "      <td>0.853188</td>\n",
       "      <td>0.815166</td>\n",
       "      <td>0.038022</td>\n",
       "    </tr>\n",
       "    <tr>\n",
       "      <th>3908</th>\n",
       "      <td>12</td>\n",
       "      <td>5</td>\n",
       "      <td>5</td>\n",
       "      <td>500</td>\n",
       "      <td>gini</td>\n",
       "      <td>0.853188</td>\n",
       "      <td>0.815166</td>\n",
       "      <td>0.038022</td>\n",
       "    </tr>\n",
       "    <tr>\n",
       "      <th>3914</th>\n",
       "      <td>12</td>\n",
       "      <td>5</td>\n",
       "      <td>6</td>\n",
       "      <td>500</td>\n",
       "      <td>gini</td>\n",
       "      <td>0.853188</td>\n",
       "      <td>0.815166</td>\n",
       "      <td>0.038022</td>\n",
       "    </tr>\n",
       "    <tr>\n",
       "      <th>3920</th>\n",
       "      <td>12</td>\n",
       "      <td>5</td>\n",
       "      <td>7</td>\n",
       "      <td>500</td>\n",
       "      <td>gini</td>\n",
       "      <td>0.853188</td>\n",
       "      <td>0.815166</td>\n",
       "      <td>0.038022</td>\n",
       "    </tr>\n",
       "    <tr>\n",
       "      <th>3926</th>\n",
       "      <td>12</td>\n",
       "      <td>5</td>\n",
       "      <td>8</td>\n",
       "      <td>500</td>\n",
       "      <td>gini</td>\n",
       "      <td>0.853188</td>\n",
       "      <td>0.815166</td>\n",
       "      <td>0.038022</td>\n",
       "    </tr>\n",
       "    <tr>\n",
       "      <th>3932</th>\n",
       "      <td>12</td>\n",
       "      <td>5</td>\n",
       "      <td>9</td>\n",
       "      <td>500</td>\n",
       "      <td>gini</td>\n",
       "      <td>0.853188</td>\n",
       "      <td>0.815166</td>\n",
       "      <td>0.038022</td>\n",
       "    </tr>\n",
       "    <tr>\n",
       "      <th>3843</th>\n",
       "      <td>12</td>\n",
       "      <td>4</td>\n",
       "      <td>2</td>\n",
       "      <td>500</td>\n",
       "      <td>entropy</td>\n",
       "      <td>0.861062</td>\n",
       "      <td>0.815166</td>\n",
       "      <td>0.045896</td>\n",
       "    </tr>\n",
       "    <tr>\n",
       "      <th>3849</th>\n",
       "      <td>12</td>\n",
       "      <td>4</td>\n",
       "      <td>3</td>\n",
       "      <td>500</td>\n",
       "      <td>entropy</td>\n",
       "      <td>0.861062</td>\n",
       "      <td>0.815166</td>\n",
       "      <td>0.045896</td>\n",
       "    </tr>\n",
       "    <tr>\n",
       "      <th>3855</th>\n",
       "      <td>12</td>\n",
       "      <td>4</td>\n",
       "      <td>4</td>\n",
       "      <td>500</td>\n",
       "      <td>entropy</td>\n",
       "      <td>0.861062</td>\n",
       "      <td>0.815166</td>\n",
       "      <td>0.045896</td>\n",
       "    </tr>\n",
       "    <tr>\n",
       "      <th>3861</th>\n",
       "      <td>12</td>\n",
       "      <td>4</td>\n",
       "      <td>5</td>\n",
       "      <td>500</td>\n",
       "      <td>entropy</td>\n",
       "      <td>0.861062</td>\n",
       "      <td>0.815166</td>\n",
       "      <td>0.045896</td>\n",
       "    </tr>\n",
       "    <tr>\n",
       "      <th>3867</th>\n",
       "      <td>12</td>\n",
       "      <td>4</td>\n",
       "      <td>6</td>\n",
       "      <td>500</td>\n",
       "      <td>entropy</td>\n",
       "      <td>0.861062</td>\n",
       "      <td>0.815166</td>\n",
       "      <td>0.045896</td>\n",
       "    </tr>\n",
       "    <tr>\n",
       "      <th>3873</th>\n",
       "      <td>12</td>\n",
       "      <td>4</td>\n",
       "      <td>7</td>\n",
       "      <td>500</td>\n",
       "      <td>entropy</td>\n",
       "      <td>0.861062</td>\n",
       "      <td>0.815166</td>\n",
       "      <td>0.045896</td>\n",
       "    </tr>\n",
       "    <tr>\n",
       "      <th>3879</th>\n",
       "      <td>12</td>\n",
       "      <td>4</td>\n",
       "      <td>8</td>\n",
       "      <td>500</td>\n",
       "      <td>entropy</td>\n",
       "      <td>0.861062</td>\n",
       "      <td>0.815166</td>\n",
       "      <td>0.045896</td>\n",
       "    </tr>\n",
       "  </tbody>\n",
       "</table>\n",
       "</div>"
      ],
      "text/plain": [
       "      max_depth  min_samples_leaf  min_samples_split  n_estimators criterion  \\\n",
       "3890         12                 5                  2           500      gini   \n",
       "3896         12                 5                  3           500      gini   \n",
       "3902         12                 5                  4           500      gini   \n",
       "3908         12                 5                  5           500      gini   \n",
       "3914         12                 5                  6           500      gini   \n",
       "3920         12                 5                  7           500      gini   \n",
       "3926         12                 5                  8           500      gini   \n",
       "3932         12                 5                  9           500      gini   \n",
       "3843         12                 4                  2           500   entropy   \n",
       "3849         12                 4                  3           500   entropy   \n",
       "3855         12                 4                  4           500   entropy   \n",
       "3861         12                 4                  5           500   entropy   \n",
       "3867         12                 4                  6           500   entropy   \n",
       "3873         12                 4                  7           500   entropy   \n",
       "3879         12                 4                  8           500   entropy   \n",
       "\n",
       "      Train_accuracy  Validate_accuracy  Train_Validate_diff  \n",
       "3890        0.853188           0.815166             0.038022  \n",
       "3896        0.853188           0.815166             0.038022  \n",
       "3902        0.853188           0.815166             0.038022  \n",
       "3908        0.853188           0.815166             0.038022  \n",
       "3914        0.853188           0.815166             0.038022  \n",
       "3920        0.853188           0.815166             0.038022  \n",
       "3926        0.853188           0.815166             0.038022  \n",
       "3932        0.853188           0.815166             0.038022  \n",
       "3843        0.861062           0.815166             0.045896  \n",
       "3849        0.861062           0.815166             0.045896  \n",
       "3855        0.861062           0.815166             0.045896  \n",
       "3861        0.861062           0.815166             0.045896  \n",
       "3867        0.861062           0.815166             0.045896  \n",
       "3873        0.861062           0.815166             0.045896  \n",
       "3879        0.861062           0.815166             0.045896  "
      ]
     },
     "execution_count": 100,
     "metadata": {},
     "output_type": "execute_result"
    }
   ],
   "source": [
    "\n",
    "rf_super_results.sort_values(['Validate_accuracy', 'Train_Validate_diff'], ascending = [False, True]).head(15)"
   ]
  },
  {
   "cell_type": "markdown",
   "id": "7cc2326e",
   "metadata": {},
   "source": [
    "It looks like the best models performed with max_depth=12, min_samples_leaf=5, n_estimators=500, criterion='gini', and min_samples_split between 2 and 9."
   ]
  },
  {
   "cell_type": "code",
   "execution_count": 101,
   "id": "a1ed162d",
   "metadata": {},
   "outputs": [
    {
     "name": "stdout",
     "output_type": "stream",
     "text": [
      "Accuracy of random forest classifier on training set: 85.32%\n",
      "Accuracy of random forest classifier on validate set: 81.52000000000001%\n"
     ]
    }
   ],
   "source": [
    "rf = RandomForestClassifier(max_depth=12, min_samples_split=2, min_samples_leaf=5, n_estimators=500, criterion='gini', random_state=123) \n",
    "rf.fit(X_train, y_train)\n",
    "\n",
    "print(f'Accuracy of random forest classifier on training set: {round(rf.score(X_train, y_train),4)*100}%')\n",
    "print(f'Accuracy of random forest classifier on validate set: {round(rf.score(X_validate, y_validate),4)*100}%')"
   ]
  },
  {
   "cell_type": "markdown",
   "id": "56436d61",
   "metadata": {},
   "source": [
    "### Slight feature engineering"
   ]
  },
  {
   "cell_type": "code",
   "execution_count": 102,
   "id": "bc03f8d3",
   "metadata": {},
   "outputs": [
    {
     "name": "stdout",
     "output_type": "stream",
     "text": [
      "Accuracy of random forest classifier on training set: 84.23%\n",
      "Accuracy of random forest classifier on validate set: 81.34%\n"
     ]
    }
   ],
   "source": [
    "# I will attempt dropping 'total_charges', 'device_protection_Yes', 'streaming_movies_Yes' as these were determined above\n",
    "# to be the least useful features and most likely to introduce noise into the model. I want to see if this increases success \n",
    "# rate or not.\n",
    "\n",
    "# Define X and y train\n",
    "X_train_engineered = train.drop(columns=['churn_Yes', 'customer_id', 'total_charges', 'device_protection_Yes', 'streaming_movies_Yes'])\n",
    "y_train_engineered = train.churn_Yes\n",
    "\n",
    "# Define X and y validate\n",
    "X_validate_engineered = validate.drop(columns=['churn_Yes', 'customer_id', 'total_charges', 'device_protection_Yes', 'streaming_movies_Yes'])\n",
    "y_validate_engineered = validate.churn_Yes\n",
    "\n",
    "rf = RandomForestClassifier(max_depth=12, min_samples_split=2, min_samples_leaf=5, n_estimators=500, criterion='gini', random_state=123) \n",
    "rf.fit(X_train_engineered, y_train_engineered)\n",
    "\n",
    "print(f'Accuracy of random forest classifier on training set: {round(rf.score(X_train_engineered, y_train_engineered),4)*100}%')\n",
    "print(f'Accuracy of random forest classifier on validate set: {round(rf.score(X_validate_engineered, y_validate_engineered),4)*100}%')"
   ]
  },
  {
   "cell_type": "code",
   "execution_count": 103,
   "id": "c7af7d9c",
   "metadata": {},
   "outputs": [
    {
     "name": "stdout",
     "output_type": "stream",
     "text": [
      "Accuracy of random forest classifier on training set: 84.3%\n",
      "Accuracy of random forest classifier on validate set: 81.87%\n"
     ]
    }
   ],
   "source": [
    "# Leaving in streaming_movies_Yes\n",
    "\n",
    "# Define X and y train\n",
    "X_train_engineered = train.drop(columns=['churn_Yes', 'customer_id', 'total_charges', 'device_protection_Yes'])\n",
    "y_train_engineered = train.churn_Yes\n",
    "\n",
    "# Define X and y validate\n",
    "X_validate_engineered = validate.drop(columns=['churn_Yes', 'customer_id', 'total_charges', 'device_protection_Yes'])\n",
    "y_validate_engineered = validate.churn_Yes\n",
    "\n",
    "rf = RandomForestClassifier(max_depth=12, min_samples_split=2, min_samples_leaf=5, n_estimators=500, criterion='gini', random_state=123) \n",
    "rf.fit(X_train_engineered, y_train_engineered)\n",
    "\n",
    "print(f'Accuracy of random forest classifier on training set: {round(rf.score(X_train_engineered, y_train_engineered),4)*100}%')\n",
    "print(f'Accuracy of random forest classifier on validate set: {round(rf.score(X_validate_engineered, y_validate_engineered),4)*100}%')"
   ]
  },
  {
   "cell_type": "markdown",
   "id": "126b567b",
   "metadata": {},
   "source": [
    "**Feature Engineering Takeaways:** \n",
    "\n",
    "Dropping total_charges and device_protection_Yes increases my validate accuracy slightly and brings my training accuracy closer to my validate accuracy.  I will drop these features for the final model test."
   ]
  }
 ],
 "metadata": {
  "kernelspec": {
   "display_name": "Python 3 (ipykernel)",
   "language": "python",
   "name": "python3"
  },
  "language_info": {
   "codemirror_mode": {
    "name": "ipython",
    "version": 3
   },
   "file_extension": ".py",
   "mimetype": "text/x-python",
   "name": "python",
   "nbconvert_exporter": "python",
   "pygments_lexer": "ipython3",
   "version": "3.9.7"
  }
 },
 "nbformat": 4,
 "nbformat_minor": 5
}
